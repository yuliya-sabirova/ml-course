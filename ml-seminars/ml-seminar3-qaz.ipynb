{
  "cells": [
    {
      "cell_type": "markdown",
      "metadata": {},
      "source": [
        "# №3 Семинар: Pandas-пен жұмыс істеу практикасы\n",
        "\n",
        "**Курс:** Машиналық оқыту"
      ]
    },
    {
      "cell_type": "markdown",
      "metadata": {},
      "source": [
        "### Студент туралы ақпарат\n",
        "\n",
        "**Аты-жөні:** *<студент осы жерге өз деректерін жазуы керек>*\n",
        "\n",
        "**Тобы:** *<студент осы жерге өз деректерін жазуы керек>*\n",
        "\n",
        "### Семинар мақсаты\n",
        "\n",
        "Дәрісте алынған Pandas кітапханасымен жұмыс істеудің негізгі дағдыларын іс жүзінде бекіту: деректерді жүктеу, бастапқы қарау, жолдар мен бағандарды таңдау және сүзу. Бұл семинар зертханалық жұмысты орындауға дайындық болып табылады."
      ]
    },
    {
      "cell_type": "markdown",
      "metadata": {},
      "source": [
        "---"
      ]
    },
    {
      "cell_type": "markdown",
      "metadata": {},
      "source": [
        "## Қысқаша теориялық анықтама\n",
        "\n",
        "Тапсырмаларды орындауды бастамас бұрын, дәрістің негізгі сәттерін жылдам қайталап өтейік.\n",
        "\n",
        "### Негізгі командалар\n",
        "- **Импорттау:** `import pandas as pd`\n",
        "- **CSV оқу:** `pd.read_csv('file_name.csv')`\n",
        "\n",
        "### Деректерді қарау\n",
        "- `.head(n)`: Алғашқы `n` жолды көрсету.\n",
        "- `.tail(n)`: Соңғы `n` жолды көрсету.\n",
        "- `.info()`: DataFrame құрылымы, деректер түрлері, бос орындар.\n",
        "- `.describe()`: Сандық бағандар үшін статистика.\n",
        "- `.shape`: Кортеж (жолдар саны, бағандар саны).\n",
        "\n",
        "### Бағандармен жұмыс\n",
        "- **Бір бағанды таңдау:** `df['column_name']` (нәтижесі - `Series`)\n",
        "- **Бірнеше бағанды таңдау:** `df[['col1', 'col2']]` (нәтижесі - `DataFrame`)\n",
        "- **Жаңа баған құру:** `df['new_col'] = df['col1'] + df['col2']`\n",
        "- **Бағанды жою:** `df.drop('column_name', axis=1)`\n",
        "\n",
        "### Жолдармен жұмыс\n",
        "- **Индекс белгісі бойынша:** `df.loc['index_label']`\n",
        "- **Сандық позиция бойынша:** `df.iloc[0]`\n",
        "\n",
        "### Сүзу (Фильтрация)\n",
        "- **Бір шарт:** `df[df['column'] > 100]`\n",
        "- **Екі шарт (ЖӘНЕ):** `df[(df['col1'] > 100) & (df['col2'] == 'value')]`\n",
        "- **Екі шарт (НЕМЕСЕ):** `df[(df['col1'] > 100) | (df['col2'] == 'value')]`\n",
        "- **Тізім бойынша сүзу:** `df[df['column'].isin(['value1', 'value2'])]`"
      ]
    },
    {
      "cell_type": "markdown",
      "metadata": {},
      "source": [
        "---"
      ]
    },
    {
      "cell_type": "markdown",
      "metadata": {},
      "source": [
        "## Практикалық тапсырмалар\n",
        "\n",
        "Біз түрлі автомобильдердің сипаттамаларын қамтитын `mpg.csv` деректер жинағымен жұмыс істейтін боламыз.\n",
        "\n",
        "Төменде **қалың** шрифтпен көрсетілген тапсырмаларды орындаңыз."
      ]
    },
    {
      "cell_type": "markdown",
      "metadata": {},
      "source": [
        "#### 1. Pandas-ты `pd` ретінде импорттап, `mpg.csv` деректер жинағын `df` атты DataFrame-ге жүктеңіз."
      ]
    },
    {
      "cell_type": "code",
      "execution_count": null,
      "metadata": {},
      "outputs": [],
      "source": [
        "# СІЗДІҢ КОДЫҢЫЗ ОСЫ ЖЕРДЕ\n"
      ]
    },
    {
      "cell_type": "markdown",
      "metadata": {},
      "source": [
        "#### 2. Деректерді бастапқы қарап шығыңыз.\n",
        "**- Алғашқы 5 жолды шығарыңыз.**\n",
        "**- Датафреймнің өлшемділігін (қанша жол мен баған бар екенін) анықтаңыз.**\n",
        "**- Деректер түрлеріне және бос орындардың болуына назар аудара отырып, датафрейм туралы жалпы ақпаратты шығарыңыз.**"
      ]
    },
    {
      "cell_type": "code",
      "execution_count": null,
      "metadata": {},
      "outputs": [],
      "source": [
        "# Алғашқы 5 жолды шығару\n"
      ]
    },
    {
      "cell_type": "code",
      "execution_count": null,
      "metadata": {},
      "outputs": [],
      "source": [
        "# Өлшемділік\n"
      ]
    },
    {
      "cell_type": "code",
      "execution_count": null,
      "metadata": {},
      "outputs": [],
      "source": [
        "# Жалпы ақпарат\n"
      ]
    },
    {
      "cell_type": "markdown",
      "metadata": {},
      "source": [
        "#### 3. Бағандармен жұмыс.\n",
        "**- Тек `origin` бағанын таңдап, шығарыңыз.**\n",
        "**- Тек `mpg`, `horsepower`, `weight` және `acceleration` бағандарын қамтитын `car_performance` атты жаңа DataFrame құрыңыз. Оның алғашқы 3 жолын шығарыңыз.**"
      ]
    },
    {
      "cell_type": "code",
      "execution_count": null,
      "metadata": {},
      "outputs": [],
      "source": [
        "# 'origin' бағанын таңдау\n"
      ]
    },
    {
      "cell_type": "code",
      "execution_count": null,
      "metadata": {},
      "outputs": [],
      "source": [
        "# Жаңа DataFrame құру\n"
      ]
    },
    {
      "cell_type": "markdown",
      "metadata": {},
      "source": [
        "#### 4. Жаңа баған құру.\n",
        "**- `df` датафреймінде автомобильдің салмағын килограммен қамтитын `weight_kg` атты жаңа баған құрыңыз. Формуланы қолданыңыз: 1 фунт = 0.453592 кг. Нәтижені үтірден кейін 2 таңбаға дейін дөңгелектеңіз. Жаңа бағаны бар датафреймнің алғашқы 5 жолын шығарыңыз.**"
      ]
    },
    {
      "cell_type": "code",
      "execution_count": null,
      "metadata": {},
      "outputs": [],
      "source": [
        "# 'weight_kg' бағанын құру\n"
      ]
    },
    {
      "cell_type": "markdown",
      "metadata": {},
      "source": [
        "#### 5. Сұрыптау және сүзу.\n",
        "**- `df` DataFrame-ін `mpg` (миль/галлон) бағаны бойынша ең нашарынан ең жақсысына дейін (өсу ретімен) сұрыптаңыз. Сұрыпталған датафреймнің алғашқы 5 жолын шығарыңыз.**"
      ]
    },
    {
      "cell_type": "code",
      "execution_count": null,
      "metadata": {},
      "outputs": [],
      "source": [
        "# 'mpg' бойынша сұрыптау\n"
      ]
    },
    {
      "cell_type": "markdown",
      "metadata": {},
      "source": [
        "**- Енді `df` DataFrame-ін `weight` (салмақ) бағаны бойынша ең ауырынан ең жеңіліне дейін (кему ретімен) сұрыптап, алғашқы 5 жолды шығарыңыз.**"
      ]
    },
    {
      "cell_type": "code",
      "execution_count": null,
      "metadata": {},
      "outputs": [],
      "source": [
        "# 'weight' бойынша сұрыптау\n"
      ]
    },
    {
      "cell_type": "markdown",
      "metadata": {},
      "source": [
        "#### 6. Бір шарт бойынша сүзу.\n",
        "**- `mpg` көрсеткіші 35-тен жоғары автомобильдерді ғана қамтитын `efficient_cars` атты жаңа DataFrame құрыңыз. Осы жаңа датафреймнің алғашқы 5 жолын шығарыңыз.**"
      ]
    },
    {
      "cell_type": "code",
      "execution_count": null,
      "metadata": {},
      "outputs": [],
      "source": [
        "# 'mpg' > 35 сүзу\n"
      ]
    },
    {
      "cell_type": "markdown",
      "metadata": {},
      "source": [
        "#### 7. Бірнеше шарт бойынша сүзу.\n",
        "**- БАРЛЫҚ үш шартқа сәйкес келетін автомобильдерді қамтитын `american_muscle_cars` атты DataFrame құрыңыз:**\n",
        "  **- `origin` 1-ге тең (Америкалық)**\n",
        "  **- `cylinders` 8-ге тең**\n",
        "  **- `horsepower` 150-ден көп**\n",
        "**- Осы датафреймнің `.head()`-ін шығарыңыз.**"
      ]
    },
    {
      "cell_type": "code",
      "execution_count": null,
      "metadata": {},
      "outputs": [],
      "source": [
        "# Үш шарт бойынша сүзу\n"
      ]
    },
    {
      "cell_type": "markdown",
      "metadata": {},
      "source": [
        "#### 8. `.isin()` көмегімен сүзу.\n",
        "**- 80-ші жылдары шығарылған (`model_year` 80, 81 немесе 82) автомобильдерді қамтитын `modern_cars` атты DataFrame құрыңыз.**\n",
        "**- Деректер жинағында осындай қанша автомобиль бар? (`.shape` қолданыңыз)**"
      ]
    },
    {
      "cell_type": "code",
      "execution_count": null,
      "metadata": {},
      "outputs": [],
      "source": [
        "# isin() көмегімен сүзу\n"
      ]
    },
    {
      "cell_type": "markdown",
      "metadata": {},
      "source": [
        "## Тамаша жұмыс! Енді сіз зертханалық жұмысты орындауға дайынсыз."
      ]
    }
  ],
  "metadata": {
    "kernelspec": {
      "display_name": "Python [conda env:base] *",
      "language": "python",
      "name": "conda-base-py"
    },
    "language_info": {
      "codemirror_mode": {
        "name": "ipython",
        "version": 3
      },
      "file_extension": ".py",
      "mimetype": "text/x-python",
      "name": "python",
      "nbconvert_exporter": "python",
      "pygments_lexer": "ipython3",
      "version": "3.13.5"
    }
  },
  "nbformat": 4,
  "nbformat_minor": 4
}