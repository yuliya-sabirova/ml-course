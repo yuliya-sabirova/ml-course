{
 "cells": [
  {
   "cell_type": "markdown",
   "id": "seminar6-intro",
   "metadata": {},
   "source": [
    "# Семинар 6: Первое знакомство со Scikit-learn. Простая линейная регрессия.\n",
    "\n",
    "**Цели семинара:**\n",
    "1.  Познакомиться с основной философией библиотеки `scikit-learn`.\n",
    "2.  Изучить базовый API на примере `fit`, `predict`.\n",
    "3.  Научиться готовить данные к обучению: загрузка, анализ, разделение на выборки (`train_test_split`).\n",
    "4.  Обучить свою первую модель `LinearRegression`.\n",
    "5.  Оценить качество модели с помощью метрик (RMSE, MAE, R²) и визуального анализа остатков."
   ]
  },
  {
   "cell_type": "markdown",
   "id": "seminar6-sklearn-intro",
   "metadata": {},
   "source": [
    "## 1. Введение в Scikit-Learn\n",
    "\n",
    "**Scikit-learn** — это де-факто стандарт для классического машинного обучения в Python. Её популярность обусловлена несколькими причинами:\n",
    "\n",
    "*   **Единообразный API:** Все модели (оценщики, *estimators*) имеют схожие методы: `.fit()` для обучения, `.predict()` для предсказания, `.score()` для оценки и т.д. Это позволяет легко заменять один алгоритм на другой.\n",
    "*   **Широкий набор инструментов:** Включает в себя всё необходимое: алгоритмы, функции для подготовки данных, метрики качества.\n",
    "*   **Отличная документация:** С множеством примеров и подробными объяснениями.\n",
    "\n",
    "### Основной рабочий процесс (Estimator API)\n",
    "\n",
    "1.  **Импорт:** `from sklearn.module import Model`\n",
    "2.  **Инстанцирование:** `model = Model(hyperparameter=value)`\n",
    "3.  **Обучение:** `model.fit(X_train, y_train)`\n",
    "4.  **Предсказание:** `predictions = model.predict(X_test)`\n",
    "5.  **Оценка:** `score = metric_function(y_test, predictions)`\n",
    "\n",
    "Сегодня мы пройдем все эти шаги на практике."
   ]
  },
  {
   "cell_type": "markdown",
   "id": "seminar6-task-def",
   "metadata": {},
   "source": [
    "## 2. Задача: Предсказание продаж на основе рекламы\n",
    "\n",
    "Мы будем работать с популярным набором данных `Advertising.csv`, который содержит информацию о продажах продукта в зависимости от рекламного бюджета, потраченного на ТВ, радио и газеты."
   ]
  },
  {
   "cell_type": "code",
   "execution_count": null,
   "id": "seminar6-load-data",
   "metadata": {},
   "outputs": [],
   "source": [
    "import numpy as np\n",
    "import pandas as pd\n",
    "import matplotlib.pyplot as plt\n",
    "import seaborn as sns\n",
    "\n",
    "# Загружаем данные\n",
    "df = pd.read_csv('https://raw.githubusercontent.com/yuliya-sabirova/ml-course/main/data/Advertising.csv')\n",
    "\n",
    "# Смотрим на первые 5 строк\n",
    "df.head()"
   ]
  },
  {
   "cell_type": "markdown",
   "id": "seminar6-eda-md",
   "metadata": {},
   "source": [
    "### 2.1. Исследовательский анализ данных (EDA)\n",
    "\n",
    "Прежде чем обучать модель, всегда нужно посмотреть на данные глазами. Построим pairplot, чтобы визуально оценить зависимости между переменными."
   ]
  },
  {
   "cell_type": "code",
   "execution_count": null,
   "id": "seminar6-eda-code",
   "metadata": {},
   "outputs": [],
   "source": [
    "sns.pairplot(df)\n",
    "plt.show()"
   ]
  },
  {
   "cell_type": "markdown",
   "id": "seminar6-eda-conclusion",
   "metadata": {},
   "source": [
    "**Вывод из pairplot:** Видна сильная положительная линейная зависимость между бюджетом на ТВ-рекламу (`TV`) и продажами (`sales`). Зависимость от `radio` тоже есть, но с большим разбросом. `newspaper` выглядит наименее связанным с продажами.\n",
    "\n",
    "Давайте выделим признаки (X) и целевую переменную (y)."
   ]
  },
  {
   "cell_type": "code",
   "execution_count": null,
   "id": "seminar6-xy-split",
   "metadata": {},
   "outputs": [],
   "source": [
    "# Признаки\n",
    "X = df.drop('Sales', axis=1)\n",
    "\n",
    "# Целевая переменная\n",
    "y = df['Sales']"
   ]
  },
  {
   "cell_type": "markdown",
   "id": "seminar6-traintest-md",
   "metadata": {},
   "source": [
    "### 2.2. Разделение данных на обучающую и тестовую выборки\n",
    "\n",
    "Это самый важный шаг для объективной оценки модели. Мы отложим часть данных (тестовую выборку), чтобы проверить на ней нашу модель после обучения. Для этого используем функцию `train_test_split`."
   ]
  },
  {
   "cell_type": "code",
   "execution_count": null,
   "id": "seminar6-traintest-code",
   "metadata": {},
   "outputs": [],
   "source": [
    "from sklearn.model_selection import train_test_split\n",
    "\n",
    "# test_size=0.3 означает, что 30% данных уйдет в тестовую выборку\n",
    "# random_state=42 обеспечивает воспроизводимость результата (одинаковое \"случайное\" разбиение)\n",
    "X_train, X_test, y_train, y_test = train_test_split(X, y, test_size=0.3, random_state=42)"
   ]
  },
  {
   "cell_type": "markdown",
   "id": "seminar6-model-fit-md",
   "metadata": {},
   "source": [
    "## 3. Обучение модели линейной регрессии"
   ]
  },
  {
   "cell_type": "code",
   "execution_count": null,
   "id": "seminar6-model-fit-code",
   "metadata": {},
   "outputs": [],
   "source": [
    "from sklearn.linear_model import LinearRegression\n",
    "\n",
    "# Шаг 1: Инстанцирование модели\n",
    "model = LinearRegression()\n",
    "\n",
    "# Шаг 2: Обучение модели на обучающих данных\n",
    "model.fit(X_train, y_train)"
   ]
  },
  {
   "cell_type": "markdown",
   "id": "seminar6-coeffs-md",
   "metadata": {},
   "source": [
    "### 3.1. Интерпретация коэффициентов\n",
    "\n",
    "Модель обучена! Она нашла оптимальные коэффициенты для нашего уравнения регрессии. Давайте посмотрим на них."
   ]
  },
  {
   "cell_type": "code",
   "execution_count": null,
   "id": "seminar6-coeffs-code",
   "metadata": {},
   "outputs": [],
   "source": [
    "print(\"Свободный член (intercept, w0):\", model.intercept_)\n",
    "\n",
    "# Создадим DataFrame для удобного просмотра весов\n",
    "coeffs = pd.DataFrame(model.coef_, X.columns, columns=['Coefficient'])\n",
    "print(\"\\nВеса для каждого признака (w1, w2, ...):\")\n",
    "print(coeffs)"
   ]
  },
  {
   "cell_type": "markdown",
   "id": "seminar6-coeffs-interp",
   "metadata": {},
   "source": [
    "**Как это интерпретировать?**\n",
    "*   **Intercept (2.85):** Если мы не потратим ни рубля на рекламу, наша модель предсказывает продажи на уровне 2.69 единиц.\n",
    "*   **TV (0.04):** Каждый дополнительный рубль, вложенный в ТВ-рекламу, при прочих равных увеличивает продажи на 0.04 единиц.\n",
    "*   **radio (0.199):** Каждый дополнительный рубль на радио-рекламу дает прирост в 0.199 единиц.\n",
    "*   **newspaper (0.0001):** Влияние газет, по мнению модели, минимально."
   ]
  },
  {
   "cell_type": "markdown",
   "id": "seminar6-eval-md",
   "metadata": {},
   "source": [
    "## 4. Оценка качества модели\n",
    "\n",
    "Теперь, когда модель обучена, оценим ее качество на **тестовой выборке**, которую модель еще не видела."
   ]
  },
  {
   "cell_type": "code",
   "execution_count": null,
   "id": "seminar6-eval-code",
   "metadata": {},
   "outputs": [],
   "source": [
    "from sklearn.metrics import mean_absolute_error, mean_squared_error, r2_score\n",
    "\n",
    "# Шаг 3: Делаем предсказания на тестовых данных\n",
    "y_pred = model.predict(X_test)\n",
    "\n",
    "# Шаг 4: Оцениваем качество с помощью метрик\n",
    "mae = mean_absolute_error(y_test, y_pred)\n",
    "mse = mean_squared_error(y_test, y_pred)\n",
    "rmse = np.sqrt(mse)\n",
    "r2 = r2_score(y_test, y_pred)\n",
    "\n",
    "print(f\"MAE (Mean Absolute Error): {mae:.2f}\")\n",
    "print(f\"MSE (Mean Squared Error): {mse:.2f}\")\n",
    "print(f\"RMSE (Root Mean Squared Error): {rmse:.2f}\")\n",
    "print(f\"R^2 (Коэффициент детерминации): {r2:.2f}\")"
   ]
  },
  {
   "cell_type": "markdown",
   "id": "seminar6-eval-interp",
   "metadata": {},
   "source": [
    "**Интерпретация метрик:**\n",
    "*   **RMSE (1.93):** В среднем, наша модель ошибается в предсказании продаж на 1.95 единицы. Учитывая, что средние продажи составляют около 14, это неплохой результат.\n",
    "*   **R² (0.86):** Наша модель объясняет 86% изменчивости (дисперсии) в данных о продажах. Это очень хороший показатель."
   ]
  },
  {
   "cell_type": "markdown",
   "id": "seminar6-residuals-md",
   "metadata": {},
   "source": [
    "### 4.1. Анализ остатков\n",
    "\n",
    "Проверим, нет ли в ошибках модели каких-либо скрытых закономерностей. В идеале остатки должны быть распределены случайно вокруг нуля."
   ]
  },
  {
   "cell_type": "code",
   "execution_count": null,
   "id": "seminar6-residuals-code",
   "metadata": {},
   "outputs": [],
   "source": [
    "residuals = y_test - y_pred\n",
    "\n",
    "sns.scatterplot(x=y_test, y=residuals)\n",
    "plt.axhline(y=0, color='r', linestyle='--')\n",
    "plt.title('График остатков')\n",
    "plt.xlabel('Истинные значения y_test')\n",
    "plt.ylabel('Остатки')\n",
    "plt.show()"
   ]
  },
  {
   "cell_type": "markdown",
   "id": "b78c5908-fee6-4e62-ad74-34666c4d74b6",
   "metadata": {},
   "source": [
    "**Вывод:** График выглядит хорошо. Точки распределены хаотично, без явных паттернов (например, параболы), что говорит о том, что линейная модель в данном случае является адекватной."
   ]
  },
  {
   "cell_type": "markdown",
   "id": "1e758265-7a78-4ea9-90d0-c6c5530928ea",
   "metadata": {},
   "source": [
    "### 4.2. Углубленный анализ остатков: ищем зависимости\n",
    "\n",
    "Еще один полезный диагностический инструмент — построить графики остатков относительно каждого из исходных признаков. Если модель полностью \"впитала\" всю информацию из признака, то в ошибках не должно остаться никакой структуры, связанной с этим признаком."
   ]
  },
  {
   "cell_type": "code",
   "execution_count": null,
   "id": "56460782-2aaf-42d1-a101-7015997c9805",
   "metadata": {},
   "outputs": [],
   "source": [
    "# Создаем фигуру с тремя графиками\n",
    "fig, axes = plt.subplots(1, 3, figsize=(18, 5))\n",
    "fig.suptitle('Графики остатков по каждому признаку', fontsize=16)\n",
    "\n",
    "# Остатки vs TV\n",
    "sns.scatterplot(ax=axes[0], x=X_test['TV'], y=residuals)\n",
    "axes[0].axhline(y=0, color='r', linestyle='--')\n",
    "axes[0].set_xlabel('Бюджет на TV')\n",
    "axes[0].set_ylabel('Остатки')\n",
    "\n",
    "# Остатки vs Radio\n",
    "sns.scatterplot(ax=axes[1], x=X_test['Radio'], y=residuals)\n",
    "axes[1].axhline(y=0, color='r', linestyle='--')\n",
    "axes[1].set_xlabel('Бюджет на Radio')\n",
    "axes[1].set_ylabel('')\n",
    "\n",
    "# Остатки vs Newspaper\n",
    "sns.scatterplot(ax=axes[2], x=X_test['Newspaper'], y=residuals)\n",
    "axes[2].axhline(y=0, color='r', linestyle='--')\n",
    "axes[2].set_xlabel('Бюджет на Newspaper')\n",
    "axes[2].set_ylabel('')\n",
    "\n",
    "plt.show()"
   ]
  },
  {
   "cell_type": "markdown",
   "id": "9a11746c-355c-40fa-b194-21e3f4dbf7bd",
   "metadata": {},
   "source": [
    "**Вывод:** Во всех трех случаях остатки выглядят как случайный \"шум\", равномерно распределенный вокруг нуля. Это еще раз подтверждает, что простая линейная модель хорошо подходит для этих данных и не упускает каких-либо очевидных нелинейных зависимостей. Если бы, например, на графике \"Остатки vs TV\" мы увидели параболу, это был бы сильный сигнал к тому, что в модель нужно добавить признак `TV^2`."
   ]
  },
  {
   "cell_type": "markdown",
   "id": "seminar6-conclusion",
   "metadata": {},
   "source": [
    "## Заключение\n",
    "\n",
    "На этом семинаре мы прошли полный цикл построения простой модели машинного обучения с использованием `scikit-learn`: от загрузки данных до обучения, оценки и диагностики. Мы убедились, что линейная регрессия хорошо справляется с данной задачей."
   ]
  },
  {
   "cell_type": "code",
   "execution_count": null,
   "id": "fbb3f034-4af7-48a6-a1f1-7bae3470b86b",
   "metadata": {},
   "outputs": [],
   "source": []
  }
 ],
 "metadata": {
  "kernelspec": {
   "display_name": "Python [conda env:base] *",
   "language": "python",
   "name": "conda-base-py"
  },
  "language_info": {
   "codemirror_mode": {
    "name": "ipython",
    "version": 3
   },
   "file_extension": ".py",
   "mimetype": "text/x-python",
   "name": "python",
   "nbconvert_exporter": "python",
   "pygments_lexer": "ipython3",
   "version": "3.13.5"
  }
 },
 "nbformat": 4,
 "nbformat_minor": 5
}
