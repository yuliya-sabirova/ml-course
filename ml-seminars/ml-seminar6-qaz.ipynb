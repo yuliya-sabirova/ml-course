{
  "cells": [
    {
      "cell_type": "markdown",
      "id": "seminar6-intro",
      "metadata": {},
      "source": [
        "# 6-семинар: Scikit-learn-мен алғашқы таныстық. Қарапайым сызықтық регрессия.\n",
        "\n",
        "**Семинар мақсаттары:**\n",
        "1.  `scikit-learn` кітапханасының негізгі философиясымен танысу.\n",
        "2.  `fit`, `predict` мысалында негізгі API-ді зерттеу.\n",
        "3.  Деректерді оқытуға дайындауды үйрену: жүктеу, талдау, іріктемелерге бөлу (`train_test_split`).\n",
        "4.  Өзіңіздің алғашқы `LinearRegression` моделіңізді оқыту.\n",
        "5.  Модель сапасын метрикалар (RMSE, MAE, R²) және қалдықтарды визуалды талдау арқылы бағалау."
      ]
    },
    {
      "cell_type": "markdown",
      "id": "seminar6-sklearn-intro",
      "metadata": {},
      "source": [
        "## 1. Scikit-Learn-ге кіріспе\n",
        "\n",
        "**Scikit-learn** — бұл Python-дағы классикалық машиналық оқыту үшін де-факто стандарт. Оның танымалдылығы бірнеше себептерге байланысты:\n",
        "\n",
        "*   **Бірыңғай API:** Барлық модельдер (бағалаушылар, *estimators*) ұқсас әдістерге ие: оқыту үшін `.fit()`, болжау үшін `.predict()`, бағалау үшін `.score()` және т.б. Бұл бір алгоритмді екіншісімен оңай ауыстыруға мүмкіндік береді.\n",
        "*   **Кең құралдар жиынтығы:** Құрамына қажеттінің бәрі кіреді: алгоритмдер, деректерді дайындауға арналған функциялар, сапа метрикалары.\n",
        "*   **Керемет құжаттама:** Көптеген мысалдармен және егжей-тегжейлі түсіндірмелермен.\n",
        "\n",
        "### Негізгі жұмыс процесі (Estimator API)\n",
        "\n",
        "1.  **Импорттау:** `from sklearn.module import Model`\n",
        "2.  **Инстанциялау:** `model = Model(hyperparameter=value)`\n",
        "3.  **Оқыту:** `model.fit(X_train, y_train)`\n",
        "4.  **Болжау:** `predictions = model.predict(X_test)`\n",
        "5.  **Бағалау:** `score = metric_function(y_test, predictions)`\n",
        "\n",
        "Бүгін біз осы қадамдардың барлығын іс жүзінде өтеміз."
      ]
    },
    {
      "cell_type": "markdown",
      "id": "seminar6-task-def",
      "metadata": {},
      "source": [
        "## 2. Міндет: Жарнама негізінде сатылымды болжау\n",
        "\n",
        "Біз танымал `Advertising.csv` деректер жиынтығымен жұмыс істейтін боламыз, онда ТВ, радио және газеттерге жұмсалған жарнама бюджетіне байланысты өнімнің сатылымы туралы ақпарат бар."
      ]
    },
    {
      "cell_type": "code",
      "execution_count": null,
      "id": "seminar6-load-data",
      "metadata": {},
      "outputs": [],
      "source": [
        "import numpy as np\n",
        "import pandas as pd\n",
        "import matplotlib.pyplot as plt\n",
        "import seaborn as sns\n",
        "\n",
        "# Деректерді жүктейміз\n",
        "df = pd.read_csv('https://raw.githubusercontent.com/yuliya-sabirova/ml-course/main/data/Advertising.csv')\n",
        "\n",
        "# Алғашқы 5 жолға қараймыз\n",
        "df.head()"
      ]
    },
    {
      "cell_type": "markdown",
      "id": "seminar6-eda-md",
      "metadata": {},
      "source": [
        "### 2.1. Деректерді зерттеу талдауы (EDA)\n",
        "\n",
        "Модельді оқытпас бұрын, әрқашан деректерге көзбен қарау керек. Айнымалылар арасындағы тәуелділіктерді визуалды түрде бағалау үшін pairplot құрамыз."
      ]
    },
    {
      "cell_type": "code",
      "execution_count": null,
      "id": "seminar6-eda-code",
      "metadata": {},
      "outputs": [],
      "source": [
        "sns.pairplot(df)\n",
        "plt.show()"
      ]
    },
    {
      "cell_type": "markdown",
      "id": "seminar6-eda-conclusion",
      "metadata": {},
      "source": [
        "**pairplot-тан қорытынды:** ТВ-жарнама бюджеті (`TV`) мен сатылымдар (`sales`) арасында күшті оң сызықтық тәуелділік байқалады. `radio`-ға тәуелділік те бар, бірақ шашырауы көбірек. `newspaper` сатылымдармен ең аз байланысты болып көрінеді.\n",
        "\n",
        "Белгілерді (X) және нысаналы айнымалыны (y) бөліп алайық."
      ]
    },
    {
      "cell_type": "code",
      "execution_count": null,
      "id": "seminar6-xy-split",
      "metadata": {},
      "outputs": [],
      "source": [
        "# Белгілер\n",
        "X = df.drop('Sales', axis=1)\n",
        "\n",
        "# Нысаналы айнымалы\n",
        "y = df['Sales']"
      ]
    },
    {
      "cell_type": "markdown",
      "id": "seminar6-traintest-md",
      "metadata": {},
      "source": [
        "### 2.2. Деректерді оқыту және тест іріктемелеріне бөлу\n",
        "\n",
        "Бұл модельді объективті бағалау үшін ең маңызды қадам. Біз оқытудан кейін моделімізді тексеру үшін деректердің бір бөлігін (тест іріктемесін) кейінге қалдырамыз. Ол үшін `train_test_split` функциясын қолданамыз."
      ]
    },
    {
      "cell_type": "code",
      "execution_count": null,
      "id": "seminar6-traintest-code",
      "metadata": {},
      "outputs": [],
      "source": [
        "from sklearn.model_selection import train_test_split\n",
        "\n",
        "# test_size=0.3 деректердің 30%-ы тест іріктемесіне кететінін білдіреді\n",
        "# random_state=42 нәтиженің қайталанбалылығын қамтамасыз етеді (бірдей \"кездейсоқ\" бөлу)\n",
        "X_train, X_test, y_train, y_test = train_test_split(X, y, test_size=0.3, random_state=42)"
      ]
    },
    {
      "cell_type": "markdown",
      "id": "seminar6-model-fit-md",
      "metadata": {},
      "source": [
        "## 3. Сызықтық регрессия моделін оқыту"
      ]
    },
    {
      "cell_type": "code",
      "execution_count": null,
      "id": "seminar6-model-fit-code",
      "metadata": {},
      "outputs": [],
      "source": [
        "from sklearn.linear_model import LinearRegression\n",
        "\n",
        "# 1-қадам: Модельді инстанциялау\n",
        "model = LinearRegression()\n",
        "\n",
        "# 2-қадам: Модельді оқыту деректерінде оқыту\n",
        "model.fit(X_train, y_train)"
      ]
    },
    {
      "cell_type": "markdown",
      "id": "seminar6-coeffs-md",
      "metadata": {},
      "source": [
        "### 3.1. Коэффициенттерді интерпретациялау\n",
        "\n",
        "Модель оқытылды! Ол біздің регрессия теңдеуіміз үшін оңтайлы коэффициенттерді тапты. Оларға қарап көрейік."
      ]
    },
    {
      "cell_type": "code",
      "execution_count": null,
      "id": "seminar6-coeffs-code",
      "metadata": {},
      "outputs": [],
      "source": [
        "print(\"Бос мүше (intercept, w0):\", model.intercept_)\n",
        "\n",
        "# Салмақтарды ыңғайлы қарау үшін DataFrame құрамыз\n",
        "coeffs = pd.DataFrame(model.coef_, X.columns, columns=['Coefficient'])\n",
        "print(\"\\nӘр белгі үшін салмақтар (w1, w2, ...):\")\n",
        "print(coeffs)"
      ]
    },
    {
      "cell_type": "markdown",
      "id": "seminar6-coeffs-interp",
      "metadata": {},
      "source": [
        "**Мұны қалай түсіндіруге болады?**\n",
        "*   **Intercept (2.85):** Егер біз жарнамаға бірде-бір теңге жұмсамасақ, біздің модель сатылымды 2.69 бірлік деңгейінде болжайды.\n",
        "*   **TV (0.04):** ТВ-жарнамаға салынған әрбір қосымша теңге, басқалары тең болған жағдайда, сатылымды 0.04 бірлікке арттырады.\n",
        "*   **radio (0.199):** Радио-жарнамаға жұмсалған әрбір қосымша теңге 0.199 бірлік өсім береді.\n",
        "*   **newspaper (0.0001):** Газеттердің әсері, модельдің пікірінше, минималды."
      ]
    },
    {
      "cell_type": "markdown",
      "id": "seminar6-eval-md",
      "metadata": {},
      "source": [
        "## 4. Модель сапасын бағалау\n",
        "\n",
        "Енді модель оқытылғаннан кейін, оның сапасын модель әлі көрмеген **тест іріктемесінде** бағалайық."
      ]
    },
    {
      "cell_type": "code",
      "execution_count": null,
      "id": "seminar6-eval-code",
      "metadata": {},
      "outputs": [],
      "source": [
        "from sklearn.metrics import mean_absolute_error, mean_squared_error, r2_score\n",
        "\n",
        "# 3-қадам: Тест деректерінде болжамдар жасаймыз\n",
        "y_pred = model.predict(X_test)\n",
        "\n",
        "# 4-қадам: Сапаны метрикалар көмегімен бағалаймыз\n",
        "mae = mean_absolute_error(y_test, y_pred)\n",
        "mse = mean_squared_error(y_test, y_pred)\n",
        "rmse = np.sqrt(mse)\n",
        "r2 = r2_score(y_test, y_pred)\n",
        "\n",
        "print(f\"MAE (Mean Absolute Error): {mae:.2f}\")\n",
        "print(f\"MSE (Mean Squared Error): {mse:.2f}\")\n",
        "print(f\"RMSE (Root Mean Squared Error): {rmse:.2f}\")\n",
        "print(f\"R^2 (Детерминация коэффициенті): {r2:.2f}\")"
      ]
    },
    {
      "cell_type": "markdown",
      "id": "seminar6-eval-interp",
      "metadata": {},
      "source": [
        "**Метрикаларды интерпретациялау:**\n",
        "*   **RMSE (1.93):** Орташа есеппен, біздің модель сатылымды болжауда 1.95 бірлікке қателеседі. Орташа сатылым шамамен 14 екенін ескерсек, бұл жаман нәтиже емес.\n",
        "*   **R² (0.86):** Біздің модель сатылым деректеріндегі өзгергіштіктің (дисперсияның) 86%-ын түсіндіреді. Бұл өте жақсы көрсеткіш."
      ]
    },
    {
      "cell_type": "markdown",
      "id": "seminar6-residuals-md",
      "metadata": {},
      "source": [
        "### 4.1. Қалдықтарды талдау\n",
        "\n",
        "Модель қателерінде қандай да бір жасырын заңдылықтардың жоқтығын тексерейік. Идеалды жағдайда қалдықтар нөл айналасында кездейсоқ таралуы керек."
      ]
    },
    {
      "cell_type": "code",
      "execution_count": null,
      "id": "seminar6-residuals-code",
      "metadata": {},
      "outputs": [],
      "source": [
        "residuals = y_test - y_pred\n",
        "\n",
        "sns.scatterplot(x=y_test, y=residuals)\n",
        "plt.axhline(y=0, color='r', linestyle='--')\n",
        "plt.title('Қалдықтар графигі')\n",
        "plt.xlabel('y_test нақты мәндері')\n",
        "plt.ylabel('Қалдықтар')\n",
        "plt.show()"
      ]
    },
    {
      "cell_type": "markdown",
      "id": "b78c5908-fee6-4e62-ad74-34666c4d74b6",
      "metadata": {},
      "source": [
        "**Қорытынды:** График жақсы көрінеді. Нүктелер айқын үлгілерсіз (мысалы, парабола) ретсіз таратылған, бұл сызықтық модельдің осы жағдайда адекватты екенін көрсетеді."
      ]
    },
    {
      "cell_type": "markdown",
      "id": "1e758265-7a78-4ea9-90d0-c6c5530928ea",
      "metadata": {},
      "source": [
        "### 4.2. Қалдықтарды тереңірек талдау: тәуелділіктерді іздеу\n",
        "\n",
        "Тағы бір пайдалы диагностикалық құрал — әрбір бастапқы белгіге қатысты қалдықтар графиктерін құру. Егер модель белгіден барлық ақпаратты толығымен \"сіңірген\" болса, онда қателерде осы белгімен байланысты ешқандай құрылым қалмауы керек."
      ]
    },
    {
      "cell_type": "code",
      "execution_count": null,
      "id": "56460782-2aaf-42d1-a101-7015997c9805",
      "metadata": {},
      "outputs": [],
      "source": [
        "# Үш графигі бар фигура құрамыз\n",
        "fig, axes = plt.subplots(1, 3, figsize=(18, 5))\n",
        "fig.suptitle('Әр белгі бойынша қалдықтар графиктері', fontsize=16)\n",
        "\n",
        "# Қалдықтар vs TV\n",
        "sns.scatterplot(ax=axes[0], x=X_test['TV'], y=residuals)\n",
        "axes[0].axhline(y=0, color='r', linestyle='--')\n",
        "axes[0].set_xlabel('TV бюджеті')\n",
        "axes[0].set_ylabel('Қалдықтар')\n",
        "\n",
        "# Қалдықтар vs Radio\n",
        "sns.scatterplot(ax=axes[1], x=X_test['Radio'], y=residuals)\n",
        "axes[1].axhline(y=0, color='r', linestyle='--')\n",
        "axes[1].set_xlabel('Radio бюджеті')\n",
        "axes[1].set_ylabel('')\n",
        "\n",
        "# Қалдықтар vs Newspaper\n",
        "sns.scatterplot(ax=axes[2], x=X_test['Newspaper'], y=residuals)\n",
        "axes[2].axhline(y=0, color='r', linestyle='--')\n",
        "axes[2].set_xlabel('Newspaper бюджеті')\n",
        "axes[2].set_ylabel('')\n",
        "\n",
        "plt.show()"
      ]
    },
    {
      "cell_type": "markdown",
      "id": "9a11746c-355c-40fa-b194-21e3f4dbf7bd",
      "metadata": {},
      "source": [
        "**Қорытынды:** Барлық үш жағдайда да қалдықтар нөл айналасында біркелкі таратылған кездейсоқ \"шу\" сияқты көрінеді. Бұл қарапайым сызықтық модельдің осы деректерге жақсы сәйкес келетінін және қандай да бір айқын сызықтық емес тәуелділіктерді жіберіп алмайтынын тағы да растайды. Егер, мысалы, \"Қалдықтар vs TV\" графигінде біз параболаны көрген болсақ, бұл модельге `TV^2` белгісін қосу керектігінің күшті сигналы болар еді."
      ]
    },
    {
      "cell_type": "markdown",
      "id": "seminar6-conclusion",
      "metadata": {},
      "source": [
        "## Қорытынды\n",
        "\n",
        "Бұл семинарда біз `scikit-learn` көмегімен қарапайым машиналық оқыту моделін құрудың толық циклінен өттік: деректерді жүктеуден бастап, оқыту, бағалау және диагностикалауға дейін. Біз сызықтық регрессияның осы міндетті жақсы орындайтынына көз жеткіздік."
      ]
    },
    {
      "cell_type": "code",
      "execution_count": null,
      "id": "fbb3f034-4af7-48a6-a1f1-7bae3470b86b",
      "metadata": {},
      "outputs": [],
      "source": []
    }
  ],
  "metadata": {
    "kernelspec": {
      "display_name": "Python [conda env:base] *",
      "language": "python",
      "name": "conda-base-py"
    },
    "language_info": {
      "codemirror_mode": {
        "name": "ipython",
        "version": 3
      },
      "file_extension": ".py",
      "mimetype": "text/x-python",
      "name": "python",
      "nbconvert_exporter": "python",
      "pygments_lexer": "ipython3",
      "version": "3.13.5"
    }
  },
  "nbformat": 4,
  "nbformat_minor": 5
}