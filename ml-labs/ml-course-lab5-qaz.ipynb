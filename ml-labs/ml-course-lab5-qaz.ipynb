{
 "cells": [
  {
   "cell_type": "markdown",
   "metadata": {},
   "source": [
    "# 5-зертханалық жұмыс: Несие картасына өтініш берушілердің деректерін барлау талдауы (EDA)\n",
    "\n",
    "**Жұмыстың мақсаты:** Жаңа деректер жиынтығында Seaborn көмегімен графиктер құру және талдау дағдыларын бекіту. Деректерді дайындаудан бастап қорытынды жасауға дейінгі шағын зерттеудің толық циклін орындауды үйрену.\n",
    "\n",
    "**Баға:** 10 балл."
   ]
  },
  {
   "cell_type": "markdown",
   "metadata": {},
   "source": [
    "## Кіріспе\n",
    "\n",
    "Өзіңізді банктегі деректер талдаушысы ретінде елестетіңіз. Сіздің міндетіңіз — несие картасын алуға өтініш берген клиенттердің деректеріне бастапқы барлау талдауын (EDA) жүргізу. Басшылық клиенттің портреті туралы жалпы түсінік алғысы келеді: оның табысы, білімі, отбасылық жағдайы және т.б. Сіздің жұмысыңыз болашақ несиелік скоринг моделінің негізі болады.\n",
    "\n",
    "Дереккөз: https://www.kaggle.com/rikdifos/credit-card-approval-prediction Кестелерді жүктеп алу үшін тіркеліңіз.\n",
    "\n",
    "*Ескерту: Несиелік тәуекелді толық талдау үшін төлем тәртібі туралы ақпаратты қамтитын екінші файл, `credit_record.csv`, қажет. Бұл жұмыс аясында біз тек `application_record.csv` файлындағы сауалнама деректерін талдауға назар аударамыз.*"
   ]
  },
  {
   "cell_type": "code",
   "execution_count": null,
   "metadata": {},
   "outputs": [],
   "source": [
    "import pandas as pd\n",
    "import numpy as np\n",
    "import matplotlib.pyplot as plt\n",
    "import seaborn as sns\n",
    "\n",
    "# Ноутбукта графиктерді көрсетуге арналған команда\n",
    "%matplotlib inline"
   ]
  },
  {
   "cell_type": "markdown",
   "metadata": {},
   "source": [
    "## 1-кезең. Деректерді дайындау (1 балл)\n",
    "\n",
    "Графиктерді құрудан бұрын, деректерді дайындау керек."
   ]
  },
  {
   "cell_type": "markdown",
   "metadata": {},
   "source": [
    "**1.1. `application_record.csv` файлын pandas DataFrame-ге жүктеңіз.**"
   ]
  },
  {
   "cell_type": "code",
   "execution_count": null,
   "metadata": {},
   "outputs": [],
   "source": [
    "df = pd.read_csv('application_record.csv')"
   ]
  },
  {
   "cell_type": "markdown",
   "metadata": {},
   "source": [
    "**1.2. Деректерді `.info()` және `.head()` көмегімен зерттеңіз.**"
   ]
  },
  {
   "cell_type": "code",
   "execution_count": null,
   "metadata": {},
   "outputs": [],
   "source": [
    "df.head()"
   ]
  },
  {
   "cell_type": "code",
   "execution_count": null,
   "metadata": {},
   "outputs": [],
   "source": [
    "df.info()"
   ]
  },
  {
   "cell_type": "markdown",
   "metadata": {},
   "source": [
    "**1.3. Белгілерді түрлендіру:** `DAYS_BIRTH` (жасы) және `DAYS_EMPLOYED` (жұмыс өтілі) бағандарында күндер теріс мәндермен берілген. Бұл талдау үшін ыңғайсыз. Екі жаңа баған құрыңыз:\n",
    "*   `AGE_YEARS`: жасы жылмен (оң мән). Формула: `- DAYS_BIRTH / 365`.\n",
    "*   `EMPLOYMENT_YEARS`: жұмыс өтілі жылмен. Бұл бағанды былай құрыңыз: егер `DAYS_EMPLOYED` мәні теріс болса, `- DAYS_EMPLOYED / 365` формуласын қолданыңыз. Егер ол оң болса (\"жұмыссыз\" дегенді білдіреді), 0 мәнін беріңіз.\n",
    "\n",
    "    **Кеңес:** Бұл үшін `np.where` немесе pandas-тағы `.loc` әдісін қолданған ыңғайлы. Мысалы:\n",
    "    ```python\n",
    "    df['EMPLOYMENT_YEARS'] = np.where(df['DAYS_EMPLOYED'] < 0, -df['DAYS_EMPLOYED'] / 365, 0)\n",
    "    ```"
   ]
  },
  {
   "cell_type": "code",
   "execution_count": null,
   "metadata": {},
   "outputs": [],
   "source": [
    "# AGE_YEARS бағанын құруға арналған код\n",
    "\n",
    "# EMPLOYMENT_YEARS бағанын құруға арналған код"
   ]
  },
  {
   "cell_type": "markdown",
   "metadata": {},
   "source": [
    "## 2-кезең. Бір өлшемді талдау: Белгілерді жеке-жеке зерттеу (3 балл)"
   ]
  },
  {
   "cell_type": "markdown",
   "metadata": {},
   "source": [
    "### 2.1. Білім деңгейін талдау (1 балл)\n",
    "\n",
    "*   `countplot` көмегімен әрбір білім деңгейі (`NAME_EDUCATION_TYPE`) үшін клиенттер санын визуализациялаңыз."
   ]
  },
  {
   "cell_type": "code",
   "execution_count": null,
   "metadata": {},
   "outputs": [],
   "source": [
    "# Жазулар бір-біріне қабаттасып кетпес үшін plt.xticks қолданамыз\n",
    "plt.figure(figsize=(10,6))\n",
    "# countplot-қа арналған код\n",
    "plt.xticks(rotation=45);"
   ]
  },
  {
   "cell_type": "markdown",
   "metadata": {},
   "source": [
    "**Қорытынды:** Өтініш берушілер арасында қай білім деңгейі ең көп таралған?\n",
    "\n",
    "*Жауабыңызды осы жерге жазыңыз...*"
   ]
  },
  {
   "cell_type": "markdown",
   "metadata": {},
   "source": [
    "### 2.2. Табысты талдау (2 балл)\n",
    "\n",
    "1.  Жылдық табыс (`AMT_INCOME_TOTAL`) үшін тығыздық қисығы бар гистограмма (`histplot` `kde=True` параметрімен) құрыңыз.\n",
    "2.  **Мәселе:** Өте жоғары табыстар (шығарындылар) кесірінен график ақпаратсыз болып шығатынын көресіз. Табысы **400 000-нан аз** клиенттерді ғана сүзгіден өткізіп, жаңа DataFrame жасаңыз.\n",
    "3.  Сүзгіден өткізілген деректер бойынша гистограмма құрыңыз."
   ]
  },
  {
   "cell_type": "code",
   "execution_count": null,
   "metadata": {},
   "outputs": [],
   "source": [
    "# Бастапқы гистограммаға арналған код (ақпаратсыз)"
   ]
  },
  {
   "cell_type": "code",
   "execution_count": null,
   "metadata": {},
   "outputs": [],
   "source": [
    "# Сүзуге және жаңа DataFrame құруға арналған код\n",
    "df_filtered_income = None # None-ды өз кодыңызбен алмастырыңыз"
   ]
  },
  {
   "cell_type": "code",
   "execution_count": null,
   "metadata": {},
   "outputs": [],
   "source": [
    "# Сүзгіден өткізілген деректер бойынша гистограммаға арналған код"
   ]
  },
  {
   "cell_type": "markdown",
   "metadata": {},
   "source": [
    "**Қорытынды:** Табыстың таралуын сипаттаңыз. Ол симметриялы ма? Мәндердің көпшілігі қай жаққа қарай ығысқан (төмен немесе жоғары табыстар жағына)?\n",
    "\n",
    "*Жауабыңызды осы жерге жазыңыз...*"
   ]
  },
  {
   "cell_type": "markdown",
   "metadata": {},
   "source": [
    "## 3-кезең. Екі өлшемді талдау: Өзара байланыстарды іздеу (5 балл)"
   ]
  },
  {
   "cell_type": "markdown",
   "metadata": {},
   "source": [
    "### 3.1. Жасы мен жұмыс өтілінің байланысы (2 балл)\n",
    "\n",
    "1.  Тек жұмыс істейтін клиенттерді (`DAYS_EMPLOYED` < 0) қамтитын `df_employed` DataFrame-ін жасаңыз.\n",
    "2.  `scatterplot` көмегімен жаңа `AGE_YEARS` және `EMPLOYMENT_YEARS` бағандарыңыз арасында шашырау диаграммасын құрыңыз."
   ]
  },
  {
   "cell_type": "code",
   "execution_count": null,
   "metadata": {},
   "outputs": [],
   "source": [
    "# Жұмыс істейтін клиенттерді сүзуге арналған код\n",
    "df_employed = None # None-ды өз кодыңызбен алмастырыңыз"
   ]
  },
  {
   "cell_type": "code",
   "execution_count": null,
   "metadata": {},
   "outputs": [],
   "source": [
    "# scatterplot-қа арналған код\n",
    "plt.figure(figsize=(10,7))\n",
    "# Кодыңызды осы жерге жазыңыз"
   ]
  },
  {
   "cell_type": "markdown",
   "metadata": {},
   "source": [
    "**Қорытынды:** Жасы мен жұмыс өтілі арасында айқын байланыс бар ма? Бұл логикаға сәйкес пе? Графикте ерекше бір нәрсе байқала ма?\n",
    "\n",
    "*Жауабыңызды осы жерге жазыңыз...*"
   ]
  },
  {
   "cell_type": "markdown",
   "metadata": {},
   "source": [
    "### 3.2. Табыс және тұрғын үй түрі (3 балл)\n",
    "\n",
    "*   2-кезеңдегі табыс бойынша сүзгіден өткізілген DataFrame-ді (`df_filtered_income`) пайдаланып, тұрғын үй түріне (`NAME_HOUSING_TYPE`) байланысты табыстың (`AMT_INCOME_TOTAL`) таралуын салыстыру үшін `boxplot` құрыңыз.\n",
    "*   Көрнекілікті арттыру үшін жеке меншік жылжымайтын мүліктің болуы қалай әсер ететінін көру үшін `hue='FLAG_OWN_REALTY'` параметрін қосыңыз."
   ]
  },
  {
   "cell_type": "code",
   "execution_count": null,
   "metadata": {},
   "outputs": [],
   "source": [
    "plt.figure(figsize=(12, 8))\n",
    "# boxplot-қа арналған код\n",
    "plt.xticks(rotation=30);"
   ]
  },
  {
   "cell_type": "markdown",
   "metadata": {},
   "source": [
    "**Кеңейтілген қорытынды жасаңыз:**\n",
    "*   Тұрғын үй түрі бойынша қай категорияда ең жоғары медиандық табыс байқалады?\n",
    "*   Пәтер жалдаушыларды (`With parents`) және үй/пәтер иелерін (`House / apartment`) салыстырыңыз. Кімнің табысы орта есеппен жоғары?\n",
    "*   Жылжымайтын мүліктің болу фактісі (`FLAG_OWN_REALTY`) әр топ ішіндегі табыстың таралуына әсер ете ме?\n",
    "\n",
    "*Жауабыңызды осы жерге жазыңыз...*"
   ]
  },
  {
   "cell_type": "markdown",
   "metadata": {},
   "source": [
    "## 4-кезең. Жалпы қорытынды (1 балл)\n",
    "\n",
    "Барлық құрылған графиктер негізінде **қорытынды тұжырым** (3-4 сөйлем) жазыңыз. Несие картасын алуға өтініш беретін \"типтік\" клиентті сипаттаңыз. Деректерде қандай негізгі ерекшеліктерді немесе тәуелділіктерді анықтадыңыз?\n",
    "\n",
    "*Қорытынды тұжырымыңызды осы жерге жазыңыз...*"
   ]
  }
 ],
 "metadata": {
  "kernelspec": {
   "display_name": "Python [conda env:base] *",
   "language": "python",
   "name": "conda-base-py"
  },
  "language_info": {
   "codemirror_mode": {
    "name": "ipython",
    "version": 3
   },
   "file_extension": ".py",
   "mimetype": "text/x-python",
   "name": "python",
   "nbconvert_exporter": "python",
   "pygments_lexer": "ipython3",
   "version": "3.13.5"
  }
 },
 "nbformat": 4,
 "nbformat_minor": 4
}
