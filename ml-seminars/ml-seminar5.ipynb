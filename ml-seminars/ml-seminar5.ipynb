{
 "cells": [
  {
   "cell_type": "markdown",
   "metadata": {},
   "source": [
    "# Семинар 5: Первые шаги в визуализации данных с Matplotlib и Seaborn\n",
    "\n",
    "**Цель семинара:** Познакомиться с базовым синтаксисом библиотек Matplotlib и Seaborn, научиться строить основные типы графиков и делать по ним первичные выводы.\n",
    "\n",
    "**Оценка:** 6 баллов (+0.5 бонус)."
   ]
  },
  {
   "cell_type": "markdown",
   "metadata": {},
   "source": [
    "## Вводная часть\n",
    "\n",
    "Сегодня на семинаре мы перейдем от теории к практике. Наша цель — не просто научиться вызывать функции для построения графиков, а начать \"видеть\" данные, понимать их структуру и находить первые инсайты. Мы начнем с основ Matplotlib, чтобы понять \"под капотом\" процесса, а затем перейдем к Seaborn как нашему основному инструменту для быстрого и эффективного анализа."
   ]
  },
  {
   "cell_type": "code",
   "execution_count": null,
   "metadata": {},
   "outputs": [],
   "source": [
    "import pandas as pd\n",
    "import numpy as np\n",
    "import matplotlib.pyplot as plt\n",
    "import seaborn as sns\n",
    "\n",
    "# Команда для отображения графиков в ноутбуке\n",
    "%matplotlib inline"
   ]
  },
  {
   "cell_type": "markdown",
   "metadata": {},
   "source": [
    "## Задание 1. Разминка с Matplotlib (1 балл)\n",
    "\n",
    "Как мы видели на лекции, Matplotlib — это фундамент. Давайте создадим простой график \"с нуля\", чтобы закрепить базовые команды.\n",
    "\n",
    "1.  Создайте два массива NumPy:\n",
    "    *   `x` — 10 точек от 0 до 45.\n",
    "    *   `y` — значения `x`.\n",
    "2.  Постройте линейный график `(x, y)`.\n",
    "3.  Добавьте к графику:\n",
    "    *   Название: \"Простой линейный график\"\n",
    "    *   Подпись для оси X: \"Ось X\"\n",
    "    *   Подпись для оси Y: \"Ось Y\"\n",
    "    *   Сделайте линию красного цвета (`color='red'`) и увеличьте ее толщину до 3 (`linewidth=3`)."
   ]
  },
  {
   "cell_type": "code",
   "execution_count": null,
   "metadata": {},
   "outputs": [],
   "source": [
    "# Ваш код здесь"
   ]
  },
  {
   "cell_type": "markdown",
   "metadata": {},
   "source": [
    "**Вопрос для самопроверки:** За что отвечает каждая строка вашего кода?"
   ]
  },
  {
   "cell_type": "markdown",
   "metadata": {},
   "source": [
    "## Задание 2. Анализ данных о продажах с Seaborn (2.5 балла)\n",
    "\n",
    "Теперь воспользуемся мощью Seaborn для анализа файла `dm_office_sales.csv`."
   ]
  },
  {
   "cell_type": "markdown",
   "metadata": {},
   "source": [
    "### 2.1. Загрузка данных и первая диаграмма рассеяния"
   ]
  },
  {
   "cell_type": "code",
   "execution_count": null,
   "metadata": {},
   "outputs": [],
   "source": [
    "df_sales = pd.read_csv('dm_office_sales.csv')"
   ]
  },
  {
   "cell_type": "markdown",
   "metadata": {},
   "source": [
    "Постройте диаграмму рассеяния (`scatterplot`), чтобы изучить взаимосвязь между годовой зарплатой (`salary`) и объемом продаж (`sales`)."
   ]
  },
  {
   "cell_type": "code",
   "execution_count": null,
   "metadata": {},
   "outputs": [],
   "source": [
    "# Ваш код здесь"
   ]
  },
  {
   "cell_type": "markdown",
   "metadata": {},
   "source": [
    "**Вывод (1-2 предложения):** Существует ли видимая связь между зарплатой и продажами? Увеличиваются ли продажи с ростом зарплаты?\n",
    "\n",
    "*Ваш ответ здесь...*"
   ]
  },
  {
   "cell_type": "markdown",
   "metadata": {},
   "source": [
    "### 2.2. Добавление третьего измерения (`hue`)\n",
    "\n",
    "Скопируйте код из предыдущего пункта и добавьте параметр `hue='division'`, чтобы раскрасить точки в зависимости от отдела."
   ]
  },
  {
   "cell_type": "code",
   "execution_count": null,
   "metadata": {},
   "outputs": [],
   "source": [
    "# Ваш код здесь"
   ]
  },
  {
   "cell_type": "markdown",
   "metadata": {},
   "source": [
    "**Вывод (1-2 предложения):** Можно ли сказать, что в каком-то отделе сотрудники приносят больше продаж при сопоставимом уровне зарплаты?\n",
    "\n",
    "*Ваш ответ здесь...*"
   ]
  },
  {
   "cell_type": "markdown",
   "metadata": {},
   "source": [
    "## Задание 3. Исследование успеваемости студентов (2.5 балла)\n",
    "\n",
    "Переключимся на набор данных `StudentsPerformance.csv` и исследуем его."
   ]
  },
  {
   "cell_type": "code",
   "execution_count": null,
   "metadata": {},
   "outputs": [],
   "source": [
    "df_perf = pd.read_csv('StudentsPerformance.csv')"
   ]
  },
  {
   "cell_type": "markdown",
   "metadata": {},
   "source": [
    "### 3.1. Гистограмма распределения (`histplot`)\n",
    "\n",
    "Постройте гистограмму для распределения оценок по математике (`math score`). Для наглядности добавьте на график кривую плотности (`kde=True`)."
   ]
  },
  {
   "cell_type": "code",
   "execution_count": null,
   "metadata": {},
   "outputs": [],
   "source": [
    "# Ваш код здесь"
   ]
  },
  {
   "cell_type": "markdown",
   "metadata": {},
   "source": [
    "**Вывод:** Какую форму имеет распределение? Оно симметрично (похоже на \"колокол\")? Или смещено в какую-то сторону?\n",
    "\n",
    "*Ваш ответ здесь...*"
   ]
  },
  {
   "cell_type": "markdown",
   "metadata": {},
   "source": [
    "### 3.2. Ящик с усами (`boxplot`)\n",
    "\n",
    "С помощью `boxplot` сравните распределения оценок по письму (`writing score`) для каждой категории из столбца `parental level of education`."
   ]
  },
  {
   "cell_type": "code",
   "execution_count": null,
   "metadata": {},
   "outputs": [],
   "source": [
    "# Для лучшей читаемости подписей увеличим размер графика и повернем подписи\n",
    "plt.figure(figsize=(10,6))\n",
    "# Ваш код для boxplot здесь\n",
    "plt.xticks(rotation=30);"
   ]
  },
  {
   "cell_type": "markdown",
   "metadata": {},
   "source": [
    "**Напишите развернутый вывод:**\n",
    "*   У какой группы родителей медианная оценка детей выше всего?\n",
    "*   У какой группы самый большой разброс оценок (самый высокий \"ящик\")?\n",
    "*   Наблюдаются ли на графике выбросы (точки за пределами \"усов\")? Если да, то у каких групп?\n",
    "\n",
    "*Ваш ответ здесь...*"
   ]
  },
  {
   "cell_type": "markdown",
   "metadata": {},
   "source": [
    "## Задание 4 (Бонус). Сравнение средних значений с помощью `barplot` (0.5 балла)\n",
    "\n",
    "Мы использовали `boxplot` для сравнения *распределений* оценок. А как сравнить *средние* оценки? Для этого отлично подходит `barplot`.\n",
    "\n",
    "1.  Используя данные `StudentsPerformance.csv`, постройте `barplot`, чтобы сравнить среднюю оценку по математике (`math score`) в зависимости от того, проходил ли студент курс подготовки к тесту (`test preparation course`).\n",
    "2.  **Вывод (1 предложение):** Помогает ли курс подготовки, судя по средним оценкам?"
   ]
  },
  {
   "cell_type": "code",
   "execution_count": null,
   "metadata": {},
   "outputs": [],
   "source": [
    "# Ваш код здесь"
   ]
  },
  {
   "cell_type": "markdown",
   "metadata": {},
   "source": [
    "**Вывод:**\n",
    "\n",
    "*Ваш ответ здесь...*"
   ]
  }
 ],
 "metadata": {
  "kernelspec": {
   "display_name": "Python [conda env:base] *",
   "language": "python",
   "name": "conda-base-py"
  },
  "language_info": {
   "codemirror_mode": {
    "name": "ipython",
    "version": 3
   },
   "file_extension": ".py",
   "mimetype": "text/x-python",
   "name": "python",
   "nbconvert_exporter": "python",
   "pygments_lexer": "ipython3",
   "version": "3.13.5"
  }
 },
 "nbformat": 4,
 "nbformat_minor": 4
}
