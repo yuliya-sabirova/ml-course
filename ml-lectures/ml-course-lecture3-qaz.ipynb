{
 "cells": [
  {
   "cell_type": "markdown",
   "metadata": {},
   "source": [
    "# 3-дәріс: Pandas негіздері. Кестелік деректермен жұмыс\n",
    "\n",
    "**Курс:** Машиналық оқытуға кіріспе\n",
    "\n",
    "---"
   ]
  },
  {
   "cell_type": "markdown",
   "metadata": {},
   "source": [
    "### Дәріс мақсаттары\n",
    "\n",
    "1.  **Түсіну**, `Pandas` деген не және оның Машиналық оқыту міндеттеріндегі рөлі қандай.\n",
    "2.  **Зерттеу**, екі негізгі деректер құрылымын: `Series` және `DataFrame`.\n",
    "3.  **Үйрену**, деректерді сақтаудың ең танымал форматы — `CSV` файлдарынан деректерді жүктеу.\n",
    "4.  **Меңгеру**, деректерді бастапқы талдаудың негізгі әдістерін: деректерді қалай қарау керек, олардың өлшемін, түрлерін және негізгі статистикалық көрсеткіштерін білу.\n",
    "5.  **Игеру**, деректермен жұмыс істеудің іргелі дағдыларын: бағандарды таңдау, құру және жою; индекстер мен шарттар бойынша жолдарды таңдау.\n",
    "\n",
    "Бұл дәріс — деректермен тиімді жұмыс істеудің кілті. Нақты ML-жобаларда уақыттың 90%-ы деректерді дайындау мен тазалауға кетеді, ал Pandas — бұл міндет үшін біздің басты құралымыз."
   ]
  },
  {
   "cell_type": "markdown",
   "metadata": {},
   "source": [
    "## 1. Pandas деген не және ол не үшін қажет?\n",
    "\n",
    "Машиналық оқытудағы жобаның өмірлік циклін еске түсірейік:"
   ]
  },
  {
   "cell_type": "markdown",
   "metadata": {},
   "source": [
    "```mermaid\n",
    "graph TD;\n",
    "    A[Нақты әлем] --> B(Деректерді жинау);\n",
    "    subgraph \"Pandas таптырмайтын кезеңдер\"\n",
    "      B --> C(Деректерді тазалау және ұйымдастыру);\n",
    "      C --> D(Деректерді зерттеушілік талдау, EDA);\n",
    "    end\n",
    "    D --> E(ML модельдерін құру);\n",
    "    E --> F[Өнім];\n",
    "    F --> A;\n",
    "```\n",
    "\n",
    "**Pandas** — бұл деректерді талдау және өңдеу үшін жасалған жоғары деңгейлі Python кітапханасы. Ол NumPy негізінде құрылған және Data Science саласында іс жүзінде стандарт болып табылады.\n",
    "\n",
    "**Pandas неліктен маңызды?**\n",
    "- **Жылдамдық пен тиімділік:** Pandas Python тілінде жазылғанымен, оның маңызды бөліктері C тілінде жүзеге асырылған, бұл жоғары өнімділікті қамтамасыз етеді.\n",
    "- **Ыңғайлылық:** Pandas кестелермен (Excel немесе SQL кестелеріне ұқсас) жұмыс істеуге арналған қуатты және қолдануға оңай деректер құрылымдарын ұсынады.\n",
    "- **Икемділік:** Көптеген форматтардан деректерді оқуға және жазуға мүмкіндік береді: CSV, Excel, SQL, JSON және т.б.\n",
    "\n",
    "> **Қарапайым тілмен айтқанда:** егер NumPy матрицалар үшін \"арифметика\" болса, онда Pandas — бұл машиналық оқытуға деректерді дайындау үшін арнайы жасалған, Python кодының ішіндегі \"қуаттандырылған Excel\"."
   ]
  },
  {
   "cell_type": "markdown",
   "metadata": {},
   "source": [
    "### Кітапхананы импорттау\n",
    "\n",
    "Жалпы қабылданған келісім бойынша, Pandas `pd` бүркеншік атымен импортталады."
   ]
  },
  {
   "cell_type": "code",
   "execution_count": null,
   "metadata": {},
   "outputs": [],
   "source": [
    "import pandas as pd\n",
    "import numpy as np"
   ]
  },
  {
   "cell_type": "markdown",
   "metadata": {},
   "source": [
    "## 2. Деректер құрылымдары: Series және DataFrame\n",
    "\n",
    "Pandas-та оның \"әліппесі\" болып табылатын екі негізгі деректер құрылымы бар."
   ]
  },
  {
   "cell_type": "markdown",
   "metadata": {},
   "source": [
    "### 2.1. Series\n",
    "\n",
    "**`Series`** — бұл белгілері (индексі) бар бірөлшемді массив. Оны кестедегі бір баған ретінде елестетуге болады.\n",
    "\n",
    "NumPy массивінен негізгі айырмашылығы — **атаулы индекстің** болуы. Бұл элементтерге тек сандық позициясы бойынша ғана емес, сонымен қатар Python сөздігіндегідей белгісі бойынша да қол жеткізуге мүмкіндік береді."
   ]
  },
  {
   "cell_type": "code",
   "execution_count": null,
   "metadata": {},
   "outputs": [
    {
     "name": "stdout",
     "output_type": "stream",
     "text": [
      "USA       1776\n",
      "Canada    1867\n",
      "Mexico    1821\n",
      "dtype: int64\n"
     ]
    }
   ],
   "source": [
    "my_data = [1776, 1867, 1821]\n",
    "my_index = ['USA', 'Canada', 'Mexico']\n",
    "\n",
    "my_series = pd.Series(data=my_data, index=my_index)\n",
    "print(my_series)"
   ]
  },
  {
   "cell_type": "markdown",
   "metadata": {},
   "source": [
    "Деректерге сандық индекс (NumPy-дағы сияқты) арқылы да, белгі арқылы да қол жеткізуге болады."
   ]
  },
  {
   "cell_type": "code",
   "execution_count": null,
   "metadata": {},
   "outputs": [
    {
     "name": "stdout",
     "output_type": "stream",
     "text": [
      "'Canada' белгісі бойынша қол жеткізу: 1867\n",
      "0 индексі бойынша қол жеткізу: 1776\n"
     ]
    }
   ],
   "source": [
    "print(f\"'Canada' белгісі бойынша қол жеткізу: {my_series['Canada']}\")\n",
    "print(f\"0 индексі бойынша қол жеткізу: {my_series[0]}\")"
   ]
  },
  {
   "cell_type": "markdown",
   "metadata": {},
   "source": [
    "### 2.2. DataFrame\n",
    "\n",
    "**`DataFrame`** — Pandas-тағы негізгі деректер құрылымы. Бұл жолдар мен бағандардан тұратын екіөлшемді кесте.\n",
    "\n",
    "> **Қарапайым аналогия:** `DataFrame` — бұл Excel немесе SQL кестесі. Осы `DataFrame`-дегі әрбір баған `Series` объектісі болып табылады және барлық осы `Series` бағандарының ортақ индексі бар."
   ]
  },
  {
   "cell_type": "code",
   "execution_count": null,
   "metadata": {},
   "outputs": [
    {
     "data": {
      "text/html": [
       "..."
      ],
      "text/plain": [
       "..."
      ]
     },
     "output_type": "execute_result"
    }
   ],
   "source": [
    "# NumPy кездейсоқ сандарынан DataFrame құру\n",
    "np.random.seed(101) # нәтижелердің қайталануы үшін\n",
    "data = np.random.randn(3,4) # 3 жол, 4 баған\n",
    "index = ['A', 'B', 'C']\n",
    "columns = ['W', 'X', 'Y', 'Z']\n",
    "\n",
    "df = pd.DataFrame(data=data, index=index, columns=columns)\n",
    "df"
   ]
  },
  {
   "cell_type": "markdown",
   "metadata": {},
   "source": [
    "## 3. Деректерді жүктеу: `pd.read_csv()`\n",
    "\n",
    "Көбінесе сіз DataFrame-ді қолмен жасамайсыз. Оның орнына сыртқы дереккөзден деректерді жүктейсіз. Ең көп таралған формат — CSV (Comma-Separated Values, үтірмен бөлінген мәндер).\n",
    "\n",
    "Ол үшін `pd.read_csv()` функциясы қолданылады."
   ]
  },
  {
   "cell_type": "code",
   "execution_count": null,
   "metadata": {},
   "outputs": [],
   "source": [
    "# Мейрамханадағы шайпұл туралы ақпаратты қамтитын деректер жиынтығын жүктейміз\n",
    "# 'Stores.csv' файлы осы блокнотпен бір қалтада орналасуы керек\n",
    "stores_df = pd.read_csv('Stores.csv')"
   ]
  },
  {
   "cell_type": "markdown",
   "metadata": {},
   "source": [
    "## 4. Деректерді бастапқы қарау\n",
    "\n",
    "Деректерді жүктегеннен кейін бірінші істейтін нәрсе — \"пациентті тексеру\". Ол үшін бірнеше маңызды әдіс бар."
   ]
  },
  {
   "cell_type": "markdown",
   "metadata": {},
   "source": [
    "### `.head()` — алғашқы жолдарды қарау\n",
    "Бұл әдіс кестенің \"басын\" көруге және деректердің қалай көрінетіні туралы алғашқы түсінік алуға мүмкіндік береді."
   ]
  },
  {
   "cell_type": "code",
   "execution_count": null,
   "metadata": {},
   "outputs": [
    {
     "data": {
      "text/html": [
       "..."
      ],
      "text/plain": [
       "..."
      ]
     },
     "output_type": "execute_result"
    }
   ],
   "source": [
    "# Әдепкі бойынша .head() алғашқы 5 жолды көрсетеді\n",
    "stores_df.head()"
   ]
  },
  {
   "cell_type": "markdown",
   "metadata": {},
   "source": [
    "### `.info()` — құрылымы және деректер түрлері\n",
    "\n",
    "Бұл әдіс DataFrame туралы қысқаша мәлімет береді: жолдар саны, бағандардың саны мен атаулары, бос емес мәндердің саны және әр бағандағы деректер түрлері."
   ]
  },
  {
   "cell_type": "code",
   "execution_count": null,
   "metadata": {},
   "outputs": [
    {
     "name": "stdout",
     "output_type": "stream",
     "text": [
      "<class 'pandas.core.frame.DataFrame'>\n",
      "RangeIndex: 896 entries, 0 to 895\n",
      "Data columns (total 5 columns):\n",
      " #   Column                Non-None Count  Dtype \n",
      "---  ------                --------------  ----- \n",
      " 0   Store ID              896 non-None    int64 \n",
      " 1   Store_Area            896 non-None    int64 \n",
      " 2   Items_Available       896 non-None    int64 \n",
      " 3   Daily_Customer_Count  896 non-None    int64 \n",
      " 4   Store_Sales           896 non-None    int64 \n",
      "dtypes: int64(5)\n",
      "memory usage: 35.1 KB\n"
     ]
    }
   ],
   "source": [
    "stores_df.info()"
   ]
  },
  {
   "cell_type": "markdown",
   "metadata": {},
   "source": [
    "### `.describe()` — негізгі статистикалық көрсеткіштер\n",
    "\n",
    "Бұл әдіс **тек сандық бағандар** үшін сипаттамалық статистиканы есептейді: саны, орташа мәні, стандартты ауытқу, минимум, максимум және перцентильдер."
   ]
  },
  {
   "cell_type": "code",
   "execution_count": null,
   "metadata": {},
   "outputs": [
    {
     "data": {
      "text/html": [
       "..."
      ],
      "text/plain": [
       "..."
      ]
     },
     "output_type": "execute_result"
    }
   ],
   "source": [
    "stores_df.describe()"
   ]
  },
  {
   "cell_type": "markdown",
   "metadata": {},
   "source": [
    "### `.shape` — DataFrame өлшемділігі\n",
    "\n",
    "`.shape` атрибуты жолдар мен бағандар саны бар кортеж (tuple) қайтарады."
   ]
  },
  {
   "cell_type": "code",
   "execution_count": null,
   "metadata": {},
   "outputs": [
    {
     "data": {
      "text/plain": [
       "(896, 5)"
      ]
     },
     "output_type": "execute_result"
    }
   ],
   "source": [
    "stores_df.shape"
   ]
  },
  {
   "cell_type": "markdown",
   "metadata": {},
   "source": [
    "## 5. Бағандармен жұмыс\n",
    "\n",
    "Бағандармен манипуляция жасау — ең жиі орындалатын операциялардың бірі."
   ]
  },
  {
   "cell_type": "markdown",
   "metadata": {},
   "source": [
    "### Бағандарды таңдау\n",
    "\n",
    "Бір бағанды таңдау үшін сөздік элементіне жүгінуге ұқсас синтаксис қолданылады."
   ]
  },
  {
   "cell_type": "code",
   "execution_count": null,
   "metadata": {},
   "outputs": [
    {
     "data": {
      "text/plain": [
       "..."
      ]
     },
     "output_type": "execute_result"
    }
   ],
   "source": [
    "# Бір бағанды таңдау Series объектісін қайтарады\n",
    "sales_series = stores_df['Store_Sales']\n",
    "sales_series.head()"
   ]
  },
  {
   "cell_type": "markdown",
   "metadata": {},
   "source": [
    "Бірнеше бағанды таңдау үшін тік жақшаға олардың атауларының тізімі беріледі."
   ]
  },
  {
   "cell_type": "code",
   "execution_count": 1,
   "metadata": {},
   "outputs": [
    {
     "ename": "NameError",
     "evalue": "name 'stores_df' is not defined",
     "output_type": "error",
     "traceback": [
      "\u001b[1;31m---------------------------------------------------------------------------\u001b[0m",
      "\u001b[1;31mNameError\u001b[0m                                 Traceback (most recent call last)",
      "Cell \u001b[1;32mIn[1], line 3\u001b[0m\n\u001b[0;32m      1\u001b[0m \u001b[38;5;66;03m# Бірнеше бағанды таңдау жаңа DataFrame қайтарады\u001b[39;00m\n\u001b[0;32m      2\u001b[0m my_cols \u001b[38;5;241m=\u001b[39m [\u001b[38;5;124m'\u001b[39m\u001b[38;5;124mStore_Area\u001b[39m\u001b[38;5;124m'\u001b[39m, \u001b[38;5;124m'\u001b[39m\u001b[38;5;124mItems_Available\u001b[39m\u001b[38;5;124m'\u001b[39m, \u001b[38;5;124m'\u001b[39m\u001b[38;5;124mStore_Sales\u001b[39m\u001b[38;5;124m'\u001b[39m]\n\u001b[1;32m----> 3\u001b[0m sub_df \u001b[38;5;241m=\u001b[39m stores_df[my_cols]\n\u001b[0;32m      4\u001b[0m sub_df\u001b[38;5;241m.\u001b[39mhead()\n",
      "\u001b[1;31mNameError\u001b[0m: name 'stores_df' is not defined"
     ]
    }
   ],
   "source": [
    "# Бірнеше бағанды таңдау жаңа DataFrame қайтарады\n",
    "my_cols = ['Store_Area', 'Items_Available', 'Store_Sales']\n",
    "sub_df = stores_df[my_cols]\n",
    "sub_df.head()"
   ]
  },
  {
   "cell_type": "markdown",
   "metadata": {},
   "source": [
    "### Жаңа бағандарды құру\n",
    "\n",
    "Жаңа бағандар мәндерді меншіктеу арқылы жасалады. Көбінесе бұл бұрыннан бар бағандар негізіндегі есептеулердің нәтижесі болады. `sales_per_sq_area` (бір шаршы ауданға шаққандағы сатылым) бағанын құрайық."
   ]
  },
  {
   "cell_type": "code",
   "execution_count": null,
   "metadata": {},
   "outputs": [
    {
     "data": {
      "text/html": [
       "..."
      ],
      "text/plain": [
       "..."
      ]
     },
     "output_type": "execute_result"
    }
   ],
   "source": [
    "stores_df['sales_per_sq_area'] = stores_df['Store_Sales'] / stores_df['Store_Area']\n",
    "stores_df.head()"
   ]
  },
  {
   "cell_type": "markdown",
   "metadata": {},
   "source": [
    "### Бағандарды жою\n",
    "\n",
    "Жою үшін `.drop()` әдісі қолданылады. Pandas-тың бағанды жойып жатқанымызды түсінуі үшін `axis=1` осін көрсету маңызды."
   ]
  },
  {
   "cell_type": "code",
   "execution_count": null,
   "metadata": {},
   "outputs": [
    {
     "data": {
      "text/html": [
       "..."
      ],
      "text/plain": [
       "..."
      ]
     },
     "output_type": "execute_result"
    }
   ],
   "source": [
    "# 'Store ID' бағанын жоямыз\n",
    "# .drop() әдісі бастапқы DataFrame-ді өзгертпей, жаңа DataFrame қайтарады\n",
    "stores_df_cleaned = stores_df.drop('Store ID ', axis=1)\n",
    "stores_df_cleaned.head()"
   ]
  },
  {
   "cell_type": "markdown",
   "metadata": {},
   "source": [
    "## 6. Жолдармен жұмыс: `.loc` және `.iloc`\n",
    "\n",
    "Бұл деректерді алу үшін ең маңызды дағды. Pandas-та жолдарды индекстеудің екі негізгі әдісі бар:\n",
    "- `.loc[]` — **label-based** indexing (белгілер бойынша индекстеу).\n",
    "- `.iloc[]` — **integer-location** based indexing (сандық позиция бойынша индекстеу).\n",
    "\n",
    "Алдымен `.set_index()` көмегімен бағандардың бірін индекс ретінде орнатайық."
   ]
  },
  {
   "cell_type": "code",
   "execution_count": null,
   "metadata": {},
   "outputs": [
    {
     "data": {
      "text/html": [
       "..."
      ],
      "text/plain": [
       "..."
      ]
     },
     "output_type": "execute_result"
    }
   ],
   "source": [
    "# 'Store ID ' бағанын индекс ретінде орнатайық, сонда жолдардың бірегей белгілері болады\n",
    "stores_df_indexed = stores_df.set_index('Store ID ')\n",
    "stores_df_indexed.head()"
   ]
  },
  {
   "cell_type": "markdown",
   "metadata": {},
   "source": [
    "### Жолдарды таңдау\n",
    "Енді біз жолдарды олардың жаңа белгісі бойынша `.loc[]` көмегімен таңдай аламыз."
   ]
  },
  {
   "cell_type": "code",
   "execution_count": null,
   "metadata": {},
   "outputs": [
    {
     "data": {
      "text/plain": [
       "..."
      ]
     },
     "output_type": "execute_result"
    }
   ],
   "source": [
    "# Индекс белгісі бойынша бір жолды таңдау\n",
    "stores_df_indexed.loc[3]"
   ]
  },
  {
   "cell_type": "markdown",
   "metadata": {},
   "source": [
    "Немесе `.iloc[]` (индекстеу 0-ден басталады) көмегімен сандық позиция бойынша."
   ]
  },
  {
   "cell_type": "code",
   "execution_count": null,
   "metadata": {},
   "outputs": [
    {
     "data": {
      "text/plain": [
       "..."
      ]
     },
     "output_type": "execute_result"
    }
   ],
   "source": [
    "# Бір жолды оның реттік нөмірі бойынша таңдау\n",
    "stores_df_indexed.iloc[2]"
   ]
  },
  {
   "cell_type": "markdown",
   "metadata": {},
   "source": [
    "Екі әдіс те бірнеше жолды таңдауды және кесінділерді (slicing) қолдайды."
   ]
  },
  {
   "cell_type": "markdown",
   "metadata": {},
   "source": [
    "## 7. Шарт бойынша деректерді сүзу\n",
    "\n",
    "Бұл, бәлкім, Pandas-тағы ең маңызды дағды. Ол белгілі бір шарттарға сәйкес келетін деректердің ішкі жиынын таңдауға мүмкіндік береді.\n",
    "\n",
    "Процесс екі қадамнан тұрады:\n",
    "1. Бульдік маска (boolean mask) құру — бұл `True` және `False` мәндерінен тұратын `Series` объектісі.\n",
    "2. Осы масканы `DataFrame`-ге беру."
   ]
  },
  {
   "cell_type": "markdown",
   "metadata": {},
   "source": [
    "### Бір шарт\n",
    "`Daily_Customer_Count` 1000-нан асатын барлық дүкендерді табайық."
   ]
  },
  {
   "cell_type": "code",
   "execution_count": null,
   "metadata": {},
   "outputs": [
    {
     "data": {
      "text/plain": [
       "..."
      ]
     },
     "output_type": "execute_result"
    }
   ],
   "source": [
    "# 1-қадам: Бульдік маска құру\n",
    "mask = stores_df['Daily_Customer_Count'] > 1000\n",
    "mask.head()"
   ]
  },
  {
   "cell_type": "code",
   "execution_count": null,
   "metadata": {},
   "outputs": [
    {
     "data": {
      "text/html": [
       "..."
      ],
      "text/plain": [
       "..."
      ]
     },
     "output_type": "execute_result"
    }
   ],
   "source": [
    "# 2-қадам: Масканы DataFrame-ге қолдану\n",
    "stores_df[mask].head()"
   ]
  },
  {
   "cell_type": "markdown",
   "metadata": {},
   "source": [
    "### Бірнеше шарт\n",
    "\n",
    "Шарттарды біріктіру үшін `&` (ЖӘНЕ), `|` (НЕМЕСЕ) және `~` (ЕМЕС) операторлары қолданылады.\n",
    "\n",
    "> **Маңызды:** Python-дағы операторлардың орындалу тәртібіне байланысты әрбір жеке шартты дөңгелек жақшаға `()` алу керек.\n",
    "\n",
    "Ауданы 1500-ден үлкен (`Store_Area > 1500`) ЖӘНЕ сатылымы 60000-нан жоғары (`Store_Sales > 60000`) дүкендерді табайық."
   ]
  },
  {
   "cell_type": "code",
   "execution_count": null,
   "metadata": {},
   "outputs": [
    {
     "data": {
      "text/html": [
       "..."
      ],
      "text/plain": [
       "..."
      ]
     },
     "output_type": "execute_result"
    }
   ],
   "source": [
    "stores_df[(stores_df['Store_Area'] > 1500) & (stores_df['Store_Sales'] > 60000)].head()"
   ]
  },
  {
   "cell_type": "markdown",
   "metadata": {},
   "source": [
    "### `.isin()` әдісі\n",
    "\n",
    "Егер бірнеше мәннен тұратын тізімге кіруін тексеру қажет болса, көптеген `|` (НЕМЕСЕ) орнына `.isin()` әдісін қолданған ыңғайлы."
   ]
  },
  {
   "cell_type": "code",
   "execution_count": null,
   "metadata": {},
   "outputs": [
    {
     "data": {
      "text/html": [
       "..."
      ],
      "text/plain": [
       "..."
      ]
     },
     "output_type": "execute_result"
    }
   ],
   "source": [
    "# ID-лері 10, 20, 30 болатын дүкендерді табайық\n",
    "id_options = [10, 20, 30]\n",
    "stores_df[stores_df['Store ID '].isin(id_options)]"
   ]
  },
  {
   "cell_type": "markdown",
   "metadata": {},
   "source": [
    "## 8. Басқа пайдалы әдістер\n",
    "\n",
    "Зерттеушілік талдауда жиі қолданылатын бірнеше әдісті қарастырайық."
   ]
  },
  {
   "cell_type": "markdown",
   "metadata": {},
   "source": [
    "### `.sort_values()` — деректерді сұрыптау"
   ]
  },
  {
   "cell_type": "code",
   "execution_count": null,
   "metadata": {},
   "outputs": [
    {
     "data": {
      "text/html": [
       "..."
      ],
      "text/plain": [
       "..."
      ]
     },
     "output_type": "execute_result"
    }
   ],
   "source": [
    "# 'Store_Sales' бағаны бойынша кему ретімен сұрыптау\n",
    "stores_df.sort_values('Store_Sales', ascending=False).head()"
   ]
  },
  {
   "cell_type": "markdown",
   "metadata": {},
   "source": [
    "### `.value_counts()` — бірегей мәндерді санау"
   ]
  },
  {
   "cell_type": "code",
   "execution_count": null,
   "metadata": {},
   "outputs": [
    {
     "data": {
      "text/plain": [
       "..."
      ]
     },
     "output_type": "execute_result"
    }
   ],
   "source": [
    "# `Daily_Customer_Count` бағанындағы мәндердің жиілігін санайық (алғашқы 10)\n",
    "stores_df['Daily_Customer_Count'].value_counts().head(10)"
   ]
  },
  {
   "cell_type": "markdown",
   "metadata": {},
   "source": [
    "### `.unique()` және `.nunique()`\n",
    "\n",
    "- `.unique()` бірегей мәндердің массивін қайтарады.\n",
    "- `.nunique()` бірегей мәндердің санын қайтарады."
   ]
  },
  {
   "cell_type": "code",
   "execution_count": null,
   "metadata": {},
   "outputs": [
    {
     "name": "stdout",
     "output_type": "stream",
     "text": [
      "Бірегей аудандар саны: 585\n"
     ]
    }
   ],
   "source": [
    "print(f\"Бірегей аудандар саны: {stores_df['Store_Area'].nunique()}\")"
   ]
  },
  {
   "cell_type": "markdown",
   "metadata": {},
   "source": [
    "## Резюме және келесі қадамдар\n",
    "\n",
    "*   **Бүгін не үйрендік:**\n",
    "    *   Pandas — Python-дағы кестелік деректермен жұмыс істеуге арналған негізгі құрал.\n",
    "    *   Негізгі деректер құрылымдары — `Series` (баған) және `DataFrame` (кесте).\n",
    "    *   Деректерді CSV файлдарынан `pd.read_csv()` көмегімен оңай жүктеуге болады.\n",
    "    *   Бастапқы талдауға `.head()`, `.info()`, `.describe()` әдістері кіреді.\n",
    "    *   Біз бағандарды таңдауды, құруды және жоюды үйрендік.\n",
    "    *   Жолдарды белгілер (`.loc`) және позициялар (`.iloc`) бойынша таңдауды меңгердік.\n",
    "    *   Деректерді бір және бірнеше шарттар бойынша сүзуді үйрендік.\n",
    "\n",
    "*   **Ары қарай не болады?**\n",
    "    *   **Бүгінгі семинарда** біз осы дағдыларды іс жүзінде бекітеміз.\n",
    "    *   **Зертханалық жұмыста** сіз деректерді жүктеу, қарау және сүзу бойынша бірқатар тапсырмаларды өз бетіңізше орындайсыз.\n",
    "    *   **Келесі дәрісте** біз күрделірек тақырыптарға көшеміз: жоқ деректерді өңдеу және деректерді агрегаттау (Group By)."
   ]
  }
 ],
 "metadata": {
  "kernelspec": {
   "display_name": "Python [conda env:base] *",
   "language": "python",
   "name": "conda-base-py"
  },
  "language_info": {
   "codemirror_mode": {
    "name": "ipython",
    "version": 3
   },
   "file_extension": ".py",
   "mimetype": "text/x-python",
   "name": "python",
   "nbconvert_exporter": "python",
   "pygments_lexer": "ipython3",
   "version": "3.13.5"
  }
 },
 "nbformat": 4,
 "nbformat_minor": 4
}
