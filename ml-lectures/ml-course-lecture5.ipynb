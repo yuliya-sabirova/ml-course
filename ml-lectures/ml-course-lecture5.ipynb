{
 "cells": [
  {
   "cell_type": "markdown",
   "metadata": {},
   "source": [
    "# Лекция 5. Визуализация данных. Использование библиотек Matplotlib и Seaborn\n",
    "\n",
    "**Цель лекции:** научиться создавать базовые графики для анализа данных с использованием библиотек `Matplotlib` и `Seaborn`. Эти навыки являются ключевыми для проведения разведочного анализа данных (EDA - Exploratory Data Analysis), который составляет основу любого проекта в машинном обучении."
   ]
  },
  {
   "cell_type": "markdown",
   "metadata": {},
   "source": [
    "## Введение: Зачем нужна визуализация?\n",
    "\n",
    "Анализ данных редко обходится без графиков. Визуализация помогает:\n",
    "\n",
    "1.  **Быстро находить паттерны и зависимости:** Человеческий глаз отлично справляется с поиском закономерностей на изображениях, в то время как в таблице с тысячами строк эти же закономерности могут быть незаметны.\n",
    "2.  **Обнаруживать аномалии и выбросы:** Необычные значения на графиках сразу бросаются в глаза.\n",
    "3.  **Понимать распределение данных:** Является ли распределение нормальным? Есть ли несколько пиков (мод)? Насколько велик разброс?\n",
    "4.  **Эффектно представлять результаты:** График часто бывает более убедительным и понятным, чем таблица или текст.\n",
    "\n",
    "В экосистеме Python существует множество инструментов для визуализации, но два из них являются стандартом де-факто: **Matplotlib** и **Seaborn**."
   ]
  },
  {
   "cell_type": "markdown",
   "metadata": {},
   "source": [
    "### Matplotlib vs Seaborn\n",
    "\n",
    "*   **`Matplotlib`** — это \"дедушка\" визуализации в Python. Это фундаментальная, низкоуровневая библиотека, которая предоставляет полный контроль над каждым элементом графика. На её основе построено большинство других библиотек, включая Seaborn.\n",
    "\n",
    "*   **`Seaborn`** — это высокоуровневая библиотека, созданная поверх Matplotlib. Она разработана специально для статистической визуализации и отлично интегрируется с `Pandas`. Seaborn позволяет создавать сложные и красивые графики буквально в одну строку кода, избавляя от рутинных настроек. \n",
    "\n",
    "**Наш подход:** Мы начнем с краткого обзора Matplotlib, чтобы понять основные принципы построения графиков. Затем мы перейдем к Seaborn как к основному инструменту для быстрого и эффективного анализа данных. Важно помнить: **почти любая настройка графика Seaborn может быть выполнена с помощью команд Matplotlib.**"
   ]
  },
  {
   "cell_type": "markdown",
   "metadata": {},
   "source": [
    "## Часть 1: Основы Matplotlib — Фундамент\n",
    "\n",
    "Чтобы понять, как устроен Seaborn, нужно знать, что в основе любого графика лежит объект `Figure` (холст) и один или несколько объектов `Axes` (оси/область для рисования). Matplotlib позволяет работать с ними напрямую."
   ]
  },
  {
   "cell_type": "code",
   "execution_count": null,
   "metadata": {},
   "outputs": [],
   "source": [
    "import matplotlib.pyplot as plt\n",
    "import numpy as np\n",
    "import pandas as pd\n",
    "import seaborn as sns"
   ]
  },
  {
   "cell_type": "code",
   "execution_count": null,
   "metadata": {},
   "outputs": [],
   "source": [
    "# Команда для корректного отображения графиков в Jupyter Notebook\n",
    "%matplotlib inline"
   ]
  },
  {
   "cell_type": "markdown",
   "metadata": {},
   "source": [
    "### 1.1 Базовый график и его основные атрибуты\n",
    "\n",
    "Давайте создадим простой график и настроим его внешний вид с помощью основных атрибутов Matplotlib."
   ]
  },
  {
   "cell_type": "code",
   "execution_count": null,
   "metadata": {},
   "outputs": [],
   "source": [
    "x = np.arange(0,10)\n",
    "y = 2*x"
   ]
  },
  {
   "cell_type": "markdown",
   "metadata": {},
   "source": [
    "Создадим график с подписями осей и заголовком."
   ]
  },
  {
   "cell_type": "code",
   "execution_count": null,
   "metadata": {},
   "outputs": [],
   "source": [
    "plt.plot(x, y)\n",
    "plt.xlabel('Название оси X')\n",
    "plt.ylabel('Название оси Y')\n",
    "plt.title('Название графика');"
   ]
  },
  {
   "cell_type": "markdown",
   "metadata": {},
   "source": [
    "#### `xlim` и `ylim`\n",
    "Эти атрибуты устанавливают пределы (границы) для осей X и Y. Это полезно, чтобы сфокусироваться на определенном участке графика."
   ]
  },
  {
   "cell_type": "code",
   "execution_count": null,
   "metadata": {},
   "outputs": [],
   "source": [
    "plt.plot(x, y)\n",
    "plt.xlabel('Ось X')\n",
    "plt.ylabel('Ось Y')\n",
    "plt.title('График с измененными осями')\n",
    "\n",
    "# Устанавливаем пределы: (нижняя_граница, верхняя_граница)\n",
    "plt.xlim(0, 6)\n",
    "plt.ylim(0, 12);"
   ]
  },
  {
   "cell_type": "markdown",
   "metadata": {},
   "source": [
    "#### `label` и `legend`\n",
    "Когда на одном графике несколько линий, нужна легенда. Атрибут `label` задает имя для линии, а функция `plt.legend()` отображает легенду."
   ]
  },
  {
   "cell_type": "code",
   "execution_count": null,
   "metadata": {},
   "outputs": [],
   "source": [
    "plt.plot(x, x**2, label=\"x^2\")\n",
    "plt.plot(x, x**3, label=\"x^3\")\n",
    "plt.legend();"
   ]
  },
  {
   "cell_type": "markdown",
   "metadata": {},
   "source": [
    "Легенду можно размещать в разных местах. `loc` принимает значения от 0 до 10 для стандартных позиций, или можно задать координаты вручную. Особенно полезно бывает вынести легенду за пределы графика."
   ]
  },
  {
   "cell_type": "code",
   "execution_count": null,
   "metadata": {},
   "outputs": [],
   "source": [
    "plt.plot(x, x**2, label=\"x^2\")\n",
    "plt.plot(x, x**3, label=\"x^3\")\n",
    "\n",
    "# loc='best' (или 0) - Matplotlib сам выберет лучшее место\n",
    "# bbox_to_anchor позволяет вынести легенду за пределы. (1.05, 1) - правее и выше области графика.\n",
    "plt.legend(loc='best', bbox_to_anchor=(1.25, 1));"
   ]
  },
  {
   "cell_type": "markdown",
   "metadata": {},
   "source": [
    "#### `figsize` и `linewidth`\n",
    "Эти атрибуты управляют физическими размерами графика и толщиной линий. Они задаются при создании объекта `Figure`. Это **объектно-ориентированный подход (ООП) к созданию графиков**: мы явно создаем объекты Figure и Axes и работаем с их методами. **Именно этот подход лежит в основе Seaborn.** До этого мы использовали **функциональный подход (как в MATLAB)**: мы вызываем функции из `plt`, которые применяются к текущему активному графику."
   ]
  },
  {
   "cell_type": "code",
   "execution_count": null,
   "metadata": {},
   "outputs": [],
   "source": [
    "# Создаем холст определенного размера\n",
    "fig = plt.figure(figsize=(8, 5)) # (ширина, высота) в дюймах\n",
    "ax = fig.add_axes([0, 0, 1, 1])\n",
    "\n",
    "# Задаем толщину линий с помощью linewidth или lw\n",
    "ax.plot(x, x, label='x', linewidth=1)\n",
    "ax.plot(x, x*2, label='2x', lw=3)\n",
    "ax.plot(x, x*3, label='3x', lw=5)\n",
    "ax.legend();"
   ]
  },
  {
   "cell_type": "markdown",
   "metadata": {},
   "source": [
    "## Часть 2: Seaborn — Визуализация для Анализа Данных\n",
    "\n",
    "Seaborn упрощает работу, принимая на вход DataFrame и названия колонок, которые нужно отобразить."
   ]
  },
  {
   "cell_type": "code",
   "execution_count": null,
   "metadata": {},
   "outputs": [],
   "source": [
    "# Загружаем данные для примеров\n",
    "df = pd.read_csv('dm_office_sales.csv')\n",
    "perf_df = pd.read_csv('StudentsPerformance.csv')"
   ]
  },
  {
   "cell_type": "markdown",
   "metadata": {},
   "source": [
    "### 2.1 Изучение взаимосвязей: `scatterplot` (диаграмма рассеяния)\n",
    "\n",
    "**Теория:** Диаграмма рассеяния — основной инструмент для визуализации связи между двумя **непрерывными (числовыми)** переменными. Она позволяет увидеть тип зависимости (линейная, нелинейная), её направление (положительная, отрицательная) и наличие выбросов."
   ]
  },
  {
   "cell_type": "code",
   "execution_count": null,
   "metadata": {},
   "outputs": [],
   "source": [
    "sns.scatterplot(x='salary', y='sales', data=df);"
   ]
  },
  {
   "cell_type": "markdown",
   "metadata": {},
   "source": [
    "**Атрибуты:** `scatterplot` позволяет добавить на график дополнительные измерения с помощью различных атрибутов.\n",
    "\n",
    "#### `hue`\n",
    "Атрибут `hue` (оттенок) позволяет раскрасить точки в зависимости от значения **категориальной** переменной. Это добавляет на график третье измерение."
   ]
  },
  {
   "cell_type": "code",
   "execution_count": null,
   "metadata": {},
   "outputs": [],
   "source": [
    "# Раскрасим точки в зависимости от отдела (division)\n",
    "sns.scatterplot(x='salary', y='sales', data=df, hue='division');"
   ]
  },
  {
   "cell_type": "markdown",
   "metadata": {},
   "source": [
    "#### `size` и `s`\n",
    "`size` изменяет размер точек в зависимости от **числовой** переменной. `s` задает **одинаковый** размер для всех точек."
   ]
  },
  {
   "cell_type": "code",
   "execution_count": null,
   "metadata": {},
   "outputs": [],
   "source": [
    "# Размер точек зависит от опыта работы (work experience)\n",
    "sns.scatterplot(x='salary', y='sales', data=df, size='work experience');"
   ]
  },
  {
   "cell_type": "code",
   "execution_count": null,
   "metadata": {},
   "outputs": [],
   "source": [
    "# Сделаем все точки крупнее\n",
    "sns.scatterplot(x='salary', y='sales', data=df, s=100);"
   ]
  },
  {
   "cell_type": "markdown",
   "metadata": {},
   "source": [
    "#### `alpha`\n",
    "Задает прозрачность точек (от 0 до 1). Очень полезно, когда точек много и они накладываются друг на друга."
   ]
  },
  {
   "cell_type": "code",
   "execution_count": null,
   "metadata": {},
   "outputs": [],
   "source": [
    "# Сделаем точки полупрозрачными, чтобы видеть скопления\n",
    "sns.scatterplot(x='salary', y='sales', data=df, s=100, alpha=0.3);"
   ]
  },
  {
   "cell_type": "markdown",
   "metadata": {},
   "source": [
    "#### `style` и `palette`\n",
    "`style` изменяет стиль маркера в зависимости от категориальной переменной. `palette` позволяет выбрать цветовую палитру.\n",
    "\n",
    "Полный список палитр можно найти в [документации Matplotlib](https://matplotlib.org/stable/tutorials/colors/colormaps.html)."
   ]
  },
  {
   "cell_type": "code",
   "execution_count": null,
   "metadata": {},
   "outputs": [],
   "source": [
    "# Комбинируем атрибуты\n",
    "sns.scatterplot(x='salary', y='sales', data=df, hue='level of education', style='level of education', palette='viridis');"
   ]
  },
  {
   "cell_type": "markdown",
   "metadata": {},
   "source": [
    "### 2.2 Изучение распределений\n",
    "\n",
    "Чтобы понять характер одной **числовой** переменной, используются гистограммы, графики плотности и \"ковровые\" диаграммы."
   ]
  },
  {
   "cell_type": "markdown",
   "metadata": {},
   "source": [
    "#### `rugplot`\n",
    "**Теория:** `rugplot` (ковровая диаграмма) — это самый простой способ визуализировать распределение. Она наносит небольшие вертикальные черточки на оси для каждой точки данных. Это полезно, чтобы увидеть, где именно находятся отдельные наблюдения, но при большом количестве данных черточки сливаются."
   ]
  },
  {
   "cell_type": "code",
   "execution_count": null,
   "metadata": {},
   "outputs": [],
   "source": [
    "sns.rugplot(data=df, x='salary');"
   ]
  },
  {
   "cell_type": "markdown",
   "metadata": {},
   "source": [
    "#### `histplot` и `kdeplot`\n",
    "\n",
    "**Теория:** \n",
    "- **Гистограмма (`histplot`)** группирует данные в интервалы (bins) и показывает, сколько значений попало в каждый интервал.\n",
    "- **График ядерной оценки плотности (`kdeplot`)** — это сглаженная версия гистограммы, которая показывает плотность вероятности для каждого значения. Он помогает увидеть форму распределения более четко."
   ]
  },
  {
   "cell_type": "code",
   "execution_count": null,
   "metadata": {},
   "outputs": [],
   "source": [
    "# Построим гистограмму для зарплат\n",
    "sns.histplot(data=df, x='salary');"
   ]
  },
  {
   "cell_type": "markdown",
   "metadata": {},
   "source": [
    "**Атрибуты:**\n",
    "#### `bins` и `kde`\n",
    "`bins` — количество интервалов. `kde=True` добавляет на гистограмму график оценки плотности."
   ]
  },
  {
   "cell_type": "code",
   "execution_count": null,
   "metadata": {},
   "outputs": [],
   "source": [
    "sns.histplot(data=df, x='salary', bins=20, kde=True);"
   ]
  },
  {
   "cell_type": "markdown",
   "metadata": {},
   "source": [
    "Можно построить только график плотности (`kdeplot`)."
   ]
  },
  {
   "cell_type": "code",
   "execution_count": null,
   "metadata": {},
   "outputs": [],
   "source": [
    "sns.kdeplot(data=df, x='salary');"
   ]
  },
  {
   "cell_type": "markdown",
   "metadata": {},
   "source": [
    "#### `bw_adjust` и `shade`/`fill` для `kdeplot`\n",
    "`bw_adjust` (bandwidth adjustment) контролирует степень сглаживания кривой. Чем меньше значение, тем более \"остро\" кривая следует за данными; чем больше, тем она более гладкая.\n",
    "`shade=True` (устаревший) или `fill=True` (современный) закрашивает область под кривой."
   ]
  },
  {
   "cell_type": "code",
   "execution_count": null,
   "metadata": {},
   "outputs": [],
   "source": [
    "# Менее сглаженный график\n",
    "sns.kdeplot(data=df, x='salary', bw_adjust=0.2);"
   ]
  },
  {
   "cell_type": "code",
   "execution_count": null,
   "metadata": {},
   "outputs": [],
   "source": [
    "# Более сглаженный график с заливкой\n",
    "sns.kdeplot(data=df, x='salary', bw_adjust=2, fill=True);"
   ]
  },
  {
   "cell_type": "markdown",
   "metadata": {},
   "source": [
    "### 2.3 Категориальные данные\n",
    "\n",
    "**Теория:** Категориальная визуализация используется для сравнения числовых показателей между различными группами (категориями). Например, как различаются средние зарплаты по отделам или как распределены оценки студентов разных этнических групп. Это одна из самых сильных сторон Seaborn."
   ]
  },
  {
   "cell_type": "markdown",
   "metadata": {},
   "source": [
    "#### `countplot`\n",
    "**Теория:** Считает количество записей для каждой категории."
   ]
  },
  {
   "cell_type": "code",
   "execution_count": null,
   "metadata": {},
   "outputs": [],
   "source": [
    "sns.countplot(x='division', data=df);"
   ]
  },
  {
   "cell_type": "markdown",
   "metadata": {},
   "source": [
    "#### `barplot`\n",
    "**Теория:** Показывает среднее значение числовой переменной для каждой категории. Если задать разные столбцы для `x` и `hue`, получится **сгруппированная столбчатая диаграмма**."
   ]
  },
  {
   "cell_type": "code",
   "execution_count": null,
   "metadata": {},
   "outputs": [],
   "source": [
    "# Сравним среднюю зарплату по уровню образования\n",
    "plt.figure(figsize=(10,6))\n",
    "sns.barplot(x='level of education', y='salary', data=df);"
   ]
  },
  {
   "cell_type": "code",
   "execution_count": null,
   "metadata": {},
   "outputs": [],
   "source": [
    "# Сравним среднюю зарплату по уровню образования, с разбивкой по отделам\n",
    "plt.figure(figsize=(10,6))\n",
    "sns.barplot(x='level of education', y='salary', data=df, hue='division');"
   ]
  },
  {
   "cell_type": "markdown",
   "metadata": {},
   "source": [
    "#### `boxplot` (ящик с усами)\n",
    "\n",
    "**Теория: Что такое перцентили и квартили?**\n",
    "- **Перцентиль** — это значение, ниже которого лежит определенный процент наблюдений. Например, 25-й перцентиль — это значение, ниже которого находятся 25% всех данных.\n",
    "- **Квартили** — это частный случай перцентилей, которые делят все данные на четыре равные части:\n",
    "  - **Q1 (первый квартиль)** = 25-й перцентиль.\n",
    "  - **Q2 (второй квартиль)** = 50-й перцентиль, это **медиана**.\n",
    "  - **Q3 (третий квартиль)** = 75-й перцентиль.\n",
    "- **Межквартильный размах (IQR)** = Q3 - Q1. Это диапазон, в котором лежат центральные 50% данных.\n",
    "\n",
    "**Как читать Boxplot:**\n",
    "1.  **Линия в центре ящика** — это медиана (Q2).\n",
    "2.  **Границы ящика** — это Q1 и Q3. Высота ящика — это IQR.\n",
    "3.  **\"Усы\"** — обычно простираются до 1.5 * IQR от границ ящика. Они показывают основной разброс данных.\n",
    "4.  **Точки за усами** — это выбросы, то есть аномально высокие или низкие значения.\n",
    "\n",
    "`boxplot` идеально подходит для сравнения распределений и поиска выбросов в разных категориях."
   ]
  },
  {
   "cell_type": "code",
   "execution_count": null,
   "metadata": {},
   "outputs": [],
   "source": [
    "# Сравним распределение оценок по математике в зависимости от уровня образования родителей\n",
    "plt.figure(figsize=(10, 6))\n",
    "sns.boxplot(x='parental level of education', y='math score', data=perf_df);"
   ]
  },
  {
   "cell_type": "markdown",
   "metadata": {},
   "source": [
    "**Ориентация:** График можно сделать горизонтальным, просто поменяв местами переменные для осей `x` и `y`. Категориальная переменная всегда определяет оси с группами, а числовая — оси со значениями."
   ]
  },
  {
   "cell_type": "code",
   "execution_count": null,
   "metadata": {},
   "outputs": [],
   "source": [
    "# Горизонтальный boxplot\n",
    "plt.figure(figsize=(8, 5))\n",
    "sns.boxplot(y='parental level of education', x='math score', data=perf_df);"
   ]
  },
  {
   "cell_type": "markdown",
   "metadata": {},
   "source": [
    "#### `violinplot`\n",
    "\n",
    "**Теория:** Скрипичная диаграмма объединяет `boxplot` и `kdeplot`, показывая не только статистические сводки, но и форму распределения данных."
   ]
  },
  {
   "cell_type": "code",
   "execution_count": null,
   "metadata": {},
   "outputs": [],
   "source": [
    "plt.figure(figsize=(12, 7))\n",
    "sns.violinplot(x='parental level of education', y='math score', data=perf_df, hue='gender', split=True);"
   ]
  },
  {
   "cell_type": "markdown",
   "metadata": {},
   "source": [
    "### 2.4 Комплексная визуализация: `pairplot`\n",
    "\n",
    "**Теория:** `pairplot` строит диаграммы рассеяния для каждой пары числовых признаков, а на диагонали — гистограммы их распределений. Это позволяет одним взглядом оценить все парные зависимости и распределения.\n"
   ]
  },
  {
   "cell_type": "code",
   "execution_count": null,
   "metadata": {},
   "outputs": [],
   "source": [
    "# Раскрасим точки в зависимости от пола (gender)\n",
    "sns.pairplot(data=perf_df, hue='gender', palette='viridis');"
   ]
  },
  {
   "cell_type": "markdown",
   "metadata": {},
   "source": [
    "#### `diag_kind`\n",
    "Этот атрибут позволяет изменить тип графика на диагонали. По умолчанию стоит `'auto'`, но можно явно указать `'hist'` (гистограмма) или `'kde'` (график плотности)."
   ]
  },
  {
   "cell_type": "code",
   "execution_count": null,
   "metadata": {},
   "outputs": [],
   "source": [
    "# На диагонали будут графики плотности\n",
    "sns.pairplot(data=perf_df, hue='gender', diag_kind='kde');"
   ]
  },
  {
   "cell_type": "markdown",
   "metadata": {},
   "source": [
    "## Часть 3: Кастомизация графиков Seaborn с помощью Matplotlib\n",
    "\n",
    "Как мы уже говорили, Seaborn строит графики на \"холсте\" Matplotlib. Это значит, что после создания графика в Seaborn мы можем использовать функции из `plt` для его настройки.\n",
    "\n",
    "**Рабочий процесс:**\n",
    "1.  Используем `plt.figure(figsize=(...))` **до** вызова функции Seaborn, чтобы задать размер холста.\n",
    "2.  Вызываем функцию Seaborn для построения графика.\n",
    "3.  Используем функции `plt.title()`, `plt.xlabel()`, `plt.grid()` и др. **после** вызова Seaborn для дополнительной настройки.\n",
    "4.  Используем `plt.savefig()` для сохранения результата в файл."
   ]
  },
  {
   "cell_type": "code",
   "execution_count": null,
   "metadata": {},
   "outputs": [],
   "source": [
    "# 1. Задаем размер фигуры\n",
    "plt.figure(figsize=(12, 8), dpi=100) # dpi - dots per inch, разрешение\n",
    "\n",
    "# 2. Строим график Seaborn\n",
    "sns.scatterplot(x='reading score', y='writing score', data=perf_df, hue='test preparation course')\n",
    "\n",
    "# 3. Добавляем настройки Matplotlib\n",
    "plt.title('Зависимость оценок по письму и чтению', fontsize=16)\n",
    "plt.xlabel('Оценка по чтению', fontsize=12)\n",
    "plt.ylabel('Оценка по письму', fontsize=12)\n",
    "plt.grid(True) # Добавляем сетку\n",
    "plt.legend(title='Подготовка к тесту')\n",
    "\n",
    "# 4. Сохраняем график в файл (в той же ячейке!)\n",
    "plt.savefig('reading_vs_writing_scores.png');"
   ]
  },
  {
   "cell_type": "markdown",
   "metadata": {},
   "source": [
    "## Заключение\n",
    "\n",
    "На этой лекции мы рассмотрели основные типы графиков, необходимые для анализа данных:\n",
    "- **Диаграммы рассеяния (`scatterplot`, `pairplot`)** для поиска взаимосвязей между числовыми переменными.\n",
    "- **Гистограммы и графики плотности (`histplot`, `kdeplot`)** для изучения распределения одной переменной.\n",
    "- **Категориальные графики (`countplot`, `barplot`, `boxplot`, `violinplot`)** для сравнения показателей между группами.\n",
    "\n",
    "Мы также научились использовать `Seaborn` для быстрого построения информативных графиков и `Matplotlib` для их последующей детальной настройки. Эти инструменты — основа для любого разведочного анализа данных и важный шаг в подготовке данных для моделей машинного обучения."
   ]
  }
 ],
 "metadata": {
  "kernelspec": {
   "display_name": "Python [conda env:base] *",
   "language": "python",
   "name": "conda-base-py"
  },
  "language_info": {
   "codemirror_mode": {
    "name": "ipython",
    "version": 3
   },
   "file_extension": ".py",
   "mimetype": "text/x-python",
   "name": "python",
   "nbconvert_exporter": "python",
   "pygments_lexer": "ipython3",
   "version": "3.13.5"
  }
 },
 "nbformat": 4,
 "nbformat_minor": 4
}
