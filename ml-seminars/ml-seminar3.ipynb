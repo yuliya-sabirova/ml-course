{
  "cells": [
    {
      "cell_type": "markdown",
      "metadata": {},
      "source": [
        "# Семинар №3: Практика работы с Pandas\n",
        "\n",
        "**Курс:** Машинное обучение"
      ]
    },
    {
      "cell_type": "markdown",
      "metadata": {},
      "source": [
        "### Информация о студенте\n",
        "\n",
        "**ФИО:** *<здесь студент должен вписать свои данные>*\n",
        "\n",
        "**Группа:** *<здесь студент должен вписать свои данные>*\n",
        "\n",
        "### Цель семинара\n",
        "\n",
        "Закрепить на практике ключевые навыки работы с библиотекой Pandas, полученные на лекции: загрузка данных, первичный осмотр, выборка и фильтрация строк и столбцов. Этот семинар является подготовкой к выполнению лабораторной работы."
      ]
    },
    {
      "cell_type": "markdown",
      "metadata": {},
      "source": [
        "---"
      ]
    },
    {
      "cell_type": "markdown",
      "metadata": {},
      "source": [
        "## Краткая теоретическая справка\n",
        "\n",
        "Перед началом выполнения заданий, давайте быстро повторим ключевые команды и концепции из лекции.\n",
        "\n",
        "### Основные команды\n",
        "- **Импорт:** `import pandas as pd`\n",
        "- **Чтение CSV:** `pd.read_csv('file_name.csv')`\n",
        "\n",
        "### Осмотр данных\n",
        "- `.head(n)`: Показать первые `n` строк.\n",
        "- `.tail(n)`: Показать последние `n` строк.\n",
        "- `.info()`: Структура DataFrame, типы данных, пропуски.\n",
        "- `.describe()`: Статистики для числовых столбцов.\n",
        "- `.shape`: Кортеж (количество строк, количество столбцов).\n",
        "\n",
        "### Работа со столбцами\n",
        "- **Выбор одного столбца:** `df['column_name']` (результат - `Series`)\n",
        "- **Выбор нескольких столбцов:** `df[['col1', 'col2']]` (результат - `DataFrame`)\n",
        "- **Создание нового столбца:** `df['new_col'] = df['col1'] + df['col2']`\n",
        "- **Удаление столбца:** `df.drop('column_name', axis=1)`\n",
        "\n",
        "### Работа со строками\n",
        "- **По метке индекса:** `df.loc['index_label']`\n",
        "- **По числовой позиции:** `df.iloc[0]`\n",
        "\n",
        "### Фильтрация\n",
        "- **Одно условие:** `df[df['column'] > 100]`\n",
        "- **Два условия (И):** `df[(df['col1'] > 100) & (df['col2'] == 'value')]`\n",
        "- **Два условия (ИЛИ):** `df[(df['col1'] > 100) | (df['col2'] == 'value')]`\n",
        "- **Фильтр по списку:** `df[df['column'].isin(['value1', 'value2'])]`"
      ]
    },
    {
      "cell_type": "markdown",
      "metadata": {},
      "source": [
        "---"
      ]
    },
    {
      "cell_type": "markdown",
      "metadata": {},
      "source": [
        "## Практические задания\n",
        "\n",
        "Мы будем работать с датасетом `mpg.csv`, который содержит характеристики различных автомобилей.\n",
        "\n",
        "**Выполните задания, указанные ниже **жирным** шрифтом.**"
      ]
    },
    {
      "cell_type": "markdown",
      "metadata": {},
      "source": [
        "#### 1. Импортируйте Pandas как `pd` и загрузите датасет `mpg.csv` в DataFrame под названием `df`."
      ]
    },
    {
      "cell_type": "code",
      "execution_count": null,
      "metadata": {},
      "outputs": [],
      "source": [
        "# Напишите Ваше решение в этой ячейке"
      ]
    },
    {
      "cell_type": "markdown",
      "metadata": {},
      "source": [
        "#### 2. Проведите первичный осмотр данных.\n",
        "**- Выведите первые 5 строк.**\n",
        "**- Узнайте размерность датафрейма (сколько строк и столбцов).**\n",
        "**- Выведите общую информацию о датафрейме, обращая внимание на типы данных и наличие пропусков.**"
      ]
    },
    {
      "cell_type": "code",
      "execution_count": null,
      "metadata": {},
      "outputs": [],
      "source": [
        "# Вывод первых 5 строк"
      ]
    },
    {
      "cell_type": "code",
      "execution_count": null,
      "metadata": {},
      "outputs": [],
      "source": [
        "# Размерность"
      ]
    },
    {
      "cell_type": "code",
      "execution_count": null,
      "metadata": {},
      "outputs": [],
      "source": [
        "# Общая информация"
      ]
    },
    {
      "cell_type": "markdown",
      "metadata": {},
      "source": [
        "#### 3. Работа со столбцами.\n",
        "**- Выберите и выведите только столбец `origin`.**\n",
        "**- Создайте новый DataFrame `car_performance`, который содержит только столбцы `mpg`, `horsepower`, `weight` и `acceleration`. Выведите его первые 3 строки.**"
      ]
    },
    {
      "cell_type": "code",
      "execution_count": null,
      "metadata": {},
      "outputs": [],
      "source": [
        "# Выбор столбца 'origin'"
      ]
    },
    {
      "cell_type": "code",
      "execution_count": null,
      "metadata": {},
      "outputs": [],
      "source": [
        "# Создание нового DataFrame"
      ]
    },
    {
      "cell_type": "markdown",
      "metadata": {},
      "source": [
        "#### 4. Создание нового столбца.\n",
        "**- В датафрейме `df` создайте новый столбец `weight_kg`, который будет содержать вес автомобиля в килограммах. Используйте формулу: 1 фунт = 0.453592 кг. Округлите результат до 2 знаков после запятой. Выведите первые 5 строк датафрейма с новым столбцом.**"
      ]
    },
    {
      "cell_type": "code",
      "execution_count": null,
      "metadata": {},
      "outputs": [],
      "source": [
        "# Создание столбца 'weight_kg'"
      ]
    },
    {
      "cell_type": "markdown",
      "metadata": {},
      "source": [
        "#### 5. Сортировка и фильтрация.\n",
        "**- Отсортируйте DataFrame `df` по столбцу `mpg` (мили на галлон) от худшего к лучшему (по возрастанию). Выведите первые 5 строк отсортированного датафрейма.**"
      ]
    },
    {
      "cell_type": "code",
      "execution_count": null,
      "metadata": {},
      "outputs": [],
      "source": [
        "# Сортировка по 'mpg'"
      ]
    },
    {
      "cell_type": "markdown",
      "metadata": {},
      "source": [
        "**- Теперь отсортируйте DataFrame `df` по столбцу `weight` (вес) от самого тяжелого к самому легкому (по убыванию) и выведите первые 5 строк.**"
      ]
    },
    {
      "cell_type": "code",
      "execution_count": null,
      "metadata": {},
      "outputs": [],
      "source": [
        "# Сортировка по 'weight'"
      ]
    },
    {
      "cell_type": "markdown",
      "metadata": {},
      "source": [
        "#### 6. Фильтрация по одному условию.\n",
        "**- Создайте новый DataFrame `efficient_cars`, содержащий только те автомобили, у которых `mpg` > 35. Выведите первые 5 строк этого нового датафрейма.**"
      ]
    },
    {
      "cell_type": "code",
      "execution_count": null,
      "metadata": {},
      "outputs": [],
      "source": [
        "# Фильтрация 'mpg' > 35"
      ]
    },
    {
      "cell_type": "markdown",
      "metadata": {},
      "source": [
        "#### 7. Фильтрация по нескольким условиям.\n",
        "**- Создайте DataFrame `american_muscle_cars`, который содержит автомобили, удовлетворяющие ВСЕМ трем условиям:**\n",
        "  **- `origin` равен 1 (Американские)**\n",
        "  **- `cylinders` равен 8**\n",
        "  **- `horsepower` больше 150**\n",
        "**- Выведите `.head()` этого датафрейма.**"
      ]
    },
    {
      "cell_type": "code",
      "execution_count": null,
      "metadata": {},
      "outputs": [],
      "source": [
        "# Фильтрация по трем условиям"
      ]
    },
    {
      "cell_type": "markdown",
      "metadata": {},
      "source": [
        "#### 8. Фильтрация с использованием `.isin()`.\n",
        "**- Создайте DataFrame `modern_cars`, который содержит автомобили, выпущенные в 80-х годах (`model_year` 80, 81 или 82).**\n",
        "**- Сколько таких автомобилей в датасете? (используйте `.shape`)**"
      ]
    },
    {
      "cell_type": "code",
      "execution_count": null,
      "metadata": {},
      "outputs": [],
      "source": [
        "# Фильтрация с isin()"
      ]
    },
    {
      "cell_type": "markdown",
      "metadata": {},
      "source": [
        "## Отличная работа! Теперь вы готовы к выполнению лабораторной работы."
      ]
    }
  ],
  "metadata": {
    "kernelspec": {
      "display_name": "Python [conda env:base] *",
      "language": "python",
      "name": "conda-base-py"
    },
    "language_info": {
      "codemirror_mode": {
        "name": "ipython",
        "version": 3
      },
      "file_extension": ".py",
      "mimetype": "text/x-python",
      "name": "python",
      "nbconvert_exporter": "python",
      "pygments_lexer": "ipython3",
      "version": "3.13.5"
    }
  },
  "nbformat": 4,
  "nbformat_minor": 4
}