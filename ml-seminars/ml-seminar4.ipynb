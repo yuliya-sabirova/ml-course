{
 "cells": [
  {
   "cell_type": "markdown",
   "metadata": {},
   "source": [
    "# Семинар №4: Продвинутая практика с Pandas\n",
    "\n",
    "**Курс:** Машинное обучение"
   ]
  },
  {
   "cell_type": "markdown",
   "metadata": {},
   "source": [
    "### Информация о студенте\n",
    "\n",
    "**ФИО:** *<здесь студент должен вписать свои данные>*\n",
    "\n",
    "**Группа:** *<здесь студент должен вписать свои данные>*\n",
    "\n",
    "### Политика выставления оценок\n",
    "\n",
    "**Максимальная оценка за работу: 6 баллов.**\n",
    "\n",
    "**Цель семинара:** Закрепить на практике продвинутые навыки работы с Pandas: обработку пропусков, агрегацию данных и объединение таблиц, чтобы подготовиться к выполнению лабораторной работы."
   ]
  },
  {
   "cell_type": "markdown",
   "metadata": {},
   "source": [
    "---"
   ]
  },
  {
   "cell_type": "markdown",
   "metadata": {},
   "source": [
    "## Краткая теоретическая справка\n",
    "\n",
    "### Обработка пропусков\n",
    "- `.isnull().sum()`: Посчитать количество пропусков в каждом столбце.\n",
    "- `.dropna()`: Удалить строки с пропусками. `axis=1` для удаления столбцов.\n",
    "- `.fillna(value)`: Заполнить пропуски заданным значением `value`.\n",
    "\n",
    "### Group By\n",
    "- `df.groupby('Категориальный_столбец')`: Создает объект GroupBy.\n",
    "- `df.groupby('Категория').mean()`: Считает среднее для каждой группы.\n",
    "- `df.groupby('Категория')['Числовой_столбец'].sum()`: Считает сумму в конкретном столбце для каждой группы.\n",
    "\n",
    "### Метод .apply()\n",
    "- `df['Столбец'].apply(имя_функции)`: Применяет функцию к каждому элементу столбца.\n",
    "- `df['Столбец'].apply(lambda x: x * 2)`: Применяет lambda-функцию.\n",
    "\n",
    "### Объединение DataFrame\n",
    "- `pd.concat([df1, df2])`: Склеивает таблицы по вертикали (`axis=0`).\n",
    "- `pd.merge(left_df, right_df, how='inner', on='ключевой_столбец')`: Объединяет таблицы по ключу (аналог SQL JOIN)."
   ]
  },
  {
   "cell_type": "markdown",
   "metadata": {},
   "source": [
    "---"
   ]
  },
  {
   "cell_type": "markdown",
   "metadata": {},
   "source": [
    "## Практические задания\n",
    "\n",
    "Выполните задания, указанные ниже **жирным** шрифтом."
   ]
  },
  {
   "cell_type": "markdown",
   "metadata": {},
   "source": [
    "#### 1. Подготовка и работа с пропусками\n",
    "Мы будем работать с датасетом `movie_scores.csv`."
   ]
  },
  {
   "cell_type": "code",
   "execution_count": null,
   "metadata": {},
   "outputs": [],
   "source": [
    "import pandas as pd\n",
    "import numpy as np\n",
    "df_movies = pd.read_csv('movie_scores.csv')"
   ]
  },
  {
   "cell_type": "markdown",
   "metadata": {},
   "source": [
    "**1.1. Выведите DataFrame. Сколько в нем полностью пустых строк?**"
   ]
  },
  {
   "cell_type": "code",
   "execution_count": null,
   "metadata": {},
   "outputs": [],
   "source": [
    "# Ваш код здесь\n"
   ]
  },
  {
   "cell_type": "markdown",
   "metadata": {},
   "source": [
    "**1.2. Удалите все строки, где ВСЕ значения являются пропусками.**"
   ]
  },
  {
   "cell_type": "code",
   "execution_count": null,
   "metadata": {},
   "outputs": [],
   "source": [
    "# Ваш код здесь\n"
   ]
  },
  {
   "cell_type": "markdown",
   "metadata": {},
   "source": [
    "**1.3. Удалите все строки, где есть ХОТЯ БЫ ОДИН пропуск в столбцах 'first_name' или 'last_name'.**"
   ]
  },
  {
   "cell_type": "code",
   "execution_count": null,
   "metadata": {},
   "outputs": [],
   "source": [
    "# Ваш код здесь\n"
   ]
  },
  {
   "cell_type": "markdown",
   "metadata": {},
   "source": [
    "**1.4. Посчитайте среднее значение для `pre_movie_score` и `post_movie_score` и заполните им соответствующие пропуски.**"
   ]
  },
  {
   "cell_type": "code",
   "execution_count": null,
   "metadata": {},
   "outputs": [],
   "source": [
    "# Ваш код здесь\n"
   ]
  },
  {
   "cell_type": "markdown",
   "metadata": {},
   "source": [
    "#### 2. Group By и агрегация\n",
    "Теперь будем работать с датасетом `tips.csv`."
   ]
  },
  {
   "cell_type": "code",
   "execution_count": null,
   "metadata": {},
   "outputs": [],
   "source": [
    "df_tips = pd.read_csv('tips.csv')"
   ]
  },
  {
   "cell_type": "markdown",
   "metadata": {},
   "source": [
    "**2.1. Какой средний `total_bill` для каждого дня недели (`day`)?**"
   ]
  },
  {
   "cell_type": "code",
   "execution_count": null,
   "metadata": {},
   "outputs": [],
   "source": [
    "# Ваш код здесь\n"
   ]
  },
  {
   "cell_type": "markdown",
   "metadata": {},
   "source": [
    "**2.2. Какой максимальный размер чаевых (`tip`) оставляли мужчины и женщины (`sex`)?**"
   ]
  },
  {
   "cell_type": "code",
   "execution_count": null,
   "metadata": {},
   "outputs": [],
   "source": [
    "# Ваш код здесь\n"
   ]
  },
  {
   "cell_type": "markdown",
   "metadata": {},
   "source": [
    "**2.3. Сгруппируйте данные по `day` и `time` и выведите полную статистику по `total_bill` для каждой группы.**"
   ]
  },
  {
   "cell_type": "code",
   "execution_count": null,
   "metadata": {},
   "outputs": [],
   "source": [
    "# Ваш код здесь\n"
   ]
  },
  {
   "cell_type": "markdown",
   "metadata": {},
   "source": [
    "#### 3. Метод .apply()\n",
    "**3.1. Создайте функцию `get_tip_category`, которая принимает на вход размер чаевых (`tip`) и возвращает:**\n",
    "- 'Низкие', если `tip < 2`\n",
    "- 'Средние', если `2 <= tip <= 5`\n",
    "- 'Высокие', если `tip > 5`\n",
    "\n",
    "**Примените эту функцию для создания нового столбца `tip_category` в `df_tips`.**"
   ]
  },
  {
   "cell_type": "code",
   "execution_count": null,
   "metadata": {},
   "outputs": [],
   "source": [
    "# Ваш код здесь\n"
   ]
  },
  {
   "cell_type": "markdown",
   "metadata": {},
   "source": [
    "#### 4. Объединение DataFrame\n",
    "**4.1. Создайте два DataFrame, как показано ниже.**\n",
    "```python\n",
    "df1 = pd.DataFrame({'id':, 'customer': ['Alice', 'Bob', 'Charlie']})\n",
    "df2 = pd.DataFrame({'id':, 'order': ['Pizza', 'Pasta', 'Salad']})\n",
    "```\n",
    "**Выполните внутреннее (`inner`) и левое (`left`) объединение этих таблиц по столбцу `id`.**"
   ]
  },
  {
   "cell_type": "code",
   "execution_count": null,
   "metadata": {},
   "outputs": [],
   "source": [
    "# Создание DataFrame\n",
    "df1 = pd.DataFrame({'id': [1, 2, 3], 'customer': ['Alice', 'Bob', 'Charlie']})\n",
    "df2 = pd.DataFrame({'id': [1, 2, 4], 'order': ['Pizza', 'Pasta', 'Salad']})\n",
    "\n",
    "# Inner merge\n",
    "# Ваш код здесь\n",
    "\n",
    "# Left merge\n",
    "# Ваш код здесь\n"
   ]
  }
 ],
 "metadata": {
  "kernelspec": {
   "display_name": "Python [conda env:base] *",
   "language": "python",
   "name": "conda-base-py"
  },
  "language_info": {
   "codemirror_mode": {
    "name": "ipython",
    "version": 3
   },
   "file_extension": ".py",
   "mimetype": "text/x-python",
   "name": "python",
   "nbconvert_exporter": "python",
   "pygments_lexer": "ipython3",
   "version": "3.13.5"
  }
 },
 "nbformat": 4,
 "nbformat_minor": 4
}
