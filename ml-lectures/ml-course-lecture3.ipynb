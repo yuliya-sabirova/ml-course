{
  "cells": [
    {
      "cell_type": "markdown",
      "metadata": {},
      "source": [
        "# Лекция 3: Основы Pandas. Работа с табличными данными\n",
        "\n",
        "**Курс:** Введение в машинное обучение\n",
        "\n",
        "---"
      ]
    },
    {
      "cell_type": "markdown",
      "metadata": {},
      "source": [
        "### Цели лекции\n",
        "\n",
        "1.  **Понять**, что такое `Pandas` и какова его роль в задачах Машинного Обучения.\n",
        "2.  **Изучить** две ключевые структуры данных: `Series` и `DataFrame`.\n",
        "3.  **Научиться** загружать данные из `CSV`-файлов — самого популярного формата для хранения данных.\n",
        "4.  **Освоить** базовые методы для первичного анализа данных: как посмотреть на данные, узнать их размер, типы и основные статистические показатели.\n",
        "5.  **Овладеть** фундаментальными навыками работы с данными: выбор, создание и удаление столбцов; выборка строк по индексам и условиям.\n",
        "\n",
        "Эта лекция — ключ к эффективной работе с данными. 90% времени в реальных ML-проектах уходит на подготовку и очистку данных, и Pandas — наш главный инструмент для этой задачи."
      ]
    },
    {
      "cell_type": "markdown",
      "metadata": {},
      "source": [
        "## 1. Что такое Pandas и зачем он нужен?\n",
        "\n",
        "Вспомним наш жизненный цикл проекта в Машинном Обучении:"
      ]
    },
    {
      "cell_type": "markdown",
      "metadata": {},
      "source": [
        "```mermaid\n",
        "graph TD;\n",
        "    A[Реальный мир] --> B(Сбор данных);\n",
        "    subgraph \"Этапы, где Pandas незаменим\"\n",
        "      B --> C(Очистка и организация данных);\n",
        "      C --> D(Исследовательский анализ данных, EDA);\n",
        "    end\n",
        "    D --> E(Построение моделей ML);\n",
        "    E --> F[Продукт];\n",
        "    F --> A;\n",
        "```\n",
        "\n",
        "**Pandas** — это высокоуровневая библиотека Python, созданная для анализа и манипуляции данными. Она построена поверх NumPy и является стандартом де-факто в Data Science.\n",
        "\n",
        "**Почему Pandas так важен?**\n",
        "- **Скорость и эффективность:** Хотя Pandas написан на Python, его критически важные части реализованы на C, что обеспечивает высокую производительность.\n",
        "- **Удобство:** Pandas предоставляет мощные и простые в использовании структуры данных для работы с таблицами (похожими на Excel или SQL-таблицы).\n",
        "- **Гибкость:** Позволяет читать и записывать данные из множества форматов: CSV, Excel, SQL, JSON и других.\n",
        "\n",
        "> **Простыми словами:** если NumPy — это \"арифметика\" для матриц, то Pandas — это \"Excel на стероидах\" прямо в коде Python, созданный специально для подготовки данных к машинному обучению."
      ]
    },
    {
      "cell_type": "markdown",
      "metadata": {},
      "source": [
        "### Импорт библиотеки\n",
        "\n",
        "По общепринятому соглашению, Pandas импортируется под псевдонимом `pd`."
      ]
    },
    {
      "cell_type": "code",
      "execution_count": null,
      "metadata": {},
      "outputs": [],
      "source": [
        "import pandas as pd\n",
        "import numpy as np"
      ]
    },
    {
      "cell_type": "markdown",
      "metadata": {},
      "source": [
        "## 2. Структуры данных: Series и DataFrame\n",
        "\n",
        "В Pandas есть две основные структуры данных, которые являются его \"алфавитом\"."
      ]
    },
    {
      "cell_type": "markdown",
      "metadata": {},
      "source": [
        "### 2.1. Series\n",
        "\n",
        "**`Series`** — это одномерный массив с метками (индексом). Его можно представить как один столбец в таблице.\n",
        "\n",
        "Ключевое отличие от массива NumPy — наличие **именованного индекса**. Это позволяет обращаться к элементам не только по числовой позиции, но и по метке, как в словаре Python."
      ]
    },
    {
      "cell_type": "code",
      "execution_count": null,
      "metadata": {},
      "outputs": [
        {
          "name": "stdout",
          "output_type": "stream",
          "text": [
            "USA       1776\n",
            "Canada    1867\n",
            "Mexico    1821\n",
            "dtype: int64\n"
          ]
        }
      ],
      "source": [
        "my_data = [1776, 1867, 1821]\n",
        "my_index = ['USA', 'Canada', 'Mexico']\n",
        "\n",
        "my_series = pd.Series(data=my_data, index=my_index)\n",
        "print(my_series)"
      ]
    },
    {
      "cell_type": "markdown",
      "metadata": {},
      "source": [
        "Доступ к данным можно получить как по числовому индексу (как в NumPy), так и по метке."
      ]
    },
    {
      "cell_type": "code",
      "execution_count": null,
      "metadata": {},
      "outputs": [
        {
          "name": "stdout",
          "output_type": "stream",
          "text": [
            "Доступ по метке 'Canada': 1867\n",
            "Доступ по индексу 0: 1776\n"
          ]
        }
      ],
      "source": [
        "print(f\"Доступ по метке 'Canada': {my_series['Canada']}\")\n",
        "print(f\"Доступ по индексу 0: {my_series[0]}\")"
      ]
    },
    {
      "cell_type": "markdown",
      "metadata": {},
      "source": [
        "### 2.2. DataFrame\n",
        "\n",
        "**`DataFrame`** — это основная структура данных в Pandas. Это двумерная таблица, состоящая из строк и столбцов. \n",
        "\n",
        "> **Простая аналогия:** `DataFrame` — это таблица Excel или SQL. Каждый столбец в этом `DataFrame` является объектом `Series`, и все эти столбцы-`Series` имеют общий индекс."
      ]
    },
    {
      "cell_type": "code",
      "execution_count": null,
      "metadata": {},
      "outputs": [
        {
          "data": {
            "text/html": [
              "<div>\n",
              "<style scoped>\n",
              "    .dataframe tbody tr th:only-of-type {\n",
              "        vertical-align: middle;\n",
              "    }\n",
              "\n",
              "    .dataframe tbody tr th {\n",
              "        vertical-align: top;\n",
              "    }\n",
              "\n",
              "    .dataframe thead th {\n",
              "        text-align: right;\n",
              "    }\n",
              "</style>\n",
              "<table border=\"1\" class=\"dataframe\">\n",
              "  <thead>\n",
              "    <tr style=\"text-align: right;\">\n",
              "      <th></th>\n",
              "      <th>W</th>\n",
              "      <th>X</th>\n",
              "      <th>Y</th>\n",
              "      <th>Z</th>\n",
              "    </tr>\n",
              "  </thead>\n",
              "  <tbody>\n",
              "    <tr>\n",
              "      <th>A</th>\n",
              "      <td>2.706850</td>\n",
              "      <td>0.628133</td>\n",
              "      <td>0.907969</td>\n",
              "      <td>0.503826</td>\n",
              "    </tr>\n",
              "    <tr>\n",
              "      <th>B</th>\n",
              "      <td>0.651118</td>\n",
              "      <td>-0.319318</td>\n",
              "      <td>-0.848077</td>\n",
              "      <td>0.605965</td>\n",
              "    </tr>\n",
              "    <tr>\n",
              "      <th>C</th>\n",
              "      <td>-2.018168</td>\n",
              "      <td>0.740122</td>\n",
              "      <td>0.528813</td>\n",
              "      <td>-0.589001</td>\n",
              "    </tr>\n",
              "  </tbody>\n",
              "</table>\n",
              "</div>"
            ],
            "text/plain": [
              "          W         X         Y         Z\n",
              "A  2.706850  0.628133  0.907969  0.503826\n",
              "B  0.651118 -0.319318 -0.848077  0.605965\n",
              "C -2.018168  0.740122  0.528813 -0.589001"
            ]
          },
          "execution_count": 8,
          "metadata": {},
          "output_type": "execute_result"
        }
      ],
      "source": [
        "# Создаем DataFrame из случайных чисел NumPy\n",
        "np.random.seed(101) # для воспроизводимости результатов\n",
        "data = np.random.randn(3,4) # 3 строки, 4 столбца\n",
        "index = ['A', 'B', 'C']\n",
        "columns = ['W', 'X', 'Y', 'Z']\n",
        "\n",
        "df = pd.DataFrame(data=data, index=index, columns=columns)\n",
        "df"
      ]
    },
    {
      "cell_type": "markdown",
      "metadata": {},
      "source": [
        "## 3. Загрузка данных: `pd.read_csv()`\n",
        "\n",
        "Чаще всего вы не будете создавать DataFrame вручную. Вместо этого вы будете загружать данные из внешнего источника. Самый распространенный формат — это CSV (Comma-Separated Values, значения, разделенные запятыми).\n",
        "\n",
        "Для этого используется функция `pd.read_csv()`."
      ]
    },
    {
      "cell_type": "code",
      "execution_count": null,
      "metadata": {},
      "outputs": [],
      "source": [
        "# Загружаем датасет с информацией о чаевых в ресторане\n",
        "# Файл 'tips.csv' должен находиться в той же папке, что и этот блокнот\n",
        "tips_df = pd.read_csv('tips.csv')"
      ]
    },
    {
      "cell_type": "markdown",
      "metadata": {},
      "source": [
        "## 4. Первичный осмотр данных\n",
        "\n",
        "После загрузки данных первое, что нужно сделать, — это провести \"осмотр пациента\". Для этого есть несколько критически важных методов."
      ]
    },
    {
      "cell_type": "markdown",
      "metadata": {},
      "source": [
        "### `.head()` — посмотреть на первые строки\n",
        "Этот метод позволяет увидеть \"шапку\" таблицы и получить первое представление о том, как выглядят данные."
      ]
    },
    {
      "cell_type": "code",
      "execution_count": null,
      "metadata": {},
      "outputs": [],
      "source": [
        "# По умолчанию .head() показывает 5 первых строк\n",
        "tips_df.head()"
      ]
    },
    {
      "cell_type": "markdown",
      "metadata": {},
      "source": [
        "### `.info()` — структура и типы данных\n",
        "\n",
        "Этот метод дает краткую сводку о DataFrame: количество строк, количество и названия столбцов, количество непустых значений и типы данных в каждом столбце."
      ]
    },
    {
      "cell_type": "code",
      "execution_count": null,
      "metadata": {},
      "outputs": [],
      "source": [
        "tips_df.info()"
      ]
    },
    {
      "cell_type": "markdown",
      "metadata": {},
      "source": [
        "### `.describe()` — основные статистические показатели\n",
        "\n",
        "Этот метод рассчитывает описательные статистики **только для числовых столбцов**: количество, среднее, стандартное отклонение, минимум, максимум и перцентили."
      ]
    },
    {
      "cell_type": "code",
      "execution_count": null,
      "metadata": {},
      "outputs": [],
      "source": [
        "tips_df.describe()"
      ]
    },
    {
      "cell_type": "markdown",
      "metadata": {},
      "source": [
        "### `.shape` — размерность DataFrame\n",
        "\n",
        "Атрибут `.shape` возвращает кортеж (tuple) с количеством строк и столбцов."
      ]
    },
    {
      "cell_type": "code",
      "execution_count": null,
      "metadata": {},
      "outputs": [],
      "source": [
        "tips_df.shape"
      ]
    },
    {
      "cell_type": "markdown",
      "metadata": {},
      "source": [
        "## 5. Работа со столбцами\n",
        "\n",
        "Манипуляции со столбцами — одна из самых частых операций."
      ]
    },
    {
      "cell_type": "markdown",
      "metadata": {},
      "source": [
        "### Выбор столбцов\n",
        "\n",
        "Для выбора одного столбца используется синтаксис, похожий на обращение к элементу словаря."
      ]
    },
    {
      "cell_type": "code",
      "execution_count": null,
      "metadata": {},
      "outputs": [],
      "source": [
        "# Выбор одного столбца возвращает объект Series\n",
        "total_bill_series = tips_df['total_bill']\n",
        "total_bill_series.head()"
      ]
    },
    {
      "cell_type": "markdown",
      "metadata": {},
      "source": [
        "Для выбора нескольких столбцов в квадратные скобки передается список их названий."
      ]
    },
    {
      "cell_type": "code",
      "execution_count": null,
      "metadata": {},
      "outputs": [],
      "source": [
        "# Выбор нескольких столбцов возвращает новый DataFrame\n",
        "my_cols = ['total_bill', 'tip', 'sex']\n",
        "sub_df = tips_df[my_cols]\n",
        "sub_df.head()"
      ]
    },
    {
      "cell_type": "markdown",
      "metadata": {},
      "source": [
        "### Создание новых столбцов\n",
        "\n",
        "Новые столбцы создаются путем присваивания значений. Часто это результат вычислений на основе существующих столбцов. Давайте создадим столбец `tip_percentage`."
      ]
    },
    {
      "cell_type": "code",
      "execution_count": null,
      "metadata": {},
      "outputs": [],
      "source": [
        "tips_df['tip_percentage'] = 100 * tips_df['tip'] / tips_df['total_bill']\n",
        "tips_df.head()"
      ]
    },
    {
      "cell_type": "markdown",
      "metadata": {},
      "source": [
        "### Удаление столбцов\n",
        "\n",
        "Для удаления используется метод `.drop()`. Важно указать ось `axis=1`, чтобы Pandas понял, что мы удаляем столбец, а не строку."
      ]
    },
    {
      "cell_type": "code",
      "execution_count": null,
      "metadata": {},
      "outputs": [],
      "source": [
        "# Удаляем вымышленный столбец 'CC Number'\n",
        "# Метод .drop() возвращает новый DataFrame, не изменяя исходный\n",
        "tips_df_cleaned = tips_df.drop('CC Number', axis=1)\n",
        "tips_df_cleaned.head()"
      ]
    },
    {
      "cell_type": "markdown",
      "metadata": {},
      "source": [
        "## 6. Работа со строками: `.loc` и `.iloc`\n",
        "\n",
        "Это важнейший навык для извлечения данных. В Pandas есть два основных способа индексации строк:\n",
        "- `.loc[]` — **label-based** indexing (индексация по меткам).\n",
        "- `.iloc[]` — **integer-location** based indexing (индексация по числовой позиции).\n",
        "\n",
        "Сначала установим один из столбцов в качестве индекса с помощью `.set_index()`."
      ]
    },
    {
      "cell_type": "code",
      "execution_count": null,
      "metadata": {},
      "outputs": [],
      "source": [
        "# Установим 'Payment ID' как индекс, чтобы у строк были уникальные метки\n",
        "tips_df_indexed = tips_df.set_index('Payment ID')\n",
        "tips_df_indexed.head()"
      ]
    },
    {
      "cell_type": "markdown",
      "metadata": {},
      "source": [
        "### Выборка строк\n",
        "Теперь мы можем выбирать строки по их новой метке с помощью `.loc[]`."
      ]
    },
    {
      "cell_type": "code",
      "execution_count": null,
      "metadata": {},
      "outputs": [],
      "source": [
        "# Выбор одной строки по метке индекса\n",
        "tips_df_indexed.loc['Sun4458']"
      ]
    },
    {
      "cell_type": "markdown",
      "metadata": {},
      "source": [
        "Или по числовой позиции с помощью `.iloc[]` (индексация с 0)."
      ]
    },
    {
      "cell_type": "code",
      "execution_count": null,
      "metadata": {},
      "outputs": [],
      "source": [
        "# Выбор одной строки по ее порядковому номеру\n",
        "tips_df_indexed.iloc[2]"
      ]
    },
    {
      "cell_type": "markdown",
      "metadata": {},
      "source": [
        "Оба метода также поддерживают выборку нескольких строк и срезы (slicing)."
      ]
    },
    {
      "cell_type": "markdown",
      "metadata": {},
      "source": [
        "## 7. Фильтрация данных по условию\n",
        "\n",
        "Это, возможно, самый важный навык в Pandas. Он позволяет выбирать подмножество данных, которое удовлетворяет определенным условиям.\n",
        "\n",
        "Процесс состоит из двух шагов:\n",
        "1. Создать булеву маску (boolean mask) — это объект `Series` из `True` и `False`.\n",
        "2. Передать эту маску в `DataFrame`."
      ]
    },
    {
      "cell_type": "markdown",
      "metadata": {},
      "source": [
        "### Одно условие\n",
        "Найдем все заказы, где `total_bill` был больше 40."
      ]
    },
    {
      "cell_type": "code",
      "execution_count": null,
      "metadata": {},
      "outputs": [],
      "source": [
        "# Шаг 1: Создаем булеву маску\n",
        "mask = tips_df['total_bill'] > 40\n",
        "mask.head()"
      ]
    },
    {
      "cell_type": "code",
      "execution_count": null,
      "metadata": {},
      "outputs": [],
      "source": [
        "# Шаг 2: Применяем маску к DataFrame\n",
        "tips_df[mask]"
      ]
    },
    {
      "cell_type": "markdown",
      "metadata": {},
      "source": [
        "### Несколько условий\n",
        "\n",
        "Для комбинирования условий используются операторы `&` (И), `|` (ИЛИ) и `~` (НЕ).\n",
        "\n",
        "> **Важно:** Каждое отдельное условие необходимо заключать в круглые скобки `()` из-за особенностей порядка операторов в Python.\n",
        "\n",
        "Найдем все заказы, сделанные мужчинами (`sex == 'Male'`) в воскресенье (`day == 'Sun'`)."
      ]
    },
    {
      "cell_type": "code",
      "execution_count": null,
      "metadata": {},
      "outputs": [],
      "source": [
        "tips_df[(tips_df['sex'] == 'Male') & (tips_df['day'] == 'Sun')].head()"
      ]
    },
    {
      "cell_type": "markdown",
      "metadata": {},
      "source": [
        "### Метод `.isin()`\n",
        "\n",
        "Если нужно проверить вхождение в список из нескольких значений, вместо множества `|` (ИЛИ) удобнее использовать метод `.isin()`."
      ]
    },
    {
      "cell_type": "code",
      "execution_count": null,
      "metadata": {},
      "outputs": [],
      "source": [
        "# Найдем все заказы, сделанные в выходные (суббота или воскресенье)\n",
        "weekend_options = ['Sat', 'Sun']\n",
        "tips_df[tips_df['day'].isin(weekend_options)].head()"
      ]
    },
    {
      "cell_type": "markdown",
      "metadata": {},
      "source": [
        "## 8. Другие полезные методы\n",
        "\n",
        "Рассмотрим несколько методов, которые часто используются в исследовательском анализе."
      ]
    },
    {
      "cell_type": "markdown",
      "metadata": {},
      "source": [
        "### `.sort_values()` — сортировка данных"
      ]
    },
    {
      "cell_type": "code",
      "execution_count": null,
      "metadata": {},
      "outputs": [],
      "source": [
        "# Сортировка по размеру чаевых (tip) по убыванию\n",
        "tips_df.sort_values('tip', ascending=False).head()"
      ]
    },
    {
      "cell_type": "markdown",
      "metadata": {},
      "source": [
        "### `.value_counts()` — подсчет уникальных значений"
      ]
    },
    {
      "cell_type": "code",
      "execution_count": null,
      "metadata": {},
      "outputs": [],
      "source": [
        "# Посчитаем, сколько заказов было в каждый день недели\n",
        "tips_df['day'].value_counts()"
      ]
    },
    {
      "cell_type": "markdown",
      "metadata": {},
      "source": [
        "### `.unique()` и `.nunique()`\n",
        "\n",
        "- `.unique()` возвращает массив уникальных значений.\n",
        "- `.nunique()` возвращает количество уникальных значений."
      ]
    },
    {
      "cell_type": "code",
      "execution_count": null,
      "metadata": {},
      "outputs": [],
      "source": [
        "print(f\"Уникальные дни: {tips_df['day'].unique()}\")\n",
        "print(f\"Количество уникальных дней: {tips_df['day'].nunique()}\")"
      ]
    },
    {
      "cell_type": "markdown",
      "metadata": {},
      "source": [
        "## Резюме и следующие шаги\n",
        "\n",
        "*   **Что мы узнали сегодня:**\n",
        "    *   Pandas — это основной инструмент для работы с табличными данными в Python.\n",
        "    *   Ключевые структуры данных — `Series` (столбец) и `DataFrame` (таблица).\n",
        "    *   Данные легко загружаются из CSV-файлов с помощью `pd.read_csv()`.\n",
        "    *   Первичный анализ включает методы `.head()`, `.info()`, `.describe()`.\n",
        "    *   Мы научились выбирать, создавать и удалять столбцы.\n",
        "    *   Освоили выборку строк по меткам (`.loc`) и позициям (`.iloc`).\n",
        "    *   Научились фильтровать данные по одному и нескольким условиям.\n",
        "\n",
        "*   **Что дальше?**\n",
        "    *   На **сегодняшнем семинаре** мы закрепим эти навыки на практике.\n",
        "    *   На **лабораторной работе** вы самостоятельно решите ряд задач на загрузку, осмотр и фильтрацию данных.\n",
        "    *   На **следующей лекции** мы перейдем к более сложным темам: обработке пропущенных значений и агрегации данных (Group By)."
      ]
    }
  ],
  "metadata": {
    "kernelspec": {
      "display_name": "Python [conda env:base] *",
      "language": "python",
      "name": "conda-base-py"
    },
    "language_info": {
      "codemirror_mode": {
        "name": "ipython",
        "version": 3
      },
      "file_extension": ".py",
      "mimetype": "text/x-python",
      "name": "python",
      "nbconvert_exporter": "python",
      "pygments_lexer": "ipython3",
      "version": "3.13.5"
    }
  },
  "nbformat": 4,
  "nbformat_minor": 4
}