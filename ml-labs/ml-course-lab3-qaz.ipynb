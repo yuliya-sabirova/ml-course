{
  "cells": [
    {
      "cell_type": "markdown",
      "metadata": {},
      "source": [
        "# №3 Зертханалық жұмыс: Pandas негіздері\n",
        "\n",
        "**Курс:** Машиналық оқыту"
      ]
    },
    {
      "cell_type": "markdown",
      "metadata": {},
      "source": [
        "### Студент туралы ақпарат\n",
        "\n",
        "**Аты-жөні:** *<студент осы жерге өз деректерін жазуы керек>*\n",
        "\n",
        "**Тобы:** *<студент осы жерге өз деректерін жазуы керек>*\n",
        "\n",
        "### Бағалау саясаты\n",
        "\n",
        "**Жұмыс үшін максималды баға: 10 балл.**\n",
        "\n",
        "| Тапсырма | Максималды балл | Сипаттама |\n",
        "|:---|:---|:---|\n",
        "| 1-тапсырма | **1.0 балл** | Деректерді жүктеу және бастапқы қарау. |\n",
        "| 2-тапсырма | **1.5 балл** | Бағандармен жұмыс: таңдау, құру, жою. |\n",
        "| 3-тапсырма | **2.0 балл** | Бір және бірнеше шарттар бойынша сүзу. |\n",
        "| 4-тапсырма | **1.5 балл** | Деректерді сұрыптау. |\n",
        "| 5-тапсырма | **1.5 балл** | `.value_counts()` және `.unique()` әдістерін қолдану. |\n",
        "| 6-тапсырма | **2.5 балл** | Сүзу және талдау бойынша кешенді тапсырма. |\n",
        "\n",
        "**Академиялық адалдық саясаты:**\n",
        "\n",
        "Кодты **өз бетіңізше** жазуыңыз керек. Бірдей деп танылған (плагиат) жұмыстар қайта тапсыру мүмкіндігінсіз барлық қатысқан студенттер үшін **0 баллмен** бағаланады."
      ]
    },
    {
      "cell_type": "markdown",
      "metadata": {},
      "source": [
        "---"
      ]
    },
    {
      "cell_type": "markdown",
      "metadata": {},
      "source": [
        "### Контекст\n",
        "\n",
        "Бұл зертханалық жұмыста біз қонақүйдегі брондаулар туралы ақпаратты қамтитын `hotel_booking_data.csv` деректер жинағын талдайтын боламыз. Сіздің міндетіңіз — дәріс пен семинарда алған дағдыларыңызды осы деректерді талдау және өңдеу үшін қолдану."
      ]
    },
    {
      "cell_type": "markdown",
      "metadata": {},
      "source": [
        "### 1-тапсырма: Жүктеу және бастапқы қарау (1.0 балл)\n",
        "\n",
        "1. pandas кітапханасын импорттаңыз.\n",
        "2. `hotel_booking_data.csv` файлын `hotels` атты DataFrame-ге жүктеңіз.\n",
        "3. DataFrame-нің алғашқы 7 жолын шығарыңыз.\n",
        "4. `.info()` әдісін қолданып, DataFrame туралы жалпы ақпаратты шығарыңыз. Деректерде бос орындар бар ма?"
      ]
    },
    {
      "cell_type": "code",
      "execution_count": null,
      "metadata": {},
      "outputs": [],
      "source": [
        "# СІЗДІҢ КОДЫҢЫЗ ОСЫ ЖЕРДЕ\n"
      ]
    },
    {
      "cell_type": "markdown",
      "metadata": {},
      "source": [
        "### 2-тапсырма: Бағандармен жұмыс (1.5 балл)\n",
        "\n",
        "1. `stays_in_weekend_nights` және `stays_in_week_nights` бағандарының қосындысы болатын `total_nights` атты жаңа баған құрыңыз.\n",
        "2. `adults`, `children` және `babies` бағандарының қосындысы болатын `total_guests` бағанын құрыңыз.\n",
        "3. `hotels` DataFrame-нен `name`, `email`, `phone-number` және `credit_card` бағандарын жойыңыз.\n",
        "4. Жаңартылған DataFrame-нің `.head()`-ін шығарыңыз."
      ]
    },
    {
      "cell_type": "code",
      "execution_count": null,
      "metadata": {},
      "outputs": [],
      "source": [
        "# СІЗДІҢ КОДЫҢЫЗ ОСЫ ЖЕРДЕ\n"
      ]
    },
    {
      "cell_type": "markdown",
      "metadata": {},
      "source": [
        "### 3-тапсырма: Деректерді сүзу (2.0 балл)\n",
        "\n",
        "1. Қанша брондаудан бас тартылған (`is_canceled` == 1)?\n",
        "2. Тек `Resort Hotel`-ге арналған брондауларды қамтитын `resort_bookings` DataFrame-ін құрыңыз.\n",
        "3. `total_nights` 10-нан асатын брондауларды қамтитын `long_stay_bookings` DataFrame-ін құрыңыз.\n",
        "4. `City Hotel`-ге арналған, `total_guests` > 3 және `total_of_special_requests` > 0 шарттарына сәйкес келетін `vip_bookings` DataFrame-ін құрыңыз. Осындай брондаулар саны қанша?"
      ]
    },
    {
      "cell_type": "code",
      "execution_count": null,
      "metadata": {},
      "outputs": [],
      "source": [
        "# 1. Бас тартылған брондаулар саны\n",
        "# СІЗДІҢ КОДЫҢЫЗ ОСЫ ЖЕРДЕ\n"
      ]
    },
    {
      "cell_type": "code",
      "execution_count": null,
      "metadata": {},
      "outputs": [],
      "source": [
        "# 2. 'resort_bookings' DataFrame-і\n",
        "# СІЗДІҢ КОДЫҢЫЗ ОСЫ ЖЕРДЕ\n"
      ]
    },
    {
      "cell_type": "code",
      "execution_count": null,
      "metadata": {},
      "outputs": [],
      "source": [
        "# 3. 'long_stay_bookings' DataFrame-і\n",
        "# СІЗДІҢ КОДЫҢЫЗ ОСЫ ЖЕРДЕ\n"
      ]
    },
    {
      "cell_type": "code",
      "execution_count": null,
      "metadata": {},
      "outputs": [],
      "source": [
        "# 4. 'vip_bookings' DataFrame-і және олардың саны\n",
        "# СІЗДІҢ КОДЫҢЫЗ ОСЫ ЖЕРДЕ\n"
      ]
    },
    {
      "cell_type": "markdown",
      "metadata": {},
      "source": [
        "### 4-тапсырма: Сұрыптау (1.5 балл)\n",
        "\n",
        "1. `hotels`-ті `adr` (бөлменің орташа бағасы) бағаны бойынша кему ретімен сұрыптаңыз. Ең қымбат 5 брондауды шығарыңыз.\n",
        "2. `hotels`-ті алдымен `hotel` (әліпби бойынша), содан кейін `total_guests` (кему ретімен) бойынша сұрыптаңыз. Алғашқы 10 жолды шығарыңыз."
      ]
    },
    {
      "cell_type": "code",
      "execution_count": null,
      "metadata": {},
      "outputs": [],
      "source": [
        "# 1. Ең қымбат 5 брондау\n",
        "# СІЗДІҢ КОДЫҢЫЗ ОСЫ ЖЕРДЕ\n"
      ]
    },
    {
      "cell_type": "code",
      "execution_count": null,
      "metadata": {},
      "outputs": [],
      "source": [
        "# 2. Екі баған бойынша сұрыптау\n",
        "# СІЗДІҢ КОДЫҢЫЗ ОСЫ ЖЕРДЕ\n"
      ]
    },
    {
      "cell_type": "markdown",
      "metadata": {},
      "source": [
        "### 5-тапсырма: Санаттарды талдау (1.5 балл)\n",
        "\n",
        "1. Деректер жинағында барлығы қанша бірегей ел (`country`) бар?\n",
        "2. Қай ел ең жиі кездеседі?\n",
        "3. Нарықтың әрбір сегментінде (`market_segment`) қанша брондау жасалған?"
      ]
    },
    {
      "cell_type": "code",
      "execution_count": null,
      "metadata": {},
      "outputs": [],
      "source": [
        "# 1. Бірегей елдердің саны\n",
        "# СІЗДІҢ КОДЫҢЫЗ ОСЫ ЖЕРДЕ\n"
      ]
    },
    {
      "cell_type": "code",
      "execution_count": null,
      "metadata": {},
      "outputs": [],
      "source": [
        "# 2. Ең жиі кездесетін ел\n",
        "# СІЗДІҢ КОДЫҢЫЗ ОСЫ ЖЕРДЕ\n"
      ]
    },
    {
      "cell_type": "code",
      "execution_count": null,
      "metadata": {},
      "outputs": [],
      "source": [
        "# 3. Нарық сегменттері бойынша брондаулар\n",
        "# СІЗДІҢ КОДЫҢЫЗ ОСЫ ЖЕРДЕ\n"
      ]
    },
    {
      "cell_type": "markdown",
      "metadata": {},
      "source": [
        "### 6-тапсырма: Кешенді тапсырма (2.5 балл)\n",
        "\n",
        "`Resort Hotel`-де **бас тартылмаған** және **екіден көп** арнайы сұранысы (`total_of_special_requests > 2`) бар барлық брондаулар үшін **бір қонаққа шаққандағы бір түннің орташа бағасын** (`adr` / `total_guests`) табыңыз.\n",
        "\n",
        "**Шешу жоспары:**\n",
        "1. Барлық шарттарға сәйкес келетін жолдарды ғана қалдырып, DataFrame-ді сүзіңіз.\n",
        "2. Сүзілген DataFrame-де `price_per_night_per_guest` атты жаңа баған құрыңыз.\n",
        "3. Осы жаңа бағанның орташа мәнін есептеңіз."
      ]
    },
    {
      "cell_type": "code",
      "execution_count": null,
      "metadata": {},
      "outputs": [],
      "source": [
        "# СІЗДІҢ КОДЫҢЫЗ ОСЫ ЖЕРДЕ\n"
      ]
    }
  ],
  "metadata": {
    "kernelspec": {
      "display_name": "Python [conda env:base] *",
      "language": "python",
      "name": "conda-base-py"
    },
    "language_info": {
      "codemirror_mode": {
        "name": "ipython",
        "version": 3
      },
      "file_extension": ".py",
      "mimetype": "text/x-python",
      "name": "python",
      "nbconvert_exporter": "python",
      "pygments_lexer": "ipython3",
      "version": "3.13.5"
    }
  },
  "nbformat": 4,
  "nbformat_minor": 4
}