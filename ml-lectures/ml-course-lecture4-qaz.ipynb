{
 "cells": [
  {
   "cell_type": "markdown",
   "metadata": {},
   "source": [
    "# 4-дәріс: Pandas-тың жетілдірілген әдістері\n",
    "\n",
    "**Курс:** Машиналық оқытуға кіріспе\n",
    "\n",
    "---"
   ]
  },
  {
   "cell_type": "markdown",
   "metadata": {},
   "source": [
    "### Дәріс мақсаттары\n",
    "\n",
    "Негізгі операцияларды меңгергеннен кейін, біз нақты деректерді талдауға және модельдер құруға дайындау үшін қажетті күрделірек және қуатты құралдарға көшеміз.\n",
    "\n",
    "1.  **Жоқ деректермен (missing data) жұмыс істеуді үйрену:** оларды анықтау (`.isnull()`), жою (`.dropna()`) және толтыру (`.fillna()`) әдістерін меңгеру.\n",
    "2.  **`GROUP BY` көмегімен деректерді агрегаттауды меңгеру:** деректерді санаттар бойынша топтастыруды және олар үшін әртүрлі статистиканы (орташа, сома, сан) есептеуді түсіну.\n",
    "3.  **`.apply()` әдісін зерттеу:** деректерді күрделі түрлендіру үшін бағандарға жеке функцияларды қолдануды үйрену.\n",
    "4.  **Кестелерді біріктіруді үйрену:** `DataFrames` біріктірудің екі негізгі әдісін қарастыру — қарапайым \"желімдеу\" үшін `pd.concat()` және SQL-дегі сияқты кілттер бойынша \"ақылды\" біріктіру үшін `pd.merge()`.\n",
    "\n",
    "Бұл дағдылар Data Scientist жұмысының негізін құрайды және деректерді өңдеу бойынша тапсырмалардың басым көпшілігін шешу үшін өте маңызды."
   ]
  },
  {
   "cell_type": "markdown",
   "metadata": {},
   "source": [
    "### Кітапханаларды импорттау"
   ]
  },
  {
   "cell_type": "code",
   "execution_count": null,
   "metadata": {},
   "outputs": [],
   "source": [
    "import pandas as pd\n",
    "import numpy as np"
   ]
  },
  {
   "cell_type": "markdown",
   "metadata": {},
   "source": [
    "## 1. Жоқ деректер (Missing Data)\n",
    "\n",
    "Нақты деректер жиынында үнемі дерлік бос орындар кездеседі. Олар деректерді жинау қателерінен, толық емес жазбалардан немесе жай ғана қандай да бір ақпараттың болмауынан туындауы мүмкін. Машиналық оқыту алгоритмдерінің көпшілігі бос орындармен жұмыс істей алмайды, сондықтан оларды өңдеу қажет.\n",
    "\n",
    "Pandas-та жоқ мәндер әдетте `NaN` (Not a Number) ретінде көрсетіледі.\n",
    "\n",
    "**Бос орындармен жұмыс істеудің негізгі стратегиялары:**\n",
    "1.  **Сол күйінде қалдыру:** Егер сіздің келесі құралыңыз (мысалы, кейбір жетілдірілген модельдер) бос орындармен жұмыс істей алса, бұл әдіс жарамды. (Артықшылығы: деректерді бұрмаламаймыз. Кемшілігі: сирек қолданылады).\n",
    "2.  **Жою:** Бос орындары бар жолдарды немесе бағандарды жоюға болады. (Артықшылығы: қарапайым. Кемшілігі: деректерді жоғалтамыз, бұл өте маңызды болуы мүмкін).\n",
    "3.  **Толтыру:** Бос орындарды белгілі бір мәнмен (мысалы, нөлмен, орташа, медиана немесе модамен) ауыстыру. (Артықшылығы: деректерді сақтаймыз. Кемшілігі: нәтижелерді бұрмалауы мүмкін болжамдар жасаймыз)."
   ]
  },
  {
   "cell_type": "markdown",
   "metadata": {},
   "source": [
    "Демонстрация үшін шағын DataFrame құрайық."
   ]
  },
  {
   "cell_type": "code",
   "execution_count": null,
   "metadata": {},
   "outputs": [],
   "source": [
    "data = {'A': [1, 2, np.nan, 4],\n",
    "        'B': [5, np.nan, np.nan, 8],\n",
    "        'C': [9, 10, 11, 12]}\n",
    "df = pd.DataFrame(data)"
   ]
  },
  {
   "cell_type": "code",
   "execution_count": null,
   "metadata": {},
   "outputs": [],
   "source": [
    "df"
   ]
  },
  {
   "cell_type": "markdown",
   "metadata": {},
   "source": [
    "### 1.1. Бос орындарды анықтау: `.isnull()`\n",
    "`.isnull()` әдісі `True` мәні бос орынды білдіретін, бірдей өлшемдегі бульдік мәндері бар DataFrame қайтарады."
   ]
  },
  {
   "cell_type": "code",
   "execution_count": null,
   "metadata": {},
   "outputs": [],
   "source": [
    "df.isnull()"
   ]
  },
  {
   "cell_type": "markdown",
   "metadata": {},
   "source": [
    "Әр бағандағы бос орындар санын тез есептеу үшін `.isnull()` нәтижесіне `.sum()` әдісін қолдануға болады."
   ]
  },
  {
   "cell_type": "code",
   "execution_count": null,
   "metadata": {},
   "outputs": [],
   "source": [
    "df.isnull().sum()"
   ]
  },
  {
   "cell_type": "markdown",
   "metadata": {},
   "source": [
    "### 1.2. Бос орындарды жою: `.dropna()`\n",
    "Ең қарапайым тәсіл — бос орындары бар жолдарды немесе бағандарды жою."
   ]
  },
  {
   "cell_type": "code",
   "execution_count": null,
   "metadata": {},
   "outputs": [],
   "source": [
    "# Кем дегенде бір бос орны (NaN) бар кез келген жолды жою\n",
    "df.dropna()"
   ]
  },
  {
   "cell_type": "code",
   "execution_count": null,
   "metadata": {},
   "outputs": [],
   "source": [
    "# Кем дегенде бір бос орны бар кез келген бағанды жою\n",
    "df.dropna(axis=1)"
   ]
  },
  {
   "cell_type": "code",
   "execution_count": null,
   "metadata": {},
   "outputs": [],
   "source": [
    "# thresh (шекті мән) параметрін қолдану\n",
    "# Кем дегенде 2 бос емес мәні бар жолдарды ғана қалдыру\n",
    "df.dropna(thresh=2)"
   ]
  },
  {
   "cell_type": "markdown",
   "metadata": {},
   "source": [
    "### 1.3. Бос орындарды толтыру: `.fillna()`\n",
    "Икемдірек тәсіл — бос орындарды толтыру."
   ]
  },
  {
   "cell_type": "code",
   "execution_count": null,
   "metadata": {},
   "outputs": [],
   "source": [
    "# Барлық бос орындарды бір мәнмен, мысалы, нөлмен толтыру\n",
    "df.fillna(0)"
   ]
  },
  {
   "cell_type": "markdown",
   "metadata": {},
   "source": [
    "Көбінесе бос орындарды баған бойынша орташа мәнмен толтырады. Бұл деректердің жалпы статистикасын сақтауға мүмкіндік береді."
   ]
  },
  {
   "cell_type": "code",
   "execution_count": null,
   "metadata": {},
   "outputs": [],
   "source": [
    "# 'A' бағанындағы бос орындарды осы бағанның орташа мәнімен толтыру\n",
    "mean_A = df['A'].mean()\n",
    "df['A'].fillna(mean_A)"
   ]
  },
  {
   "cell_type": "markdown",
   "metadata": {},
   "source": [
    "## 2. Деректерді агрегаттау: Group By\n",
    "\n",
    "`Group By` (топтастыру) операциясы — Pandas-тағы ең қуатты операциялардың бірі. Ол **Split-Apply-Combine** (Бөлу-Қолдану-Біріктіру) парадигмасын жүзеге асыруға мүмкіндік береді:\n",
    "\n",
    "1.  **Split:** Деректер белгілі бір санаттық белгі негізінде топтарға бөлінеді.\n",
    "2.  **Apply:** Әр топқа тәуелсіз түрде қандай да бір функция қолданылады (мысалы, `sum`, `mean`, `count`).\n",
    "3.  **Combine:** Функцияны қолдану нәтижелері жаңа DataFrame-ге біріктіріледі.\n",
    "\n",
    "Бұл \"Әр санаттағы тауардың орташа бағасы қандай?\" немесе \"Әр қала бойынша жалпы түсім қандай?\" сияқты сұрақтарға жауап беруге мүмкіндік береді.\n",
    "\n",
    "Мысалдар үшін `mpg.csv` деректер жинағын қолданамыз."
   ]
  },
  {
   "cell_type": "code",
   "execution_count": null,
   "metadata": {},
   "outputs": [],
   "source": [
    "df_cars = pd.read_csv('mpg.csv')"
   ]
  },
  {
   "cell_type": "markdown",
   "metadata": {},
   "source": [
    "### Топтастыру және агрегаттау функциясын қолдану\n",
    "\n",
    "Автомобильдердің сипаттамаларының әрбір шығарылған жыл (`model_year`) үшін орташа мәндерін табайық."
   ]
  },
  {
   "cell_type": "code",
   "execution_count": null,
   "metadata": {},
   "outputs": [],
   "source": [
    "# 1 және 2-қадам: 'model_year' бойынша топтастырып, әр топ үшін орташа мәнді есептейміз\n",
    "# Сандық емес бағандар ('name' сияқты) автоматты түрде ескерілмейді\n",
    "avg_by_year = df_cars.groupby('model_year').mean(numeric_only=True)\n",
    "avg_by_year.head()"
   ]
  },
  {
   "cell_type": "markdown",
   "metadata": {},
   "source": [
    "Деректерді топтастырып, содан кейін агрегаттау үшін бір бағанды таңдауға болады."
   ]
  },
  {
   "cell_type": "code",
   "execution_count": null,
   "metadata": {},
   "outputs": [],
   "source": [
    "# Әр жыл үшін 'mpg' орташа мәні\n",
    "avg_mpg_by_year = df_cars.groupby('model_year')['mpg'].mean()\n",
    "avg_mpg_by_year.head()"
   ]
  },
  {
   "cell_type": "markdown",
   "metadata": {},
   "source": [
    "Топтар бойынша толық статистиканы алу үшін `.describe()` сияқты басқа функцияларды да қолдануға болады."
   ]
  },
  {
   "cell_type": "code",
   "execution_count": null,
   "metadata": {},
   "outputs": [],
   "source": [
    "df_cars.groupby('cylinders').describe()['mpg']"
   ]
  },
  {
   "cell_type": "markdown",
   "metadata": {},
   "source": [
    "## 3. `.apply()` әдісі\n",
    "\n",
    "`.apply()` әдісі — Pandas-тың кіріктірілген функциялары жеткіліксіз болған жағдайларға арналған \"швейцариялық пышағыңыз\". Ол сіздің кез келген функцияңызды бағанның (Series) әрбір элементіне қолдануға мүмкіндік береді.\n",
    "\n",
    "Автомобильдерді жанармай шығыны бойынша жіктегіміз келеді делік."
   ]
  },
  {
   "cell_type": "code",
   "execution_count": null,
   "metadata": {},
   "outputs": [],
   "source": [
    "# 1-қадам: Өз функциямызды құрамыз\n",
    "def classify_mpg(mpg):\n",
    "    if mpg < 15:\n",
    "        return 'Өте төмен'\n",
    "    elif 15 <= mpg < 25:\n",
    "        return 'Орташа'\n",
    "    else:\n",
    "        return 'Жоғары'"
   ]
  },
  {
   "cell_type": "code",
   "execution_count": null,
   "metadata": {},
   "outputs": [],
   "source": [
    "# 2-қадам: Функцияны 'mpg' бағанына қолданып, жаңа баған құрамыз\n",
    "df_cars['mpg_class'] = df_cars['mpg'].apply(classify_mpg)\n",
    "df_cars[['name', 'mpg', 'mpg_class']].head()"
   ]
  },
  {
   "cell_type": "markdown",
   "metadata": {},
   "source": [
    "Дәл осыны **lambda-функция** көмегімен қысқаша жасауға болады:"
   ]
  },
  {
   "cell_type": "code",
   "execution_count": null,
   "metadata": {},
   "outputs": [],
   "source": [
    "# Lambda-функциясымен мысал. Автомобильдің ауыр немесе жеңіл екенін көрсететін баған құрайық\n",
    "df_cars['is_heavy'] = df_cars['weight'].apply(lambda w: 'Иә' if w > 3000 else 'Жоқ')\n",
    "df_cars[['name', 'weight', 'is_heavy']].head()"
   ]
  },
  {
   "cell_type": "markdown",
   "metadata": {},
   "source": [
    "## 4. DataFrame біріктіру\n",
    "\n",
    "Сізге қажетті деректер жиі бірнеше түрлі файлдарда немесе кестелерде сақталады. Pandas оларды біріктіру үшін қуатты құралдарды ұсынады."
   ]
  },
  {
   "cell_type": "markdown",
   "metadata": {},
   "source": [
    "### 4.1. `pd.concat()`\n",
    "\n",
    "`concat` (конкатенация) — бұл кестелерді тігінен немесе көлденеңінен қарапайым \"желімдеу\". Басты шарт — кестелердің құрылымы үйлесімді болуы керек.\n",
    "\n",
    "Екі түрлі жылға арналған деректер екі файлда сақталған деп елестетейік."
   ]
  },
  {
   "cell_type": "code",
   "execution_count": null,
   "metadata": {},
   "outputs": [],
   "source": [
    "df1 = pd.DataFrame({'A': ['A0', 'A1'], 'B': ['B0', 'B1']},\n",
    "                     index=[0, 1])\n",
    "\n",
    "df2 = pd.DataFrame({'A': ['A2', 'A3'], 'B': ['B2', 'B3']},\n",
    "                     index=[2, 3])"
   ]
  },
  {
   "cell_type": "code",
   "execution_count": null,
   "metadata": {},
   "outputs": [],
   "source": [
    "# Тігінен біріктіру (әдепкі бойынша axis=0)\n",
    "pd.concat([df1, df2])"
   ]
  },
  {
   "cell_type": "code",
   "execution_count": null,
   "metadata": {},
   "outputs": [],
   "source": [
    "# Көлденеңінен біріктіру\n",
    "pd.concat([df1, df2], axis=1)"
   ]
  },
  {
   "cell_type": "markdown",
   "metadata": {},
   "source": [
    "### 4.2. `pd.merge()`\n",
    "\n",
    "`merge` — бұл SQL-дегі `JOIN`-ға ұқсас, неғұрлым интеллектуалды біріктіру. Ол кестелерді бір немесе бірнеше ортақ бағандардағы (кілттердегі) мәндер негізінде біріктіреді.\n",
    "\n",
    "Екі DataFrame құрайық: біреуі тіркеу туралы, екіншісі — жүйеге кіру туралы деректермен."
   ]
  },
  {
   "cell_type": "code",
   "execution_count": null,
   "metadata": {},
   "outputs": [],
   "source": [
    "registrations = pd.DataFrame({'reg_id':[1,2,3,4],'name':['Andrew','Bobo','Claire','David']})\n",
    "logins = pd.DataFrame({'log_id':[1,2,3,4],'name':['Xavier','Andrew','Yolanda','Bobo']})"
   ]
  },
  {
   "cell_type": "markdown",
   "metadata": {},
   "source": [
    "#### Inner Merge (ішкі біріктіру)\n",
    "Бұл — әдепкі біріктіру. Нәтижеге тек кілттері (`name`) **екі** кестеде де бар жолдар ғана енеді."
   ]
  },
  {
   "cell_type": "code",
   "execution_count": null,
   "metadata": {},
   "outputs": [],
   "source": [
    "# Pandas 'name' ортақ бағанын автоматты түрде табады\n",
    "pd.merge(registrations, logins, how='inner', on='name')"
   ]
  },
  {
   "cell_type": "markdown",
   "metadata": {},
   "source": [
    "#### Left Merge (сол жақты біріктіру)\n",
    "Нәтижеге сол жақ кестедегі (`registrations`) **барлық** жолдар және оң жақ кестедегі тек сәйкес келетін жолдар енеді. Егер сәйкестік табылмаса, оң жақ кестедегі бағандардың мәндері `NaN`-мен толтырылады."
   ]
  },
  {
   "cell_type": "code",
   "execution_count": null,
   "metadata": {},
   "outputs": [],
   "source": [
    "pd.merge(registrations, logins, how='left', on='name')"
   ]
  },
  {
   "cell_type": "markdown",
   "metadata": {},
   "source": [
    "## Қорытынды және келесі қадамдар\n",
    "\n",
    "*   **Бүгін не үйрендік:**\n",
    "    *   Бос орындармен жұмыс істеудің үш стратегиясы: қалдыру, жою (`.dropna()`) немесе толтыру (`.fillna()`).\n",
    "    *   Деректерді агрегаттау үшін `groupby`-дағы `Split-Apply-Combine` механизмі қалай жұмыс істейтіні.\n",
    "    *   `.apply()` көмегімен деректерге өз функцияларымызды қалай қолдануға болатыны.\n",
    "    *   Кестелерді қалай \"желімдеу\" (`.concat()`) және \"біріктіру\" (`.merge()`) керектігі.\n",
    "\n",
    "*   **Ары қарай не болады?**\n",
    "    *   **Семинарда** біз осы әдістердің әрқайсысын практикалық мысалдармен пысықтаймыз.\n",
    "    *   **Зертханалық жұмыста** сіз осы әдістерді деректер жинағын тереңірек талдау үшін қолданасыз."
   ]
  }
 ],
 "metadata": {
  "kernelspec": {
   "display_name": "Python [conda env:base] *",
   "language": "python",
   "name": "conda-base-py"
  },
  "language_info": {
   "codemirror_mode": {
    "name": "ipython",
    "version": 3
   },
   "file_extension": ".py",
   "mimetype": "text/x-python",
   "name": "python",
   "nbconvert_exporter": "python",
   "pygments_lexer": "ipython3",
   "version": "3.13.5"
  }
 },
 "nbformat": 4,
 "nbformat_minor": 4
}
