{
  "cells": [
    {
      "cell_type": "markdown",
      "metadata": {},
      "source": [
        "# Лабораторная работа №3: Основы Pandas\n",
        "\n",
        "**Курс:** Машинное обучение"
      ]
    },
    {
      "cell_type": "markdown",
      "metadata": {},
      "source": [
        "### Информация о студенте\n",
        "\n",
        "**ФИО:** *<здесь студент должен вписать свои данные>*\n",
        "\n",
        "**Группа:** *<здесь студент должен вписать свои данные>*\n",
        "\n",
        "### Политика выставления оценок\n",
        "\n",
        "**Максимальная оценка за работу: 10 баллов.**\n",
        "\n",
        "| Задание | Максимальный балл | Описание |\n",
        "|:---|:---|:---|\n",
        "| Задание 1 | **1.0 балл** | Загрузка данных и первичный осмотр. |\n",
        "| Задание 2 | **1.5 балла** | Работа со столбцами: выбор, создание, удаление. |\n",
        "| Задание 3 | **2.0 балла** | Фильтрация по одному и нескольким условиям. |\n",
        "| Задание 4 | **1.5 балла** | Сортировка данных. |\n",
        "| Задание 5 | **1.5 балла** | Использование методов `.value_counts()` и `.unique()`. |\n",
        "| Задание 6 | **2.5 балла** | Комплексная задача на фильтрацию и анализ. |\n",
        "\n",
        "**Политика академической честности:**\n",
        "\n",
        "Код вы должны писать **самостоятельно**. Работы, которые будут признаны идентичными (плагиатом), будут оценены в **0 баллов** для всех вовлеченных студентов без возможности пересдачи."
      ]
    },
    {
      "cell_type": "markdown",
      "metadata": {},
      "source": [
        "---"
      ]
    },
    {
      "cell_type": "markdown",
      "metadata": {},
      "source": [
        "### Контекст\n",
        "\n",
        "В этой лабораторной работе мы будем анализировать набор данных `hotel_booking_data.csv`, который содержит информацию о бронированиях в отеле. Ваша задача — применить полученные на лекции и семинаре навыки для анализа и манипуляции этими данными."
      ]
    },
    {
      "cell_type": "markdown",
      "metadata": {},
      "source": [
        "### Задание 1: Загрузка и первичный осмотр (1.0 балл)\n",
        "\n",
        "1. Импортируйте библиотеку pandas.\n",
        "2. Загрузите файл `hotel_booking_data.csv` в DataFrame с именем `hotels`.\n",
        "3. Выведите первые 7 строк DataFrame.\n",
        "4. Выведите общую информацию о DataFrame с помощью метода `.info()`. Есть ли в данных пропуски?"
      ]
    },
    {
      "cell_type": "code",
      "execution_count": null,
      "metadata": {},
      "outputs": [],
      "source": [
        "# ВАШ КОД ЗДЕСЬ\n"
      ]
    },
    {
      "cell_type": "markdown",
      "metadata": {},
      "source": [
        "### Задание 2: Работа со столбцами (1.5 балла)\n",
        "\n",
        "1. Создайте новый столбец `total_nights`, который будет являться суммой столбцов `stays_in_weekend_nights` и `stays_in_week_nights`.\n",
        "2. Создайте столбец `total_guests`, который будет суммой `adults`, `children` и `babies`.\n",
        "3. Удалите столбцы `name`, `email`, `phone-number` и `credit_card` из DataFrame `hotels`.\n",
        "4. Выведите `.head()` обновленного DataFrame."
      ]
    },
    {
      "cell_type": "code",
      "execution_count": null,
      "metadata": {},
      "outputs": [],
      "source": [
        "# ВАШ КОД ЗДЕСЬ\n"
      ]
    },
    {
      "cell_type": "markdown",
      "metadata": {},
      "source": [
        "### Задание 3: Фильтрация данных (2.0 балла)\n",
        "\n",
        "1. Сколько бронирований было отменено (`is_canceled` == 1)?\n",
        "2. Создайте DataFrame `resort_bookings`, содержащий только бронирования для `Resort Hotel`.\n",
        "3. Создайте DataFrame `long_stay_bookings`, содержащий бронирования, где `total_nights` больше 10.\n",
        "4. Создайте DataFrame `vip_bookings`, содержащий бронирования для `City Hotel`, где `total_guests` > 3 и `total_of_special_requests` > 0. Сколько таких бронирований?"
      ]
    },
    {
      "cell_type": "code",
      "execution_count": null,
      "metadata": {},
      "outputs": [],
      "source": [
        "# 1. Количество отмененных бронирований\n",
        "# ВАШ КОД ЗДЕСЬ\n"
      ]
    },
    {
      "cell_type": "code",
      "execution_count": null,
      "metadata": {},
      "outputs": [],
      "source": [
        "# 2. DataFrame 'resort_bookings'\n",
        "# ВАШ КОД ЗДЕСЬ\n"
      ]
    },
    {
      "cell_type": "code",
      "execution_count": null,
      "metadata": {},
      "outputs": [],
      "source": [
        "# 3. DataFrame 'long_stay_bookings'\n",
        "# ВАШ КОД ЗДЕСЬ\n"
      ]
    },
    {
      "cell_type": "code",
      "execution_count": null,
      "metadata": {},
      "outputs": [],
      "source": [
        "# 4. DataFrame 'vip_bookings' и их количество\n",
        "# ВАШ КОД ЗДЕСЬ\n"
      ]
    },
    {
      "cell_type": "markdown",
      "metadata": {},
      "source": [
        "### Задание 4: Сортировка (1.5 балла)\n",
        "\n",
        "1. Отсортируйте `hotels` по столбцу `adr` (средняя цена за номер) по убыванию. Выведите 5 самых дорогих бронирований.\n",
        "2. Отсортируйте `hotels` сначала по `hotel` (в алфавитном порядке), а затем по `total_guests` (по убыванию). Выведите первые 10 строк."
      ]
    },
    {
      "cell_type": "code",
      "execution_count": null,
      "metadata": {},
      "outputs": [],
      "source": [
        "# 1. 5 самых дорогих бронирований\n",
        "# ВАШ КОД ЗДЕСЬ\n"
      ]
    },
    {
      "cell_type": "code",
      "execution_count": null,
      "metadata": {},
      "outputs": [],
      "source": [
        "# 2. Сортировка по двум столбцам\n",
        "# ВАШ КОД ЗДЕСЬ\n"
      ]
    },
    {
      "cell_type": "markdown",
      "metadata": {},
      "source": [
        "### Задание 5: Анализ категорий (1.5 балла)\n",
        "\n",
        "1. Сколько всего уникальных стран (`country`) представлено в датасете?\n",
        "2. Какая страна встречается чаще всего?\n",
        "3. Сколько бронирований было сделано в каждом из сегментов рынка (`market_segment`)? "
      ]
    },
    {
      "cell_type": "code",
      "execution_count": null,
      "metadata": {},
      "outputs": [],
      "source": [
        "# 1. Количество уникальных стран\n",
        "# ВАШ КОД ЗДЕСЬ\n"
      ]
    },
    {
      "cell_type": "code",
      "execution_count": null,
      "metadata": {},
      "outputs": [],
      "source": [
        "# 2. Самая частая страна\n",
        "# ВАШ КОД ЗДЕСЬ\n"
      ]
    },
    {
      "cell_type": "code",
      "execution_count": null,
      "metadata": {},
      "outputs": [],
      "source": [
        "# 3. Бронирования по сегментам рынка\n",
        "# ВАШ КОД ЗДЕСЬ\n"
      ]
    },
    {
      "cell_type": "markdown",
      "metadata": {},
      "source": [
        "### Задание 6: Комплексная задача (2.5 балла)\n",
        "\n",
        "Найдите **среднюю цену за ночь на одного гостя** (`adr` / `total_guests`) для всех **не отмененных** бронирований в `Resort Hotel`, где было **больше двух** специальных запросов (`total_of_special_requests > 2`).\n",
        "\n",
        "**План решения:**\n",
        "1. Отфильтруйте DataFrame, чтобы остались только строки, удовлетворяющие всем условиям.\n",
        "2. В отфильтрованном DataFrame создайте новый столбец `price_per_night_per_guest`.\n",
        "3. Посчитайте среднее значение этого нового столбца."
      ]
    },
    {
      "cell_type": "code",
      "execution_count": null,
      "metadata": {},
      "outputs": [],
      "source": [
        "# ВАШ КОД ЗДЕСЬ\n"
      ]
    }
  ],
  "metadata": {
    "kernelspec": {
      "display_name": "Python [conda env:base] *",
      "language": "python",
      "name": "conda-base-py"
    },
    "language_info": {
      "codemirror_mode": {
        "name": "ipython",
        "version": 3
      },
      "file_extension": ".py",
      "mimetype": "text/x-python",
      "name": "python",
      "nbconvert_exporter": "python",
      "pygments_lexer": "ipython3",
      "version": "3.13.5"
    }
  },
  "nbformat": 4,
  "nbformat_minor": 4
}