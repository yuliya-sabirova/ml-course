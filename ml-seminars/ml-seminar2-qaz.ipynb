{
 "cells": [
  {
   "cell_type": "markdown",
   "metadata": {},
   "source": [
    "# №2 Семинар: NumPy-мен жұмыс істеу тәжірибесі\n",
    "\n",
    "**Курс:** Машиналық оқыту"
   ]
  },
  {
   "cell_type": "markdown",
   "metadata": {},
   "source": [
    "### Студент туралы ақпарат\n",
    "\n",
    "**Аты-жөні:** *<студент бұл жерге өз деректерін жазуы керек>*\n",
    "\n",
    "**Тобы:** *<студент бұл жерге өз деректерін жазуы керек>*\n",
    "\n",
    "### Бағалау саясаты\n",
    "\n",
    "**Жұмыс үшін максималды баға: 6 балл.**\n",
    "\n",
    "**Семинардың мақсаты:** Дәрісте алынған NumPy кітапханасымен жұмыс істеудің негізгі дағдыларын тәжірибеде бекіту және зертханалық жұмысқа дайындалу."
   ]
  },
  {
   "cell_type": "markdown",
   "metadata": {},
   "source": [
    "---"
   ]
  },
  {
   "cell_type": "markdown",
   "metadata": {},
   "source": [
    "## Қысқаша теориялық анықтама\n",
    "\n",
    "Тапсырмаларды орындау алдында дәрістің негізгі сәттерін жылдам қайталап өтейік.\n",
    "\n",
    "### Массивтерді құру\n",
    "- `np.array(list)`: Python тізімінен массив жасайды.\n",
    "- `np.arange(start, stop, step)`: Біркелкі қадаммен массив жасайды.\n",
    "- `np.linspace(start, stop, num)`: `num` санымен бірдей қашықтықта орналасқан нүктелерден тұратын массив жасайды.\n",
    "- `np.zeros(shape)`: Берілген пішіндегі нөлдерден тұратын массив жасайды.\n",
    "- `np.ones(shape)`: Бірліктерден тұратын массив жасайды.\n",
    "- `np.eye(N)`: NxN бірлік матрицасын жасайды.\n",
    "- `np.random.rand(d0, d1)`: [0, 1) аралығындағы біркелкі үлестірілімнен алынған кездейсоқ сандар массиві.\n",
    "- `np.random.randn(d0, d1)`: Стандартты қалыпты үлестірілімнен алынған кездейсоқ сандар массиві.\n",
    "- `np.random.randint(low, high, size)`: Кездейсоқ бүтін сандар массиві.\n",
    "\n",
    "### Индекстеу және кесінділер\n",
    "- **Индекстеу** `0`-ден басталады.\n",
    "- **2D-массив (матрица) үшін синтаксис:** `mat[row, col]`\n",
    "- **Кесінділер:** `mat[start_row:stop_row, start_col:stop_col]`\n",
    "  - `:` осы ось бойынша \"барлық элементтер\" дегенді білдіреді.\n",
    "  - `stop` кесіндіге кірмейді.\n",
    "\n",
    "### Агрегаттаушы функциялар және `axis` параметрі\n",
    "- **Функциялар:** `.sum()`, `.mean()`, `.max()`, `.min()`, `.std()`, `.var()`\n",
    "- **`axis=0`**: Операция **бағандар бойынша** (жоғарыдан төмен) орындалады.\n",
    "- **`axis=1`**: Операция **жолдар бойынша** (солдан оңға) орындалады."
   ]
  },
  {
   "cell_type": "markdown",
   "metadata": {},
   "source": [
    "---"
   ]
  },
  {
   "cell_type": "markdown",
   "metadata": {},
   "source": [
    "## Тәжірибелік тапсырмалар\n",
    "\n",
    "Төменде **қарайтылған** шрифтпен көрсетілген тапсырмаларды орындаңыз."
   ]
  },
  {
   "cell_type": "markdown",
   "metadata": {},
   "source": [
    "#### 1. NumPy-ды np ретінде импорттаңыз"
   ]
  },
  {
   "cell_type": "code",
   "execution_count": null,
   "metadata": {},
   "outputs": [],
   "source": [
    "import numpy as np"
   ]
  },
  {
   "cell_type": "markdown",
   "metadata": {},
   "source": [
    "#### 2. 10 нөлден тұратын массив құрыңыз"
   ]
  },
  {
   "cell_type": "code",
   "execution_count": null,
   "metadata": {},
   "outputs": [],
   "source": [
    "# Осы ұяшыққа шешіміңізді жазыңыз"
   ]
  },
  {
   "cell_type": "markdown",
   "metadata": {},
   "source": [
    "#### 3. 10 бірліктен тұратын массив құрыңыз"
   ]
  },
  {
   "cell_type": "code",
   "execution_count": null,
   "metadata": {},
   "outputs": [],
   "source": [
    "# Осы ұяшыққа шешіміңізді жазыңыз"
   ]
  },
  {
   "cell_type": "markdown",
   "metadata": {},
   "source": [
    "#### 4. 10 бестіктен тұратын массив құрыңыз"
   ]
  },
  {
   "cell_type": "code",
   "execution_count": null,
   "metadata": {},
   "outputs": [],
   "source": [
    "# Осы ұяшыққа шешіміңізді жазыңыз"
   ]
  },
  {
   "cell_type": "markdown",
   "metadata": {},
   "source": [
    "#### 5. 10-нан 50-ге дейінгі бүтін сандардан тұратын массив құрыңыз"
   ]
  },
  {
   "cell_type": "code",
   "execution_count": null,
   "metadata": {},
   "outputs": [],
   "source": [
    "# Осы ұяшыққа шешіміңізді жазыңыз"
   ]
  },
  {
   "cell_type": "markdown",
   "metadata": {},
   "source": [
    "#### 6. 10-нан 50-ге дейінгі барлық жұп сандардан тұратын массив құрыңыз"
   ]
  },
  {
   "cell_type": "code",
   "execution_count": null,
   "metadata": {},
   "outputs": [],
   "source": [
    "# Осы ұяшыққа шешіміңізді жазыңыз"
   ]
  },
  {
   "cell_type": "markdown",
   "metadata": {},
   "source": [
    "#### 7. 0-ден 8-ге дейінгі мәндері бар 3x3 матрицасын құрыңыз"
   ]
  },
  {
   "cell_type": "code",
   "execution_count": null,
   "metadata": {},
   "outputs": [],
   "source": [
    "# Осы ұяшыққа шешіміңізді жазыңыз"
   ]
  },
  {
   "cell_type": "markdown",
   "metadata": {},
   "source": [
    "#### 8. 3x3 өлшемді бірлік матрицасын құрыңыз"
   ]
  },
  {
   "cell_type": "code",
   "execution_count": null,
   "metadata": {},
   "outputs": [],
   "source": [
    "# Осы ұяшыққа шешіміңізді жазыңыз"
   ]
  },
  {
   "cell_type": "markdown",
   "metadata": {},
   "source": [
    "#### 9. NumPy көмегімен 0-ден 1-ге дейінгі аралықта кездейсоқ сан генерациялаңыз"
   ]
  },
  {
   "cell_type": "code",
   "execution_count": null,
   "metadata": {
    "collapsed": true,
    "jupyter": {
     "outputs_hidden": true
    }
   },
   "outputs": [],
   "source": [
    "# Осы ұяшыққа шешіміңізді жазыңыз"
   ]
  },
  {
   "cell_type": "markdown",
   "metadata": {},
   "source": [
    "#### 10. NumPy көмегімен стандартты қалыпты үлестірілімнен алынған 25 кездейсоқ саннан тұратын массив генерациялаңыз"
   ]
  },
  {
   "cell_type": "code",
   "execution_count": null,
   "metadata": {
    "collapsed": true,
    "jupyter": {
     "outputs_hidden": true
    }
   },
   "outputs": [],
   "source": [
    "# Осы ұяшыққа шешіміңізді жазыңыз"
   ]
  },
  {
   "cell_type": "markdown",
   "metadata": {},
   "source": [
    "#### 11. Төменде көрсетілген матрицаны құрыңыз. *Кеңес: деректер типіне назар аударыңыз.*\n",
    "\n",
    "array([[0.01, 0.02, 0.03, 0.04, 0.05, 0.06, 0.07, 0.08, 0.09, 0.1 ], <br>\n",
    "       [0.11, 0.12, 0.13, 0.14, 0.15, 0.16, 0.17, 0.18, 0.19, 0.2 ], <br>\n",
    "       [0.21, 0.22, 0.23, 0.24, 0.25, 0.26, 0.27, 0.28, 0.29, 0.3 ], <br>\n",
    "       [0.31, 0.32, 0.33, 0.34, 0.35, 0.36, 0.37, 0.38, 0.39, 0.4 ], <br>\n",
    "       [0.41, 0.42, 0.43, 0.44, 0.45, 0.46, 0.47, 0.48, 0.49, 0.5 ], <br>\n",
    "       [0.51, 0.52, 0.53, 0.54, 0.55, 0.56, 0.57, 0.58, 0.59, 0.6 ], <br>\n",
    "       [0.61, 0.62, 0.63, 0.64, 0.65, 0.66, 0.67, 0.68, 0.69, 0.7 ], <br>\n",
    "       [0.71, 0.72, 0.73, 0.74, 0.75, 0.76, 0.77, 0.78, 0.79, 0.8 ], <br>\n",
    "       [0.81, 0.82, 0.83, 0.84, 0.85, 0.86, 0.87, 0.88, 0.89, 0.9 ], <br>\n",
    "       [0.91, 0.92, 0.93, 0.94, 0.95, 0.96, 0.97, 0.98, 0.99, 1.  ]])"
   ]
  },
  {
   "cell_type": "code",
   "execution_count": null,
   "metadata": {
    "collapsed": true,
    "jupyter": {
     "outputs_hidden": true
    }
   },
   "outputs": [],
   "source": [
    "# Осы ұяшыққа шешіміңізді жазыңыз"
   ]
  },
  {
   "cell_type": "markdown",
   "metadata": {},
   "source": [
    "#### 12. 0 мен 1 арасындағы бір-бірінен бірдей қашықтықта орналасқан 20 нүктеден тұратын массив құрыңыз:"
   ]
  },
  {
   "cell_type": "code",
   "execution_count": null,
   "metadata": {
    "collapsed": true,
    "jupyter": {
     "outputs_hidden": true
    }
   },
   "outputs": [],
   "source": [
    "# Осы ұяшыққа шешіміңізді жазыңыз"
   ]
  },
  {
   "cell_type": "markdown",
   "metadata": {},
   "source": [
    "## NumPy индекстеуі\n",
    "\n",
    "Енді сізге матрицадан деректерді шығарып алуды жаттықтыру керек. Ол үшін алдымен `mat` матрицасын жасау үшін келесі ұяшықты іске қосыңыз."
   ]
  },
  {
   "cell_type": "code",
   "execution_count": null,
   "metadata": {},
   "outputs": [
    {
     "data": {
      "text/plain": [
       "array([[ 1,  2,  3,  4,  5],\n",
       "       [ 6,  7,  8,  9, 10],\n",
       "       [11, 12, 13, 14, 15],\n",
       "       [16, 17, 18, 19, 20],\n",
       "       [21, 22, 23, 24, 25]])"
      ]
     },
     "execution_count": 13,
     "metadata": {},
     "output_type": "execute_result"
    }
   ],
   "source": [
    "# ОСЫ ҰЯШЫҚТЫ ІСКЕ ҚОСЫҢЫЗ\n",
    "mat = np.arange(1,26).reshape(5,5)\n",
    "mat"
   ]
  },
  {
   "cell_type": "markdown",
   "metadata": {},
   "source": [
    "#### 13. `mat` матрицасы негізінде төменде көрсетілген матрицаны шығаратын код жазыңыз (кеңес - кесінділерді қолданыңыз).\n",
    "\n",
    "array( <br>\n",
    "[[12, 13, 14, 15], <br>\n",
    "[17, 18, 19, 20], <br>\n",
    "[22, 23, 24, 25]])"
   ]
  },
  {
   "cell_type": "code",
   "execution_count": null,
   "metadata": {
    "collapsed": true,
    "jupyter": {
     "outputs_hidden": true
    }
   },
   "outputs": [],
   "source": [
    "# Осы ұяшыққа шешіміңізді жазыңыз"
   ]
  },
  {
   "cell_type": "markdown",
   "metadata": {},
   "source": [
    "#### 14. `mat` матрицасы негізінде 20 санын шығаратын код жазыңыз.\n",
    "\n",
    "20"
   ]
  },
  {
   "cell_type": "code",
   "execution_count": null,
   "metadata": {
    "collapsed": true,
    "jupyter": {
     "outputs_hidden": true
    }
   },
   "outputs": [],
   "source": [
    "# Осы ұяшыққа шешіміңізді жазыңыз"
   ]
  },
  {
   "cell_type": "markdown",
   "metadata": {},
   "source": [
    "#### 15. `mat` матрицасы негізінде төменде көрсетілген матрицаны шығаратын код жазыңыз.\n",
    "\n",
    "array([[ 2], <br>\n",
    "       [ 7], <br>\n",
    "       [12]])"
   ]
  },
  {
   "cell_type": "code",
   "execution_count": null,
   "metadata": {},
   "outputs": [],
   "source": [
    "# Осы ұяшыққа шешіміңізді жазыңыз"
   ]
  },
  {
   "cell_type": "markdown",
   "metadata": {},
   "source": [
    "#### 16. `mat` матрицасы негізінде төменде көрсетілген матрицаны шығаратын код жазыңыз.\n",
    "\n",
    "array([21, 22, 23, 24, 25])"
   ]
  },
  {
   "cell_type": "code",
   "execution_count": null,
   "metadata": {
    "collapsed": true,
    "jupyter": {
     "outputs_hidden": true
    }
   },
   "outputs": [],
   "source": [
    "# Осы ұяшыққа шешіміңізді жазыңыз"
   ]
  },
  {
   "cell_type": "markdown",
   "metadata": {},
   "source": [
    "#### 17. `mat` матрицасы негізінде төменде көрсетілген матрицаны шығаратын код жазыңыз.\n",
    "\n",
    "array([[16, 17, 18, 19, 20], <br>\n",
    "       [21, 22, 23, 24, 25]])"
   ]
  },
  {
   "cell_type": "code",
   "execution_count": null,
   "metadata": {
    "collapsed": true,
    "jupyter": {
     "outputs_hidden": true
    }
   },
   "outputs": [],
   "source": [
    "# Осы ұяшыққа шешіміңізді жазыңыз"
   ]
  },
  {
   "cell_type": "markdown",
   "metadata": {},
   "source": [
    "## NumPy операциялары"
   ]
  },
  {
   "cell_type": "markdown",
   "metadata": {},
   "source": [
    "#### 18. mat матрицасындағы барлық сандардың қосындысын табыңыз"
   ]
  },
  {
   "cell_type": "code",
   "execution_count": null,
   "metadata": {
    "collapsed": true,
    "jupyter": {
     "outputs_hidden": true
    }
   },
   "outputs": [],
   "source": [
    "# Осы ұяшыққа шешіміңізді жазыңыз"
   ]
  },
  {
   "cell_type": "markdown",
   "metadata": {},
   "source": [
    "#### 19. mat матрицасындағы мәндердің стандартты ауытқуын (standard deviation) табыңыз"
   ]
  },
  {
   "cell_type": "code",
   "execution_count": null,
   "metadata": {
    "collapsed": true,
    "jupyter": {
     "outputs_hidden": true
    }
   },
   "outputs": [],
   "source": [
    "# Осы ұяшыққа шешіміңізді жазыңыз"
   ]
  },
  {
   "cell_type": "markdown",
   "metadata": {},
   "source": [
    "#### 20. mat матрицасындағы әрбір бағанның қосындысын табыңыз"
   ]
  },
  {
   "cell_type": "code",
   "execution_count": null,
   "metadata": {
    "collapsed": true,
    "jupyter": {
     "outputs_hidden": true
    }
   },
   "outputs": [],
   "source": [
    "# Осы ұяшыққа шешіміңізді жазыңыз"
   ]
  }
 ],
 "metadata": {
  "kernelspec": {
   "display_name": "Python [conda env:base] *",
   "language": "python",
   "name": "conda-base-py"
  },
  "language_info": {
   "codemirror_mode": {
    "name": "ipython",
    "version": 3
   },
   "file_extension": ".py",
   "mimetype": "text/x-python",
   "name": "python",
   "nbconvert_exporter": "python",
   "pygments_lexer": "ipython3",
   "version": "3.13.5"
  }
 },
 "nbformat": 4,
 "nbformat_minor": 4
}
