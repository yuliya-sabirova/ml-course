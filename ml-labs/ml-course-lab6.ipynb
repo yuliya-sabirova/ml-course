{
 "cells": [
  {
   "cell_type": "markdown",
   "id": "lab6-intro-guided",
   "metadata": {},
   "source": [
    "# Лабораторная работа 6: Практическое применение Линейной Регрессии (с подсказками)\n",
    "\n",
    "**Цель:** Закрепить навыки построения и оценки моделей линейной регрессии на различных наборах данных, следуя полному циклу ML-проекта.\n",
    "\n",
    "**Задание:**\n",
    "Вам предстоит выбрать **один из трех** предложенных вариантов и выполнить для него полный цикл анализа и моделирования. Каждый вариант — это мини-проект с пошаговыми инструкциями.\n",
    "\n",
    "**Пожалуйста, выполняйте каждую ячейку последовательно, заполняйте пропуски в коде (`# -- ВАШ КОД ЗДЕСЬ --`) и отвечайте на вопросы в ячейках Markdown.**\n",
    "\n",
    "**Формула определения своего варианта:** ID карта студента % 3 +1"
   ]
  },
  {
   "cell_type": "markdown",
   "id": "lab6-var1-md",
   "metadata": {},
   "source": [
    "--- \n",
    "### Вариант 1: Предсказание цен на жилье в Калифорнии\n",
    "\n",
    "**Контекст:** Вы работаете аналитиком данных в агентстве недвижимости. Ваша задача — построить модель, которая предсказывает медианную стоимость дома в жилом блоке Калифорнии на основе нескольких признаков.\n",
    "\n",
    "**Данные:** Встроенный в `scikit-learn` набор данных `fetch_california_housing`.\n",
    "*   **Целевая переменная (что предсказываем):** `MedHouseVal` (медианная стоимость дома в сотнях тысяч $).\n",
    "*   **Признаки (на основе чего предскасказываем):** `MedInc` (медианный доход), `HouseAge` (средний возраст домов), `AveRooms` (среднее число комнат) и т.д."
   ]
  },
  {
   "cell_type": "markdown",
   "id": "lab6-v1-step1-md",
   "metadata": {},
   "source": [
    "#### Шаг 1: Загрузка и первичный осмотр данных"
   ]
  },
  {
   "cell_type": "code",
   "execution_count": null,
   "id": "lab6-var1-code1",
   "metadata": {},
   "outputs": [],
   "source": [
    "from sklearn.datasets import fetch_california_housing\n",
    "import pandas as pd\n",
    "import seaborn as sns\n",
    "import numpy as np\n",
    "import matplotlib.pyplot as plt\n",
    "\n",
    "# --- ВАШ КОД ЗДЕСЬ ---\n",
    "# Загрузите данные с помощью fetch_california_housing()\n",
    "# california = ...\n",
    "\n",
    "# Создайте DataFrame. Данные находятся в california.data, названия колонок - в california.feature_names\n",
    "# df = pd.DataFrame(...)\n",
    "\n",
    "# Добавьте в DataFrame целевую переменную 'MedHouseVal' из california.target\n",
    "# df['MedHouseVal'] = ...\n",
    "\n",
    "# Выведите первые 5 строк и информацию о данных (.info())\n",
    "# print(df.head())\n",
    "# print(df.info())"
   ]
  },
  {
   "cell_type": "markdown",
   "id": "lab6-v1-step2-md",
   "metadata": {},
   "source": [
    "#### Шаг 2: Исследовательский анализ данных (EDA)\n",
    "\n",
    "Построим `scatterplot` для самого важного признака — медианного дохода (`MedInc`) — и целевой переменной."
   ]
  },
  {
   "cell_type": "code",
   "execution_count": null,
   "id": "lab6-v1-code2",
   "metadata": {},
   "outputs": [],
   "source": [
    "# --- ВАШ КОД ЗДЕСЬ ---\n",
    "# plt.figure(...)\n",
    "# sns.scatterplot(data=df, x='...', y='...')\n",
    "# plt.title('...')\n",
    "# plt.show()"
   ]
  },
  {
   "cell_type": "markdown",
   "id": "lab6-v1-q1",
   "metadata": {},
   "source": [
    "**Вопрос:** Какую зависимость вы видите на графике? Является ли она линейной? \n",
    "\n",
    "**Ваш ответ:** ..."
   ]
  },
  {
   "cell_type": "markdown",
   "id": "lab6-v1-step3-md",
   "metadata": {},
   "source": [
    "#### Шаг 3-4: Подготовка данных и разделение выборки"
   ]
  },
  {
   "cell_type": "code",
   "execution_count": null,
   "id": "lab6-v1-code4",
   "metadata": {},
   "outputs": [],
   "source": [
    "from sklearn.model_selection import train_test_split\n",
    "\n",
    "# --- ВАШ КОД ЗДЕСЬ ---\n",
    "# Матрица признаков X и вектор целевой переменной y\n",
    "# X = df.drop(...)\n",
    "# y = df[...]\n",
    "\n",
    "# Разделение данных: 70% на обучение, 30% на тест, random_state=42\n",
    "# X_train, X_test, y_train, y_test = train_test_split(...)"
   ]
  },
  {
   "cell_type": "markdown",
   "id": "lab6-v1-step5-md",
   "metadata": {},
   "source": [
    "#### Шаг 5-8: Обучение, оценка и анализ модели"
   ]
  },
  {
   "cell_type": "code",
   "execution_count": null,
   "id": "lab6-v1-code5",
   "metadata": {},
   "outputs": [],
   "source": [
    "from sklearn.linear_model import LinearRegression\n",
    "from sklearn.metrics import mean_absolute_error, mean_squared_error, r2_score\n",
    "\n",
    "# --- ВАШ КОД ЗДЕСЬ ---\n",
    "\n",
    "# 1. Создайте и обучите модель LinearRegression\n",
    "# model = ...\n",
    "# model.fit(...)\n",
    "\n",
    "# 2. Сделайте предсказания на тестовой выборке\n",
    "# y_pred = ...\n",
    "\n",
    "# 3. Рассчитайте метрики MAE, RMSE, R^2 и выведите их на экран\n",
    "# print(f\"MAE: {...}\")\n",
    "# ...\n",
    "\n",
    "# 4. Постройте график остатков (y_test - y_pred) относительно предсказанных значений (y_pred)\n",
    "# residuals = ...\n",
    "# sns.scatterplot(...)\n",
    "# plt.axhline(y=0, color='r', linestyle='--')\n",
    "# plt.show()"
   ]
  },
  {
   "cell_type": "markdown",
   "id": "lab6-v1-q4",
   "metadata": {},
   "source": [
    "**Итоговый вопрос:** Насколько хорошо, по вашему мнению, модель справилась с задачей? О чем говорит значение R²? Есть ли какие-то аномалии на графике остатков?\n",
    "\n",
    "**Ваш ответ:** ..."
   ]
  },
  {
   "cell_type": "markdown",
   "id": "lab6-var2-md",
   "metadata": {},
   "source": [
    "--- \n",
    "### Вариант 2: Предсказание годовых трат клиентов интернет-магазина\n",
    "\n",
    "**Контекст:** Вы — аналитик в компании, занимающейся электронной коммерцией. Вам нужно понять, на чем стоит сфокусировать усилия: на улучшении мобильного приложения или веб-сайта, чтобы увеличить годовые траты клиентов.\n",
    "\n",
    "**Данные:** `Ecommerce Customers.csv`.\n",
    "*   **Целевая переменная:** `Yearly Amount Spent`.\n",
    "*   **Признаки:** `Avg. Session Length`, `Time on App`, `Time on Website`, `Length of Membership`.\n",
    "*   **Примечание:** Такие столбцы, как `Email` и `Address`, являются уникальными идентификаторами для каждого клиента и не несут обобщающей информации для модели, поэтому мы их не используем.\n",
    "\n",
    "*Загрузите данные по прямой ссылке: `https://raw.githubusercontent.com/yuliya-sabirova/ml-course/main/data/Ecommerce_Customers.csv`*"
   ]
  },
  {
   "cell_type": "markdown",
   "id": "lab6-v2-step1-md",
   "metadata": {},
   "source": [
    "#### Шаг 1: Загрузка и первичный осмотр данных"
   ]
  },
  {
   "cell_type": "code",
   "execution_count": null,
   "id": "lab6-v2-code1",
   "metadata": {},
   "outputs": [],
   "source": [
    "import pandas as pd\n",
    "import seaborn as sns\n",
    "import numpy as np\n",
    "import matplotlib.pyplot as plt\n",
    "\n",
    "# --- ВАШ КОД ЗДЕСЬ ---\n",
    "# Загрузите данные по ссылке выше в DataFrame 'df'\n",
    "# url = '...'\n",
    "# df = pd.read_csv(url)\n",
    "\n",
    "# Выведите первые 5 строк и информацию о данных (.info())\n",
    "# print(df.head())\n",
    "# print(df.info())"
   ]
  },
  {
   "cell_type": "markdown",
   "id": "lab6-v2-step2-md",
   "metadata": {},
   "source": [
    "#### Шаг 2: Исследовательский анализ данных (EDA)\n",
    "\n",
    "Используем `pairplot` для визуализации взаимосвязей между всеми переменными в датасете."
   ]
  },
  {
   "cell_type": "code",
   "execution_count": null,
   "id": "lab6-v2-code2",
   "metadata": {},
   "outputs": [],
   "source": [
    "# --- ВАШ КОД ЗДЕСЬ ---\n",
    "# sns.pairplot(...)"
   ]
  },
  {
   "cell_type": "markdown",
   "id": "lab6-v2-q1",
   "metadata": {},
   "source": [
    "**Вопрос:** Какой признак, судя по `pairplot`, наиболее сильно коррелирует с `Yearly Amount Spent`?\n",
    "\n",
    "**Ваш ответ:** ..."
   ]
  },
  {
   "cell_type": "markdown",
   "id": "lab6-v2-step3-md",
   "metadata": {},
   "source": [
    "#### Шаг 3-8: Подготовка, обучение и оценка модели\n",
    "\n",
    "Следуйте шагам, как в Варианте 1."
   ]
  },
  {
   "cell_type": "code",
   "execution_count": null,
   "id": "lab6-v2-code3",
   "metadata": {},
   "outputs": [],
   "source": [
    "from sklearn.model_selection import train_test_split\n",
    "from sklearn.linear_model import LinearRegression\n",
    "from sklearn.metrics import mean_absolute_error, mean_squared_error, r2_score\n",
    "\n",
    "# --- ВАШ КОД ЗДЕСЬ ---\n",
    "\n",
    "# 1. Создайте переменные X (признаки) и y (целевая переменная)\n",
    "# Подсказка: признаки - это 'Avg. Session Length', 'Time on App', 'Time on Website', 'Length of Membership'\n",
    "# X = ...\n",
    "# y = ...\n",
    "\n",
    "# 2. Разделите данные на обучающую и тестовую выборки (test_size=0.3, random_state=42)\n",
    "# X_train, X_test, y_train, y_test = train_test_split(...)\n",
    "\n",
    "# 3. Импортируйте, создайте и обучите модель LinearRegression\n",
    "# model = ...\n",
    "# model.fit(...)\n",
    "\n",
    "# 4. Выведите коэффициенты модели в виде DataFrame для удобства анализа\n",
    "# coeffs = pd.DataFrame(...)\n",
    "# print(coeffs)\n",
    "\n",
    "# 5. Сделайте предсказания и оцените модель (MAE, RMSE, R^2)\n",
    "# ...\n",
    "\n",
    "# 6. Постройте график остатков\n",
    "# ..."
   ]
  },
  {
   "cell_type": "markdown",
   "id": "lab6-v2-q2",
   "metadata": {},
   "source": [
    "**Итоговый вопрос:** Сравните коэффициенты для `Time on App` и `Time on Website`. Какой из этих каналов, по мнению модели, важнее для увеличения годовых трат? Какую рекомендацию вы бы дали бизнесу: вкладывать деньги в развитие приложения или сайта?\n",
    "\n",
    "**Ваш ответ:** ..."
   ]
  },
  {
   "cell_type": "markdown",
   "id": "lab6-var3-md",
   "metadata": {},
   "source": [
    "--- \n",
    "### Вариант 3: Предсказание медицинских расходов\n",
    "\n",
    "**Контекст:** Вы работаете в страховой компании. Вам нужно построить модель, которая предсказывает медицинские расходы клиентов, и понять, какие факторы (возраст, курение и т.д.) влияют на них сильнее всего.\n",
    "\n",
    "**Данные:** `insurance.csv`.\n",
    "*   **Целевая переменная:** `charges`.\n",
    "*   **Признаки:** `age`, `sex`, `bmi`, `children`, `smoker`, `region`.\n",
    "\n",
    "*Загрузите данные по прямой ссылке: `https://raw.githubusercontent.com/yuliya-sabirova/ml-course/main/data/insurance.csv`*"
   ]
  },
  {
   "cell_type": "markdown",
   "id": "lab6-v3-step1-md",
   "metadata": {},
   "source": [
    "#### Шаг 1: Загрузка и преобразование данных\n",
    "\n",
    "В этом наборе данных есть категориальные признаки (`sex`, `smoker`, `region`). Линейная регрессия не умеет с ними работать напрямую, их нужно преобразовать в числа. Мы сделаем это с помощью **One-Hot Encoding**."
   ]
  },
  {
   "cell_type": "code",
   "execution_count": null,
   "id": "lab6-v3-code1",
   "metadata": {},
   "outputs": [],
   "source": [
    "import pandas as pd\n",
    "import seaborn as sns\n",
    "import numpy as np\n",
    "import matplotlib.pyplot as plt\n",
    "\n",
    "# --- ВАШ КОД ЗДЕСЬ ---\n",
    "# Загрузите данные по ссылке в DataFrame 'df'\n",
    "# url_ins = '...'\n",
    "# df = pd.read_csv(url_ins)\n",
    "\n",
    "# --- ВАШ КОД ЗДЕСЬ ---\n",
    "# Используйте pd.get_dummies() для преобразования категориальных признаков.\n",
    "# Установите drop_first=True, чтобы избежать мультиколлинеарности.\n",
    "# df_processed = pd.get_dummies(df, drop_first=True)\n",
    "\n",
    "# Выведите первые 5 строк и информацию о данных, чтобы убедиться в успехе преобразования\n",
    "# print(df_processed.head())\n",
    "# print(df_processed.info())"
   ]
  },
  {
   "cell_type": "markdown",
   "id": "lab6-v3-step2-md",
   "metadata": {},
   "source": [
    "#### Шаг 2-8: Подготовка, обучение и оценка модели\n",
    "\n",
    "Теперь, когда все данные числовые, повторите все те же шаги, что и в Варианте 1. Работайте с DataFrame `df_processed`."
   ]
  },
  {
   "cell_type": "code",
   "execution_count": null,
   "id": "lab6-v3-code2",
   "metadata": {},
   "outputs": [],
   "source": [
    "from sklearn.model_selection import train_test_split\n",
    "from sklearn.linear_model import LinearRegression\n",
    "from sklearn.metrics import mean_absolute_error, mean_squared_error, r2_score\n",
    "\n",
    "# --- ВАШ КОД ЗДЕСЬ ---\n",
    "\n",
    "# 1. Создайте переменные X и y из обработанного DataFrame 'df_processed'\n",
    "# X = df_processed.drop('charges', axis=1)\n",
    "# y = ...\n",
    "\n",
    "# 2. Разделите данные на обучающую и тестовую выборки (test_size=0.3, random_state=42)\n",
    "# ...\n",
    "\n",
    "# 3. Обучите модель LinearRegression\n",
    "# ...\n",
    "\n",
    "# 4. Выведите коэффициенты модели. Обратите внимание на вес признака smoker_yes.\n",
    "# coeffs = pd.DataFrame(...)\n",
    "# print(coeffs)\n",
    "\n",
    "# 5. Оцените модель (MAE, RMSE, R^2)\n",
    "# ...\n",
    "\n",
    "# 6. Постройте график остатков\n",
    "# ..."
   ]
  },
  {
   "cell_type": "markdown",
   "id": "lab6-v3-q1",
   "metadata": {},
   "source": [
    "**Итоговый вопрос:** Какой признак, судя по коэффициентам модели, вносит наибольший вклад в увеличение медицинских расходов? Было ли это ожидаемо?\n",
    "\n",
    "**Ваш ответ:** ..."
   ]
  }
 ],
 "metadata": {
  "kernelspec": {
   "display_name": "Python [conda env:base] *",
   "language": "python",
   "name": "conda-base-py"
  },
  "language_info": {
   "codemirror_mode": {
    "name": "ipython",
    "version": 3
   },
   "file_extension": ".py",
   "mimetype": "text/x-python",
   "name": "python",
   "nbconvert_exporter": "python",
   "pygments_lexer": "ipython3",
   "version": "3.13.5"
  }
 },
 "nbformat": 4,
 "nbformat_minor": 5
}
