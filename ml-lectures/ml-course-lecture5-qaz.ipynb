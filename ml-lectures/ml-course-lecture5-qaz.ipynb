{
 "cells": [
  {
   "cell_type": "markdown",
   "metadata": {},
   "source": [
    "# 5-дәріс. Деректерді визуализациялау. Matplotlib және Seaborn кітапханаларын қолдану\n",
    "\n",
    "**Дәрістің мақсаты:** `Matplotlib` және `Seaborn` кітапханаларын қолдана отырып, деректерді талдауға арналған негізгі графиктерді құруды үйрену. Бұл дағдылар машиналық оқытудың кез келген жобасының негізін құрайтын барлау деректер талдауын (EDA - Exploratory Data Analysis) жүргізу үшін маңызды болып табылады."
   ]
  },
  {
   "cell_type": "markdown",
   "metadata": {},
   "source": [
    "## Кіріспе: Визуализация не үшін қажет?\n",
    "\n",
    "Деректерді талдау сирек жағдайда графиксіз өтеді. Визуализация келесіге көмектеседі:\n",
    "\n",
    "1.  **Паттерндер мен тәуелділіктерді жылдам табу:** Адам көзі суреттердегі заңдылықтарды оңай табады, ал мыңдаған жолдары бар кестеде бұл заңдылықтар байқалмауы мүмкін.\n",
    "2.  **Аномалиялар мен шығарындыларды анықтау:** Графиктердегі ерекше мәндер бірден көзге түседі.\n",
    "3.  **Деректердің таралуын түсіну:** Таралу қалыпты ма? Бірнеше шың (мода) бар ма? Шашырау қаншалықты үлкен?\n",
    "4.  **Нәтижелерді тиімді ұсыну:** График кестеге немесе мәтінге қарағанда сенімдірек және түсініктірек болады.\n",
    "\n",
    "Python экожүйесінде визуализация үшін көптеген құралдар бар, бірақ олардың екеуі де-факто стандарт болып табылады: **Matplotlib** және **Seaborn**."
   ]
  },
  {
   "cell_type": "markdown",
   "metadata": {},
   "source": [
    "### Matplotlib vs Seaborn\n",
    "\n",
    "*   **`Matplotlib`** — бұл Python-дағы визуализацияның \"атасы\". Бұл графиктің әрбір элементін толық бақылауға мүмкіндік беретін іргелі, төмен деңгейлі кітапхана. Көптеген басқа кітапханалар, соның ішінде Seaborn да осының негізінде құрылған.\n",
    "\n",
    "*   **`Seaborn`** — бұл Matplotlib негізінде жасалған жоғары деңгейлі кітапхана. Ол статистикалық визуализация үшін арнайы әзірленген және `Pandas`-пен тамаша интеграцияланады. Seaborn күрделі және әдемі графиктерді бірнеше жол кодпен жасауға мүмкіндік береді, бұл күнделікті баптаулардан құтқарады. \n",
    "\n",
    "**Біздің тәсіліміз:** Біз графиктерді құрудың негізгі принциптерін түсіну үшін Matplotlib-ке қысқаша шолудан бастаймыз. Содан кейін деректерді жылдам және тиімді талдаудың негізгі құралы ретінде Seaborn-ға көшеміз. Есте сақтау маңызды: **Seaborn графигінің кез келген баптауын Matplotlib командалары арқылы орындауға болады.**"
   ]
  },
  {
   "cell_type": "markdown",
   "metadata": {},
   "source": [
    "## 1-бөлім: Matplotlib негіздері — Іргетас\n",
    "\n",
    "Seaborn қалай жұмыс істейтінін түсіну үшін, кез келген графиктің негізінде `Figure` (кенеп) нысаны және бір немесе бірнеше `Axes` (осьтер/салу аймағы) нысандары жатқанын білу керек. Matplotlib олармен тікелей жұмыс істеуге мүмкіндік береді."
   ]
  },
  {
   "cell_type": "code",
   "execution_count": null,
   "metadata": {},
   "outputs": [],
   "source": [
    "import matplotlib.pyplot as plt\n",
    "import numpy as np\n",
    "import pandas as pd\n",
    "import seaborn as sns"
   ]
  },
  {
   "cell_type": "code",
   "execution_count": null,
   "metadata": {},
   "outputs": [],
   "source": [
    "# Jupyter Notebook-та графиктердің дұрыс көрсетілуіне арналған команда\n",
    "%matplotlib inline"
   ]
  },
  {
   "cell_type": "markdown",
   "metadata": {},
   "source": [
    "### 1.1 Негізгі график және оның негізгі атрибуттары\n",
    "\n",
    "Қарапайым график құрып, оның сыртқы түрін Matplotlib-тің негізгі атрибуттары арқылы баптайық."
   ]
  },
  {
   "cell_type": "code",
   "execution_count": null,
   "metadata": {},
   "outputs": [],
   "source": [
    "x = np.arange(0,10)\n",
    "y = 2*x"
   ]
  },
  {
   "cell_type": "markdown",
   "metadata": {},
   "source": [
    "Осьтердің жазулары мен тақырыбы бар график құрайық."
   ]
  },
  {
   "cell_type": "code",
   "execution_count": null,
   "metadata": {},
   "outputs": [],
   "source": [
    "plt.plot(x, y)\n",
    "plt.xlabel('X осінің атауы')\n",
    "plt.ylabel('Y осінің атауы')\n",
    "plt.title('Графиктің атауы');"
   ]
  },
  {
   "cell_type": "markdown",
   "metadata": {},
   "source": [
    "#### `xlim` және `ylim`\n",
    "Бұл атрибуттар X және Y осьтері үшін шектерді (шекараларды) белгілейді. Бұл графиктің белгілі бір бөлігіне назар аудару үшін пайдалы."
   ]
  },
  {
   "cell_type": "code",
   "execution_count": null,
   "metadata": {},
   "outputs": [],
   "source": [
    "plt.plot(x, y)\n",
    "plt.xlabel('X осі')\n",
    "plt.ylabel('Y осі')\n",
    "plt.title('Өзгертілген осьтері бар график')\n",
    "\n",
    "# Шектерді орнату: (төменгі_шек, жоғарғы_шек)\n",
    "plt.xlim(0, 6)\n",
    "plt.ylim(0, 12);"
   ]
  },
  {
   "cell_type": "markdown",
   "metadata": {},
   "source": [
    "#### `label` және `legend`\n",
    "Бір графикте бірнеше сызық болғанда, легенда қажет. `label` атрибуты сызықтың атауын белгілейді, ал `plt.legend()` функциясы легенданы көрсетеді."
   ]
  },
  {
   "cell_type": "code",
   "execution_count": null,
   "metadata": {},
   "outputs": [],
   "source": [
    "plt.plot(x, x**2, label=\"x^2\")\n",
    "plt.plot(x, x**3, label=\"x^3\")\n",
    "plt.legend();"
   ]
  },
  {
   "cell_type": "markdown",
   "metadata": {},
   "source": [
    "Легенданы әртүрлі жерлерде орналастыруға болады. `loc` стандартты позициялар үшін 0-ден 10-ға дейінгі мәндерді қабылдайды, немесе координаттарды қолмен көрсетуге болады. Легенданы графиктен тыс жерге шығару әсіресе пайдалы."
   ]
  },
  {
   "cell_type": "code",
   "execution_count": null,
   "metadata": {},
   "outputs": [],
   "source": [
    "plt.plot(x, x**2, label=\"x^2\")\n",
    "plt.plot(x, x**3, label=\"x^3\")\n",
    "\n",
    "# loc='best' (немесе 0) - Matplotlib ең жақсы орынды өзі таңдайды\n",
    "# bbox_to_anchor легенданы тысқары шығаруға мүмкіндік береді. (1.05, 1) - графиктен оңға және жоғары.\n",
    "plt.legend(loc='best', bbox_to_anchor=(1.25, 1));"
   ]
  },
  {
   "cell_type": "markdown",
   "metadata": {},
   "source": [
    "#### `figsize` және `linewidth`\n",
    "Бұл атрибуттар графиктің физикалық өлшемдерін және сызықтардың қалыңдығын басқарады. Олар `Figure` нысанын құру кезінде көрсетіледі. Бұл **графиктерді құрудың объектіге-бағытталған тәсілі (ООП)**: біз Figure және Axes нысандарын нақты құрып, олардың әдістерімен жұмыс істейміз. **Дәл осы тәсіл Seaborn негізінде жатыр.** Бұған дейін біз **функционалды тәсілді (MATLAB-тағы сияқты)** қолдандық: біз `plt`-дан функцияларды шақырамыз, олар ағымдағы белсенді графикке қолданылады."
   ]
  },
  {
   "cell_type": "code",
   "execution_count": null,
   "metadata": {},
   "outputs": [],
   "source": [
    "# Белгілі бір өлшемдегі кенеп құру\n",
    "fig = plt.figure(figsize=(8, 5)) # (ені, биіктігі) дюйммен\n",
    "ax = fig.add_axes([0, 0, 1, 1])\n",
    "\n",
    "# Сызықтардың қалыңдығын linewidth немесе lw арқылы белгілеу\n",
    "ax.plot(x, x, label='x', linewidth=1)\n",
    "ax.plot(x, x*2, label='2x', lw=3)\n",
    "ax.plot(x, x*3, label='3x', lw=5)\n",
    "ax.legend();"
   ]
  },
  {
   "cell_type": "markdown",
   "metadata": {},
   "source": [
    "## 2-бөлім: Seaborn — Деректерді талдауға арналған визуализация\n",
    "\n",
    "Seaborn DataFrame-ді және көрсетілуі керек бағандардың атауларын кіріс ретінде қабылдап, жұмысты жеңілдетеді."
   ]
  },
  {
   "cell_type": "code",
   "execution_count": null,
   "metadata": {},
   "outputs": [],
   "source": [
    "# Мысалдар үшін деректерді жүктеу\n",
    "df = pd.read_csv('dm_office_sales.csv')\n",
    "perf_df = pd.read_csv('StudentsPerformance.csv')"
   ]
  },
  {
   "cell_type": "markdown",
   "metadata": {},
   "source": [
    "### 2.1 Өзара байланыстарды зерттеу: `scatterplot` (шашырау диаграммасы)\n",
    "\n",
    "**Теория:** Шашырау диаграммасы — екі **үздіксіз (сандық)** айнымалы арасындағы байланысты визуализациялаудың негізгі құралы. Ол тәуелділіктің түрін (сызықтық, сызықтық емес), оның бағытын (оң, теріс) және шығарындылардың болуын көруге мүмкіндік береді."
   ]
  },
  {
   "cell_type": "code",
   "execution_count": null,
   "metadata": {},
   "outputs": [],
   "source": [
    "sns.scatterplot(x='salary', y='sales', data=df);"
   ]
  },
  {
   "cell_type": "markdown",
   "metadata": {},
   "source": [
    "**Атрибуттар:** `scatterplot` әртүрлі атрибуттардың көмегімен графикке қосымша өлшемдер қосуға мүмкіндік береді.\n",
    "\n",
    "#### `hue`\n",
    "`hue` (реңк) атрибуты нүктелерді **категориялық** айнымалының мәніне байланысты бояуға мүмкіндік береді. Бұл графикке үшінші өлшем қосады."
   ]
  },
  {
   "cell_type": "code",
   "execution_count": null,
   "metadata": {},
   "outputs": [],
   "source": [
    "# Нүктелерді бөлімге (division) байланысты бояйық\n",
    "sns.scatterplot(x='salary', y='sales', data=df, hue='division');"
   ]
  },
  {
   "cell_type": "markdown",
   "metadata": {},
   "source": [
    "#### `size` және `s`\n",
    "`size` нүктелердің өлшемін **сандық** айнымалыға байланысты өзгертеді. `s` барлық нүктелер үшін **бірдей** өлшемді белгілейді."
   ]
  },
  {
   "cell_type": "code",
   "execution_count": null,
   "metadata": {},
   "outputs": [],
   "source": [
    "# Нүктелердің өлшемі жұмыс тәжірибесіне (work experience) байланысты\n",
    "sns.scatterplot(x='salary', y='sales', data=df, size='work experience');"
   ]
  },
  {
   "cell_type": "code",
   "execution_count": null,
   "metadata": {},
   "outputs": [],
   "source": [
    "# Барлық нүктелерді ірірек етейік\n",
    "sns.scatterplot(x='salary', y='sales', data=df, s=100);"
   ]
  },
  {
   "cell_type": "markdown",
   "metadata": {},
   "source": [
    "#### `alpha`\n",
    "Нүктелердің мөлдірлігін (0-ден 1-ге дейін) белгілейді. Нүктелер көп болып, бір-бірінің үстіне шыққанда өте пайдалы."
   ]
  },
  {
   "cell_type": "code",
   "execution_count": null,
   "metadata": {},
   "outputs": [],
   "source": [
    "# Жиынтықтарды көру үшін нүктелерді жартылай мөлдір етейік\n",
    "sns.scatterplot(x='salary', y='sales', data=df, s=100, alpha=0.3);"
   ]
  },
  {
   "cell_type": "markdown",
   "metadata": {},
   "source": [
    "#### `style` және `palette`\n",
    "`style` маркер стилін категориялық айнымалыға байланысты өзгертеді. `palette` түс палитрасын таңдауға мүмкіндік береді.\n",
    "\n",
    "Палитралардың толық тізімін [Matplotlib құжаттамасынан](https://matplotlib.org/stable/tutorials/colors/colormaps.html) табуға болады."
   ]
  },
  {
   "cell_type": "code",
   "execution_count": null,
   "metadata": {},
   "outputs": [],
   "source": [
    "# Атрибуттарды біріктіру\n",
    "sns.scatterplot(x='salary', y='sales', data=df, hue='level of education', style='level of education', palette='viridis');"
   ]
  },
  {
   "cell_type": "markdown",
   "metadata": {},
   "source": [
    "### 2.2 Таралуларды зерттеу\n",
    "\n",
    "Бір **сандық** айнымалының сипатын түсіну үшін гистограммалар, тығыздық графиктері және \"кілем\" диаграммалары қолданылады."
   ]
  },
  {
   "cell_type": "markdown",
   "metadata": {},
   "source": [
    "#### `rugplot`\n",
    "**Теория:** `rugplot` (кілем диаграммасы) — таралуды визуализациялаудың ең қарапайым әдісі. Ол әрбір дерек нүктесі үшін оське кішкентай тік сызықтар салады. Бұл жеке бақылаулардың қайда орналасқанын көруге көмектеседі, бірақ деректер көп болғанда сызықтар бірігіп кетеді."
   ]
  },
  {
   "cell_type": "code",
   "execution_count": null,
   "metadata": {},
   "outputs": [],
   "source": [
    "sns.rugplot(data=df, x='salary');"
   ]
  },
  {
   "cell_type": "markdown",
   "metadata": {},
   "source": [
    "#### `histplot` және `kdeplot`\n",
    "\n",
    "**Теория:** \n",
    "- **Гистограмма (`histplot`)** деректерді интервалдарға (bins) топтайды және әр интервалға қанша мән түскенін көрсетеді.\n",
    "- **Ядролық тығыздықты бағалау графигі (`kdeplot`)** — бұл гистограмманың тегістелген нұсқасы, ол әрбір мән үшін ықтималдық тығыздығын көрсетеді. Ол таралудың пішінін айқынырақ көруге көмектеседі."
   ]
  },
  {
   "cell_type": "code",
   "execution_count": null,
   "metadata": {},
   "outputs": [],
   "source": [
    "# Жалақы үшін гистограмма құру\n",
    "sns.histplot(data=df, x='salary');"
   ]
  },
  {
   "cell_type": "markdown",
   "metadata": {},
   "source": [
    "**Атрибуттар:**\n",
    "#### `bins` және `kde`\n",
    "`bins` — интервалдардың саны. `kde=True` гистограммаға тығыздықты бағалау графигін қосады."
   ]
  },
  {
   "cell_type": "code",
   "execution_count": null,
   "metadata": {},
   "outputs": [],
   "source": [
    "sns.histplot(data=df, x='salary', bins=20, kde=True);"
   ]
  },
  {
   "cell_type": "markdown",
   "metadata": {},
   "source": [
    "Тек тығыздық графигін (`kdeplot`) құруға болады."
   ]
  },
  {
   "cell_type": "code",
   "execution_count": null,
   "metadata": {},
   "outputs": [],
   "source": [
    "sns.kdeplot(data=df, x='salary');"
   ]
  },
  {
   "cell_type": "markdown",
   "metadata": {},
   "source": [
    "#### `bw_adjust` және `shade`/`fill` `kdeplot` үшін\n",
    "`bw_adjust` (bandwidth adjustment) қисықтың тегістік дәрежесін бақылайды. Мән неғұрлым аз болса, қисық деректерге соғұрлым \"өткір\" сәйкес келеді; неғұрлым көп болса, соғұрлым тегіс болады.\n",
    "`shade=True` (ескірген) немесе `fill=True` (заманауи) қисықтың астындағы аймақты бояйды."
   ]
  },
  {
   "cell_type": "code",
   "execution_count": null,
   "metadata": {},
   "outputs": [],
   "source": [
    "# Азырақ тегістелген график\n",
    "sns.kdeplot(data=df, x='salary', bw_adjust=0.2);"
   ]
  },
  {
   "cell_type": "code",
   "execution_count": null,
   "metadata": {},
   "outputs": [],
   "source": [
    "# Көбірек тегістелген және боялған график\n",
    "sns.kdeplot(data=df, x='salary', bw_adjust=2, fill=True);"
   ]
  },
  {
   "cell_type": "markdown",
   "metadata": {},
   "source": [
    "### 2.3 Категориялық деректер\n",
    "\n",
    "**Теория:** Категориялық визуализация әртүрлі топтар (категориялар) арасындағы сандық көрсеткіштерді салыстыру үшін қолданылады. Мысалы, бөлімдер бойынша орташа жалақы қалай ерекшеленеді немесе әртүрлі этникалық топтардағы студенттердің бағалары қалай таралады. Бұл Seaborn-ның ең мықты жақтарының бірі."
   ]
  },
  {
   "cell_type": "markdown",
   "metadata": {},
   "source": [
    "#### `countplot`\n",
    "**Теория:** Әрбір категория үшін жазбалар санын санайды."
   ]
  },
  {
   "cell_type": "code",
   "execution_count": null,
   "metadata": {},
   "outputs": [],
   "source": [
    "sns.countplot(x='division', data=df);"
   ]
  },
  {
   "cell_type": "markdown",
   "metadata": {},
   "source": [
    "#### `barplot`\n",
    "**Теория:** Әрбір категория үшін сандық айнымалының орташа мәнін көрсетеді. Егер `x` және `hue` үшін әртүрлі бағандарды көрсетсе, **топталған бағанды диаграмма** пайда болады."
   ]
  },
  {
   "cell_type": "code",
   "execution_count": null,
   "metadata": {},
   "outputs": [],
   "source": [
    "# Білім деңгейі бойынша орташа жалақыны салыстыру\n",
    "plt.figure(figsize=(10,6))\n",
    "sns.barplot(x='level of education', y='salary', data=df);"
   ]
  },
  {
   "cell_type": "code",
   "execution_count": null,
   "metadata": {},
   "outputs": [],
   "source": [
    "# Білім деңгейі бойынша орташа жалақыны бөлімдерге бөліп салыстыру\n",
    "plt.figure(figsize=(10,6))\n",
    "sns.barplot(x='level of education', y='salary', data=df, hue='division');"
   ]
  },
  {
   "cell_type": "markdown",
   "metadata": {},
   "source": [
    "#### `boxplot` (қорапты диаграмма)\n",
    "\n",
    "**Теория: Перцентильдер мен квартильдер деген не?**\n",
    "- **Перцентиль** — бұл бақылаулардың белгілі бір пайызынан төмен жатқан мән. Мысалы, 25-ші перцентиль — бұл барлық деректердің 25%-ынан төмен жатқан мән.\n",
    "- **Квартильдер** — бұл барлық деректерді төрт тең бөлікке бөлетін перцентильдердің жеке жағдайы:\n",
    "  - **Q1 (бірінші квартиль)** = 25-ші перцентиль.\n",
    "  - **Q2 (екінші квартиль)** = 50-ші перцентиль, бұл **медиана**.\n",
    "  - **Q3 (үшінші квартиль)** = 75-ші перцентиль.\n",
    "- **Квартильаралық ауқым (IQR)** = Q3 - Q1. Бұл деректердің орталық 50%-ы жатқан диапазон.\n",
    "\n",
    "**Boxplot-ты қалай оқу керек:**\n",
    "1.  **Қораптың ортасындағы сызық** — бұл медиана (Q2).\n",
    "2.  **Қораптың шекаралары** — бұл Q1 және Q3. Қораптың биіктігі — IQR.\n",
    "3.  **\"Мұртшалар\"** — әдетте қорап шекарасынан 1.5 * IQR қашықтыққа дейін созылады. Олар деректердің негізгі шашырауын көрсетеді.\n",
    "4.  **Мұртшалардан тыс нүктелер** — бұл шығарындылар, яғни аномальды жоғары немесе төмен мәндер.\n",
    "\n",
    "`boxplot` әртүрлі категориялардағы таралуларды салыстыру және шығарындыларды табу үшін өте қолайлы."
   ]
  },
  {
   "cell_type": "code",
   "execution_count": null,
   "metadata": {},
   "outputs": [],
   "source": [
    "# Ата-ананың білім деңгейіне байланысты математика пәнінен бағалардың таралуын салыстыру\n",
    "plt.figure(figsize=(10, 6))\n",
    "sns.boxplot(x='parental level of education', y='math score', data=perf_df);"
   ]
  },
  {
   "cell_type": "markdown",
   "metadata": {},
   "source": [
    "**Бағыты:** Графикті `x` және `y` осьтері үшін айнымалыларды ауыстырып, көлденең жасауға болады. Категориялық айнымалы әрқашан топтары бар осьтерді, ал сандық айнымалы — мәндері бар осьтерді анықтайды."
   ]
  },
  {
   "cell_type": "code",
   "execution_count": null,
   "metadata": {},
   "outputs": [],
   "source": [
    "# Көлденең boxplot\n",
    "plt.figure(figsize=(8, 5))\n",
    "sns.boxplot(y='parental level of education', x='math score', data=perf_df);"
   ]
  },
  {
   "cell_type": "markdown",
   "metadata": {},
   "source": [
    "#### `violinplot`\n",
    "\n",
    "**Теория:** Скрипкалы диаграмма `boxplot` пен `kdeplot`-ты біріктіреді, тек статистикалық жиынтықтарды ғана емес, сонымен қатар деректердің таралу пішінін де көрсетеді."
   ]
  },
  {
   "cell_type": "code",
   "execution_count": null,
   "metadata": {},
   "outputs": [],
   "source": [
    "plt.figure(figsize=(12, 7))\n",
    "sns.violinplot(x='parental level of education', y='math score', data=perf_df, hue='gender', split=True);"
   ]
  },
  {
   "cell_type": "markdown",
   "metadata": {},
   "source": [
    "### 2.4 Кешенді визуализация: `pairplot`\n",
    "\n",
    "**Теория:** `pairplot` сандық белгілердің әрбір жұбы үшін шашырау диаграммаларын, ал диагональда — олардың таралу гистограммаларын құрады. Бұл бір қарағанда барлық жұптық тәуелділіктер мен таралуларды бағалауға мүмкіндік береді.\n"
   ]
  },
  {
   "cell_type": "code",
   "execution_count": null,
   "metadata": {},
   "outputs": [],
   "source": [
    "# Нүктелерді жынысына (gender) байланысты бояу\n",
    "sns.pairplot(data=perf_df, hue='gender', palette='viridis');"
   ]
  },
  {
   "cell_type": "markdown",
   "metadata": {},
   "source": [
    "#### `diag_kind`\n",
    "Бұл атрибут диагональдағы графиктің түрін өзгертуге мүмкіндік береді. Әдепкі бойынша `'auto'` тұрады, бірақ `'hist'` (гистограмма) немесе `'kde'` (тығыздық графигі) деп нақты көрсетуге болады."
   ]
  },
  {
   "cell_type": "code",
   "execution_count": null,
   "metadata": {},
   "outputs": [],
   "source": [
    "# Диагональда тығыздық графиктері болады\n",
    "sns.pairplot(data=perf_df, hue='gender', diag_kind='kde');"
   ]
  },
  {
   "cell_type": "markdown",
   "metadata": {},
   "source": [
    "## 3-бөлім: Seaborn графиктерiн Matplotlib көмегімен баптау\n",
    "\n",
    "Жоғарыда айтқанымыздай, Seaborn графиктерді Matplotlib-тің \"кенебінде\" құрады. Бұл Seaborn-да график құрғаннан кейін оны баптау үшін `plt` функцияларын қолдана аламыз дегенді білдіреді.\n",
    "\n",
    "**Жұмыс процесі:**\n",
    "1.  Кенептің өлшемін белгілеу үшін Seaborn функциясын шақырар **алдында** `plt.figure(figsize=(...))` қолданамыз.\n",
    "2.  График құру үшін Seaborn функциясын шақырамыз.\n",
    "3.  Қосымша баптаулар үшін Seaborn-ды шақырғаннан **кейін** `plt.title()`, `plt.xlabel()`, `plt.grid()` және т.б. функцияларды қолданамыз.\n",
    "4.  Нәтижені файлға сақтау үшін `plt.savefig()` қолданамыз."
   ]
  },
  {
   "cell_type": "code",
   "execution_count": null,
   "metadata": {},
   "outputs": [],
   "source": [
    "# 1. Фигураның өлшемін белгілеу\n",
    "plt.figure(figsize=(12, 8), dpi=100) # dpi - dots per inch, ажыратымдылық\n",
    "\n",
    "# 2. Seaborn графигін құру\n",
    "sns.scatterplot(x='reading score', y='writing score', data=perf_df, hue='test preparation course')\n",
    "\n",
    "# 3. Matplotlib баптауларын қосу\n",
    "plt.title('Жазу және оқу бағаларының тәуелділігі', fontsize=16)\n",
    "plt.xlabel('Оқу бағасы', fontsize=12)\n",
    "plt.ylabel('Жазу бағасы', fontsize=12)\n",
    "plt.grid(True) # Торды қосу\n",
    "plt.legend(title='Тестке дайындық')\n",
    "\n",
    "# 4. Графикті файлға сақтау (сол ұяшықта!)\n",
    "plt.savefig('reading_vs_writing_scores.png');"
   ]
  },
  {
   "cell_type": "markdown",
   "metadata": {},
   "source": [
    "## Қорытынды\n",
    "\n",
    "Бұл дәрісте біз деректерді талдауға қажетті негізгі график түрлерін қарастырдық:\n",
    "- **Шашырау диаграммалары (`scatterplot`, `pairplot`)** — сандық айнымалылар арасындағы өзара байланыстарды іздеу үшін.\n",
    "- **Гистограммалар мен тығыздық графиктері (`histplot`, `kdeplot`)** — бір айнымалының таралуын зерттеу үшін.\n",
    "- **Категориялық графиктер (`countplot`, `barplot`, `boxplot`, `violinplot`)** — топтар арасындағы көрсеткіштерді салыстыру үшін.\n",
    "\n",
    "Сондай-ақ, біз ақпараттық графиктерді жылдам құру үшін `Seaborn`-ды және оларды кейіннен егжей-тегжейлі баптау үшін `Matplotlib`-ті қолдануды үйрендік. Бұл құралдар — кез келген барлау деректер талдауының негізі және машиналық оқыту модельдері үшін деректерді дайындаудағы маңызды қадам."
   ]
  }
 ],
 "metadata": {
  "kernelspec": {
   "display_name": "Python [conda env:base] *",
   "language": "python",
   "name": "conda-base-py"
  },
  "language_info": {
   "codemirror_mode": {
    "name": "ipython",
    "version": 3
   },
   "file_extension": ".py",
   "mimetype": "text/x-python",
   "name": "python",
   "nbconvert_exporter": "python",
   "pygments_lexer": "ipython3",
   "version": "3.13.5"
  }
 },
 "nbformat": 4,
 "nbformat_minor": 4
}
