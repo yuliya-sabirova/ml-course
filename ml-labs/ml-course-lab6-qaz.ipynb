{
 "cells": [
  {
   "cell_type": "markdown",
   "id": "lab6-intro-guided",
   "metadata": {},
   "source": [
    "# №6 Зертханалық жұмыс: Сызықтық регрессияны практикалық қолдану (нұсқаулармен)\n",
    "\n",
    "**Мақсаты:** ML-жобасының толық цикліне сүйене отырып, әртүрлі деректер жиынында сызықтық регрессия модельдерін құру және бағалау дағдыларын бекіту.\n",
    "\n",
    "**Тапсырма:**\n",
    "Сіз ұсынылған **үш нұсқаның біреуін** таңдап, ол үшін талдау мен модельдеудің толық циклін орындауыңыз керек. Әрбір нұсқа — қадамдық нұсқаулары бар шағын жоба.\n",
    "\n",
    "**Әрбір ұяшықты бірізділікпен орындап, кодтағы бос орындарды (`# -- СІЗДІҢ КОДЫҢЫЗ ОСЫ ЖЕРДЕ --`) толтырып, Markdown ұяшықтарындағы сұрақтарға жауап беріңіз.**\n",
    "\n",
    "**Өз нұсқаңды анықтау формуласы:** ID студенттік карта % 3 + 1"
   ]
  },
  {
   "cell_type": "markdown",
   "id": "lab6-var1-md",
   "metadata": {},
   "source": [
    "--- \n",
    "### 1-нұсқа: Калифорниядағы тұрғын үй бағасын болжау\n",
    "\n",
    "**Контекст:** Сіз жылжымайтын мүлік агенттігінде деректер талдаушысы болып жұмыс істейсіз. Сіздің міндетіңіз — бірнеше белгілер негізінде Калифорниядағы тұрғын үй блогындағы үйдің медиандық құнын болжайтын модель құру.\n",
    "\n",
    "**Деректер:** `scikit-learn` ішіне ендірілген `fetch_california_housing` деректер жиынтығы.\n",
    "*   **Нысаналы айнымалы (не болжаймыз):** `MedHouseVal` (үйдің медиандық құны, жүз мыңдаған $).\n",
    "*   **Белгілер (не негізінде болжаймыз):** `MedInc` (медиандық табыс), `HouseAge` (үйлердің орташа жасы), `AveRooms` (бөлмелердің орташа саны) және т.б."
   ]
  },
  {
   "cell_type": "markdown",
   "id": "lab6-v1-step1-md",
   "metadata": {},
   "source": [
    "#### 1-қадам: Деректерді жүктеу және бастапқы талдау"
   ]
  },
  {
   "cell_type": "code",
   "execution_count": null,
   "id": "lab6-var1-code1",
   "metadata": {},
   "outputs": [],
   "source": [
    "from sklearn.datasets import fetch_california_housing\n",
    "import pandas as pd\n",
    "import seaborn as sns\n",
    "import numpy as np\n",
    "import matplotlib.pyplot as plt\n",
    "\n",
    "# --- СІЗДІҢ КОДЫҢЫЗ ОСЫ ЖЕРДЕ ---\n",
    "# fetch_california_housing() көмегімен деректерді жүктеңіз\n",
    "# california = ...\n",
    "\n",
    "# DataFrame құрыңыз. Деректер california.data ішінде, баған атаулары - california.feature_names ішінде\n",
    "# df = pd.DataFrame(...)\n",
    "\n",
    "# DataFrame-ге california.target ішінен 'MedHouseVal' нысаналы айнымалысын қосыңыз\n",
    "# df['MedHouseVal'] = ...\n",
    "\n",
    "# Алғашқы 5 жолды және деректер туралы ақпаратты шығарыңыз (.info())\n",
    "# print(df.head())\n",
    "# print(df.info())"
   ]
  },
  {
   "cell_type": "markdown",
   "id": "lab6-v1-step2-md",
   "metadata": {},
   "source": [
    "#### 2-қадам: Деректерді зерттеу талдауы (EDA)\n",
    "\n",
    "Ең маңызды белгі — медиандық табыс (`MedInc`) — пен нысаналы айнымалы үшін `scatterplot` құрамыз."
   ]
  },
  {
   "cell_type": "code",
   "execution_count": null,
   "id": "lab6-v1-code2",
   "metadata": {},
   "outputs": [],
   "source": [
    "# --- СІЗДІҢ КОДЫҢЫЗ ОСЫ ЖЕРДЕ ---\n",
    "# plt.figure(...)\n",
    "# sns.scatterplot(data=df, x='...', y='...')\n",
    "# plt.title('...')\n",
    "# plt.show()"
   ]
  },
  {
   "cell_type": "markdown",
   "id": "lab6-v1-q1",
   "metadata": {},
   "source": [
    "**Сұрақ:** Графикте қандай тәуелділікті көріп тұрсыз? Ол сызықтық па? \n",
    "\n",
    "**Сіздің жауабыңыз:** ..."
   ]
  },
  {
   "cell_type": "markdown",
   "id": "lab6-v1-step3-md",
   "metadata": {},
   "source": [
    "#### 3-4 қадамдар: Деректерді дайындау және іріктемені бөлу"
   ]
  },
  {
   "cell_type": "code",
   "execution_count": null,
   "id": "lab6-v1-code4",
   "metadata": {},
   "outputs": [],
   "source": [
    "from sklearn.model_selection import train_test_split\n",
    "\n",
    "# --- СІЗДІҢ КОДЫҢЫЗ ОСЫ ЖЕРДЕ ---\n",
    "# Белгілер матрицасы X және нысаналы айнымалы векторы y\n",
    "# X = df.drop(...)\n",
    "# y = df[...]\n",
    "\n",
    "# Деректерді бөлу: 70% оқытуға, 30% тестілеуге, random_state=42\n",
    "# X_train, X_test, y_train, y_test = train_test_split(...)"
   ]
  },
  {
   "cell_type": "markdown",
   "id": "lab6-v1-step5-md",
   "metadata": {},
   "source": [
    "#### 5-8 қадамдар: Модельді оқыту, бағалау және талдау"
   ]
  },
  {
   "cell_type": "code",
   "execution_count": null,
   "id": "lab6-v1-code5",
   "metadata": {},
   "outputs": [],
   "source": [
    "from sklearn.linear_model import LinearRegression\n",
    "from sklearn.metrics import mean_absolute_error, mean_squared_error, r2_score\n",
    "\n",
    "# --- СІЗДІҢ КОДЫҢЫЗ ОСЫ ЖЕРДЕ ---\n",
    "\n",
    "# 1. LinearRegression моделін құрып, оқытыңыз\n",
    "# model = ...\n",
    "# model.fit(...)\n",
    "\n",
    "# 2. Тест іріктемесінде болжамдар жасаңыз\n",
    "# y_pred = ...\n",
    "\n",
    "# 3. MAE, RMSE, R^2 метрикаларын есептеп, экранға шығарыңыз\n",
    "# print(f\"MAE: {...}\")\n",
    "# ...\n",
    "\n",
    "# 4. Қалдықтар (y_test - y_pred) мен болжанған мәндер (y_pred) арасындағы графикті құрыңыз\n",
    "# residuals = ...\n",
    "# sns.scatterplot(...)\n",
    "# plt.axhline(y=0, color='r', linestyle='--')\n",
    "# plt.show()"
   ]
  },
  {
   "cell_type": "markdown",
   "id": "lab6-v1-q4",
   "metadata": {},
   "source": [
    "**Қорытынды сұрақ:** Сіздің ойыңызша, модель тапсырманы қаншалықты жақсы орындады? R² мәні нені білдіреді? Қалдықтар графигінде қандай да бір ауытқулар бар ма?\n",
    "\n",
    "**Сіздің жауабыңыз:** ..."
   ]
  },
  {
   "cell_type": "markdown",
   "id": "lab6-var2-md",
   "metadata": {},
   "source": [
    "--- \n",
    "### 2-нұсқа: Интернет-дүкен клиенттерінің жылдық шығындарын болжау\n",
    "\n",
    "**Контекст:** Сіз электрондық коммерциямен айналысатын компанияда талдаушысыз. Сізге клиенттердің жылдық шығындарын арттыру үшін күш-жігерді қайда бағыттау керектігін түсіну қажет: мобильді қосымшаны жақсартуға ма, әлде веб-сайтқа ма.\n",
    "\n",
    "**Деректер:** `Ecommerce Customers.csv`.\n",
    "*   **Нысаналы айнымалы:** `Yearly Amount Spent`.\n",
    "*   **Белгілер:** `Avg. Session Length`, `Time on App`, `Time on Website`, `Length of Membership`.\n",
    "*   **Ескертпе:** `Email` және `Address` сияқты бағандар әрбір клиент үшін бірегей идентификаторлар болып табылады және модель үшін жалпылама ақпарат бермейді, сондықтан біз оларды пайдаланбаймыз.\n",
    "\n",
    "*Деректерді тікелей сілтеме бойынша жүктеңіз: `https://raw.githubusercontent.com/yuliya-sabirova/ml-course/main/data/Ecommerce_Customers.csv`*"
   ]
  },
  {
   "cell_type": "markdown",
   "id": "lab6-v2-step1-md",
   "metadata": {},
   "source": [
    "#### 1-қадам: Деректерді жүктеу және бастапқы талдау"
   ]
  },
  {
   "cell_type": "code",
   "execution_count": null,
   "id": "lab6-v2-code1",
   "metadata": {},
   "outputs": [],
   "source": [
    "import pandas as pd\n",
    "import seaborn as sns\n",
    "import numpy as np\n",
    "import matplotlib.pyplot as plt\n",
    "\n",
    "# --- СІЗДІҢ КОДЫҢЫЗ ОСЫ ЖЕРДЕ ---\n",
    "# Жоғарыдағы сілтеме бойынша деректерді 'df' DataFrame-іне жүктеңіз\n",
    "# url = '...'\n",
    "# df = pd.read_csv(url)\n",
    "\n",
    "# Алғашқы 5 жолды және деректер туралы ақпаратты шығарыңыз (.info())\n",
    "# print(df.head())\n",
    "# print(df.info())"
   ]
  },
  {
   "cell_type": "markdown",
   "id": "lab6-v2-step2-md",
   "metadata": {},
   "source": [
    "#### 2-қадам: Деректерді зерттеу талдауы (EDA)\n",
    "\n",
    "Деректер жиынтығындағы барлық айнымалылар арасындағы өзара байланысты визуализациялау үшін `pairplot` қолданамыз."
   ]
  },
  {
   "cell_type": "code",
   "execution_count": null,
   "id": "lab6-v2-code2",
   "metadata": {},
   "outputs": [],
   "source": [
    "# --- СІЗДІҢ КОДЫҢЫЗ ОСЫ ЖЕРДЕ ---\n",
    "# sns.pairplot(...)"
   ]
  },
  {
   "cell_type": "markdown",
   "id": "lab6-v2-q1",
   "metadata": {},
   "source": [
    "**Сұрақ:** `pairplot` бойынша, қай белгі `Yearly Amount Spent`-пен ең күшті корреляцияланады?\n",
    "\n",
    "**Сіздің жауабыңыз:** ..."
   ]
  },
  {
   "cell_type": "markdown",
   "id": "lab6-v2-step3-md",
   "metadata": {},
   "source": [
    "#### 3-8 қадамдар: Модельді дайындау, оқыту және бағалау\n",
    "\n",
    "1-нұсқадағы сияқты қадамдарды орындаңыз."
   ]
  },
  {
   "cell_type": "code",
   "execution_count": null,
   "id": "lab6-v2-code3",
   "metadata": {},
   "outputs": [],
   "source": [
    "from sklearn.model_selection import train_test_split\n",
    "from sklearn.linear_model import LinearRegression\n",
    "from sklearn.metrics import mean_absolute_error, mean_squared_error, r2_score\n",
    "\n",
    "# --- СІЗДІҢ КОДЫҢЫЗ ОСЫ ЖЕРДЕ ---\n",
    "\n",
    "# 1. X (белгілер) және y (нысаналы айнымалы) айнымалыларын құрыңыз\n",
    "# Нұсқау: белгілер - 'Avg. Session Length', 'Time on App', 'Time on Website', 'Length of Membership'\n",
    "# X = ...\n",
    "# y = ...\n",
    "\n",
    "# 2. Деректерді оқыту және тест іріктемелеріне бөліңіз (test_size=0.3, random_state=42)\n",
    "# X_train, X_test, y_train, y_test = train_test_split(...)\n",
    "\n",
    "# 3. LinearRegression моделін импорттаңыз, құрыңыз және оқытыңыз\n",
    "# model = ...\n",
    "# model.fit(...)\n",
    "\n",
    "# 4. Талдауға ыңғайлы болу үшін модель коэффициенттерін DataFrame түрінде шығарыңыз\n",
    "# coeffs = pd.DataFrame(...)\n",
    "# print(coeffs)\n",
    "\n",
    "# 5. Болжамдар жасап, модельді бағалаңыз (MAE, RMSE, R^2)\n",
    "# ...\n",
    "\n",
    "# 6. Қалдықтар графигін құрыңыз\n",
    "# ..."
   ]
  },
  {
   "cell_type": "markdown",
   "id": "lab6-v2-q2",
   "metadata": {},
   "source": [
    "**Қорытынды сұрақ:** `Time on App` және `Time on Website` коэффициенттерін салыстырыңыз. Модель бойынша, осы каналдардың қайсысы жылдық шығындарды арттыру үшін маңыздырақ? Сіз бизнеске қандай ұсыныс берер едіңіз: ақшаны қосымшаны дамытуға ма, әлде сайтты дамытуға ма салу керек?\n",
    "\n",
    "**Сіздің жауабыңыз:** ..."
   ]
  },
  {
   "cell_type": "markdown",
   "id": "lab6-var3-md",
   "metadata": {},
   "source": [
    "--- \n",
    "### 3-нұсқа: Медициналық шығындарды болжау\n",
    "\n",
    "**Контекст:** Сіз сақтандыру компаниясында жұмыс істейсіз. Сізге клиенттердің медициналық шығындарын болжайтын модель құру және оларға қандай факторлар (жас, темекі шегу және т.б.) қатты әсер ететінін түсіну қажет.\n",
    "\n",
    "**Деректер:** `insurance.csv`.\n",
    "*   **Нысаналы айнымалы:** `charges`.\n",
    "*   **Белгілер:** `age`, `sex`, `bmi`, `children`, `smoker`, `region`.\n",
    "\n",
    "*Деректерді тікелей сілтеме бойынша жүктеңіз: `https://raw.githubusercontent.com/yuliya-sabirova/ml-course/main/data/insurance.csv`*"
   ]
  },
  {
   "cell_type": "markdown",
   "id": "lab6-v3-step1-md",
   "metadata": {},
   "source": [
    "#### 1-қадам: Деректерді жүктеу және түрлендіру\n",
    "\n",
    "Бұл деректер жиынтығында категориялық белгілер бар (`sex`, `smoker`, `region`). Сызықтық регрессия олармен тікелей жұмыс істей алмайды, оларды сандарға түрлендіру керек. Біз мұны **One-Hot Encoding** көмегімен жасаймыз."
   ]
  },
  {
   "cell_type": "code",
   "execution_count": null,
   "id": "lab6-v3-code1",
   "metadata": {},
   "outputs": [],
   "source": [
    "import pandas as pd\n",
    "import seaborn as sns\n",
    "import numpy as np\n",
    "import matplotlib.pyplot as plt\n",
    "\n",
    "# --- СІЗДІҢ КОДЫҢЫЗ ОСЫ ЖЕРДЕ ---\n",
    "# Сілтеме бойынша деректерді 'df' DataFrame-іне жүктеңіз\n",
    "# url_ins = '...'\n",
    "# df = pd.read_csv(url_ins)\n",
    "\n",
    "# --- СІЗДІҢ КОДЫҢЫЗ ОСЫ ЖЕРДЕ ---\n",
    "# Категориялық белгілерді түрлендіру үшін pd.get_dummies() қолданыңыз.\n",
    "# Мультиколлинеарлықты болдырмау үшін drop_first=True деп орнатыңыз.\n",
    "# df_processed = pd.get_dummies(df, drop_first=True)\n",
    "\n",
    "# Түрлендірудің сәтті болғанына көз жеткізу үшін алғашқы 5 жолды және деректер туралы ақпаратты шығарыңыз\n",
    "# print(df_processed.head())\n",
    "# print(df_processed.info())"
   ]
  },
  {
   "cell_type": "markdown",
   "id": "lab6-v3-step2-md",
   "metadata": {},
   "source": [
    "#### 2-8 қадамдар: Модельді дайындау, оқыту және бағалау\n",
    "\n",
    "Енді барлық деректер сандық болғандықтан, 1-нұсқадағы сияқты барлық қадамдарды қайталаңыз. `df_processed` DataFrame-імен жұмыс істеңіз."
   ]
  },
  {
   "cell_type": "code",
   "execution_count": null,
   "id": "lab6-v3-code2",
   "metadata": {},
   "outputs": [],
   "source": [
    "from sklearn.model_selection import train_test_split\n",
    "from sklearn.linear_model import LinearRegression\n",
    "from sklearn.metrics import mean_absolute_error, mean_squared_error, r2_score\n",
    "\n",
    "# --- СІЗДІҢ КОДЫҢЫЗ ОСЫ ЖЕРДЕ ---\n",
    "\n",
    "# 1. Өңделген 'df_processed' DataFrame-інен X және y айнымалыларын құрыңыз\n",
    "# X = df_processed.drop('charges', axis=1)\n",
    "# y = ...\n",
    "\n",
    "# 2. Деректерді оқыту және тест іріктемелеріне бөліңіз (test_size=0.3, random_state=42)\n",
    "# ...\n",
    "\n",
    "# 3. LinearRegression моделін оқытыңыз\n",
    "# ...\n",
    "\n",
    "# 4. Модель коэффициенттерін шығарыңыз. smoker_yes белгісінің салмағына назар аударыңыз.\n",
    "# coeffs = pd.DataFrame(...)\n",
    "# print(coeffs)\n",
    "\n",
    "# 5. Модельді бағалаңыз (MAE, RMSE, R^2)\n",
    "# ...\n",
    "\n",
    "# 6. Қалдықтар графигін құрыңыз\n",
    "# ..."
   ]
  },
  {
   "cell_type": "markdown",
   "id": "lab6-v3-q1",
   "metadata": {},
   "source": [
    "**Қорытынды сұрақ:** Модель коэффициенттеріне сүйенсек, қай белгі медициналық шығындардың артуына ең үлкен үлес қосады? Бұл күтілген нәтиже ме?\n",
    "\n",
    "**Сіздің жауабыңыз:** ..."
   ]
  }
 ],
 "metadata": {
  "kernelspec": {
   "display_name": "Python [conda env:base] *",
   "language": "python",
   "name": "conda-base-py"
  },
  "language_info": {
   "codemirror_mode": {
    "name": "ipython",
    "version": 3
   },
   "file_extension": ".py",
   "mimetype": "text/x-python",
   "name": "python",
   "nbconvert_exporter": "python",
   "pygments_lexer": "ipython3",
   "version": "3.13.5"
  }
 },
 "nbformat": 4,
 "nbformat_minor": 5
}
