{
 "cells": [
  {
   "cell_type": "markdown",
   "metadata": {},
   "source": [
    "# №4 Семинар: Pandas-пен жетілдірілген практика\n",
    "\n",
    "Курс: Машиналық оқыту"
   ]
  },
  {
   "cell_type": "markdown",
   "metadata": {},
   "source": [
    "### Студент туралы ақпарат\n",
    "\n",
    "Аты-жөні: <студент осы жерге өз деректерін жазуы керек>\n",
    "\n",
    "Тобы: <студент осы жерге өз деректерін жазуы керек>\n",
    "\n",
    "### Бағалау саясаты\n",
    "\n",
    "Жұмыс үшін максималды баға: 6 балл.\n",
    "\n",
    "Семинар мақсаты: Зертханалық жұмысты орындауға дайындалу үшін Pandas-пен жұмыс істеудің жетілдірілген дағдыларын: бос орындарды өңдеуді, деректерді агрегаттауды және кестелерді біріктіруді іс жүзінде бекіту."
   ]
  },
  {
   "cell_type": "markdown",
   "metadata": {},
   "source": [
    "---"
   ]
  },
  {
   "cell_type": "markdown",
   "metadata": {},
   "source": [
    "## Қысқаша теориялық анықтама\n",
    "\n",
    "### Бос орындарды өңдеу\n",
    "- `.isnull().sum()`: Әр бағандағы бос орындар санын санау.\n",
    "- `.dropna()`: Бос орындары бар жолдарды жою. Бағандарды жою үшін `axis=1`.\n",
    "- `.fillna(value)`: Бос орындарды берілген `value` мәнімен толтыру.\n",
    "\n",
    "### Group By\n",
    "- `df.groupby('Категориялық_баған')`: GroupBy объектісін құрады.\n",
    "- `df.groupby('Санат').mean()`: Әр топ үшін орташа мәнді есептейді.\n",
    "- `df.groupby('Санат')['Сандық_баған'].sum()`: Әр топ үшін нақты бағандағы қосындыны есептейді.\n",
    "\n",
    "### .apply() әдісі\n",
    "- `df['Баған'].apply(функция_аты)`: Функцияны бағанның әрбір элементіне қолданады.\n",
    "- `df['Баған'].apply(lambda x: x * 2)`: Lambda-функцияны қолданады.\n",
    "\n",
    "### DataFrame біріктіру\n",
    "- `pd.concat([df1, df2])`: Кестелерді тігінен (`axis=0`) 'желімдейді'.\n",
    "- `pd.merge(left_df, right_df, how='inner', on='кілттік_баған')`: Кестелерді кілт бойынша біріктіреді (SQL JOIN аналогы)."
   ]
  },
  {
   "cell_type": "markdown",
   "metadata": {},
   "source": [
    "---"
   ]
  },
  {
   "cell_type": "markdown",
   "metadata": {},
   "source": [
    "## Практикалық тапсырмалар\n",
    "\n",
    "Төменде қалың шрифтпен көрсетілген тапсырмаларды орындаңыз."
   ]
  },
  {
   "cell_type": "markdown",
   "metadata": {},
   "source": [
    "#### 1. Дайындық және бос орындармен жұмыс\n",
    "Біз `movie_scores.csv` деректер жинағымен жұмыс істейтін боламыз."
   ]
  },
  {
   "cell_type": "code",
   "execution_count": null,
   "metadata": {},
   "outputs": [],
   "source": [
    "import pandas as pd\n",
    "import numpy as np\n",
    "df_movies = pd.read_csv('movie_scores.csv')"
   ]
  },
  {
   "cell_type": "markdown",
   "metadata": {},
   "source": [
    "1.1. DataFrame-ді шығарыңыз. Онда толығымен бос қанша жол бар?"
   ]
  },
  {
   "cell_type": "code",
   "execution_count": null,
   "metadata": {},
   "outputs": [],
   "source": [
    "# Сіздің кодыңыз осы жерде\n"
   ]
  },
  {
   "cell_type": "markdown",
   "metadata": {},
   "source": [
    "1.2. БАРЛЫҚ мәндері бос орын болып табылатын барлық жолдарды жойыңыз."
   ]
  },
  {
   "cell_type": "code",
   "execution_count": null,
   "metadata": {},
   "outputs": [],
   "source": [
    "# Сіздің кодыңыз осы жерде\n"
   ]
  },
  {
   "cell_type": "markdown",
   "metadata": {},
   "source": [
    "1.3. 'first_name' немесе 'last_name' бағандарында КЕМІНДЕ БІР бос орны бар барлық жолдарды жойыңыз."
   ]
  },
  {
   "cell_type": "code",
   "execution_count": null,
   "metadata": {},
   "outputs": [],
   "source": [
    "# Сіздің кодыңыз осы жерде\n"
   ]
  },
  {
   "cell_type": "markdown",
   "metadata": {},
   "source": [
    "1.4. `pre_movie_score` және `post_movie_score` үшін орташа мәнді есептеп, солармен тиісті бос орындарды толтырыңыз."
   ]
  },
  {
   "cell_type": "code",
   "execution_count": null,
   "metadata": {},
   "outputs": [],
   "source": [
    "# Сіздің кодыңыз осы жерде\n"
   ]
  },
  {
   "cell_type": "markdown",
   "metadata": {},
   "source": [
    "#### 2. Group By және агрегация\n",
    "Енді `tips.csv` деректер жинағымен жұмыс істейміз."
   ]
  },
  {
   "cell_type": "code",
   "execution_count": null,
   "metadata": {},
   "outputs": [],
   "source": [
    "df_tips = pd.read_csv('tips.csv')"
   ]
  },
  {
   "cell_type": "markdown",
   "metadata": {},
   "source": [
    "2.1. Аптаның әр күні (`day`) үшін орташа `total_bill` қандай?"
   ]
  },
  {
   "cell_type": "code",
   "execution_count": null,
   "metadata": {},
   "outputs": [],
   "source": [
    "# Сіздің кодыңыз осы жерде\n"
   ]
  },
  {
   "cell_type": "markdown",
   "metadata": {},
   "source": [
    "2.2. Ерлер мен әйелдер (`sex`) қалдырған ең үлкен шайпұл (`tip`) мөлшері қандай?"
   ]
  },
  {
   "cell_type": "code",
   "execution_count": null,
   "metadata": {},
   "outputs": [],
   "source": [
    "# Сіздің кодыңыз осы жерде\n"
   ]
  },
  {
   "cell_type": "markdown",
   "metadata": {},
   "source": [
    "2.3. Деректерді `day` және `time` бойынша топтастырып, әр топ үшін `total_bill` бойынша толық статистиканы шығарыңыз."
   ]
  },
  {
   "cell_type": "code",
   "execution_count": null,
   "metadata": {},
   "outputs": [],
   "source": [
    "# Сіздің кодыңыз осы жерде\n"
   ]
  },
  {
   "cell_type": "markdown",
   "metadata": {},
   "source": [
    "#### 3. .apply() әдісі\n",
    "3.1. `get_tip_category` функциясын жасаңыз, ол шайпұл мөлшерін (`tip`) қабылдап, келесіні қайтарады:\n",
    "- 'Төмен', егер `tip < 2`\n",
    "- 'Орташа', егер `2 <= tip <= 5`\n",
    "- 'Жоғары', егер `tip > 5`\n",
    "\n",
    "Осы функцияны `df_tips`-те `tip_category` атты жаңа баған құру үшін қолданыңыз."
   ]
  },
  {
   "cell_type": "code",
   "execution_count": null,
   "metadata": {},
   "outputs": [],
   "source": [
    "# Сіздің кодыңыз осы жерде\n"
   ]
  },
  {
   "cell_type": "markdown",
   "metadata": {},
   "source": [
    "#### 4. DataFrame біріктіру\n",
    "4.1. Төменде көрсетілгендей екі DataFrame құрыңыз.\n",
    "Осы кестелерді `id` бағаны бойынша ішкі (`inner`) және сол жақты (`left`) біріктіруді орындаңыз."
   ]
  },
  {
   "cell_type": "code",
   "execution_count": null,
   "metadata": {},
   "outputs": [],
   "source": [
    "# DataFrame құру\n",
    "df1 = pd.DataFrame({'id': [1, 2, 3], 'customer': ['Alice', 'Bob', 'Charlie']})\n",
    "df2 = pd.DataFrame({'id': [1, 2, 4], 'order': ['Pizza', 'Pasta', 'Salad']})\n",
    "\n",
    "# Inner merge\n",
    "# Сіздің кодыңыз осы жерде\n",
    "\n",
    "# Left merge\n",
    "# Сіздің кодыңыз осы жерде\n"
   ]
  }
 ],
 "metadata": {
  "kernelspec": {
   "display_name": "Python [conda env:base] *",
   "language": "python",
   "name": "conda-base-py"
  },
  "language_info": {
   "codemirror_mode": {
    "name": "ipython",
    "version": 3
   },
   "file_extension": ".py",
   "mimetype": "text/x-python",
   "name": "python",
   "nbconvert_exporter": "python",
   "pygments_lexer": "ipython3",
   "version": "3.13.5"
  }
 },
 "nbformat": 4,
 "nbformat_minor": 4
}
