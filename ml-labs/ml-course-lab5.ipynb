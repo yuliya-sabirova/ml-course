{
 "cells": [
  {
   "cell_type": "markdown",
   "metadata": {},
   "source": [
    "# Лабораторная работа 5: Разведочный анализ данных (EDA) заявителей на кредитную карту\n",
    "\n",
    "**Цель работы:** Закрепить навыки построения и анализа графиков с помощью Seaborn на новом наборе данных. Научиться выполнять полный цикл мини-исследования: от подготовки данных до формулирования выводов.\n",
    "\n",
    "**Оценка:** 10 баллов."
   ]
  },
  {
   "cell_type": "markdown",
   "metadata": {},
   "source": [
    "## Введение\n",
    "\n",
    "Представьте, что вы — аналитик данных в банке. Ваша задача — провести первичный разведочный анализ (EDA) данных о клиентах, подавших заявку на кредитную карту. Руководство хочет получить общее представление о портрете клиента: его доход, образование, семейное положение и т.д. Ваша работа станет основой для будущей модели кредитного скоринга.\n",
    "\n",
    "*Примечание: Для полноценного анализа кредитного риска необходим второй файл, `credit_record.csv`, который содержит информацию о платежной дисциплине. В рамках данной работы мы сфокусируемся только на анализе анкетных данных из `application_record.csv`.*"
   ]
  },
  {
   "cell_type": "code",
   "execution_count": null,
   "metadata": {},
   "outputs": [],
   "source": [
    "import pandas as pd\n",
    "import numpy as np\n",
    "import matplotlib.pyplot as plt\n",
    "import seaborn as sns\n",
    "\n",
    "# Команда для отображения графиков в ноутбуке\n",
    "%matplotlib inline"
   ]
  },
  {
   "cell_type": "markdown",
   "metadata": {},
   "source": [
    "## Этап 1. Подготовка данных (1 балл)\n",
    "\n",
    "Прежде чем строить графики, данные нужно подготовить."
   ]
  },
  {
   "cell_type": "markdown",
   "metadata": {},
   "source": [
    "**1.1. Загрузите файл `application_record.csv` в pandas DataFrame.**"
   ]
  },
  {
   "cell_type": "code",
   "execution_count": null,
   "metadata": {},
   "outputs": [],
   "source": [
    "df = pd.read_csv('application_record.csv')"
   ]
  },
  {
   "cell_type": "markdown",
   "metadata": {},
   "source": [
    "**1.2. Изучите данные с помощью `.info()` и `.head()`.**"
   ]
  },
  {
   "cell_type": "code",
   "execution_count": null,
   "metadata": {},
   "outputs": [],
   "source": [
    "df.head()"
   ]
  },
  {
   "cell_type": "code",
   "execution_count": null,
   "metadata": {},
   "outputs": [],
   "source": [
    "df.info()"
   ]
  },
  {
   "cell_type": "markdown",
   "metadata": {},
   "source": [
    "**1.3. Преобразование признаков:** Колонки `DAYS_BIRTH` (возраст) и `DAYS_EMPLOYED` (стаж) содержат отрицательные значения в днях. Это неудобно для анализа. Создайте две новые колонки:\n",
    "*   `AGE_YEARS`: возраст в годах (положительное значение). Формула: `- DAYS_BIRTH / 365`.\n",
    "*   `EMPLOYMENT_YEARS`: стаж работы в годах. Создайте эту колонку так: если значение в `DAYS_EMPLOYED` отрицательное, примените формулу `- DAYS_EMPLOYED / 365`. Если оно положительное (означает \"безработный\"), присвойте значение 0.\n",
    "\n",
    "    **Подсказка:** Для этого удобно использовать `np.where` или метод `.loc` в pandas. Например:\n",
    "    ```python\n",
    "    df['EMPLOYMENT_YEARS'] = np.where(df['DAYS_EMPLOYED'] < 0, -df['DAYS_EMPLOYED'] / 365, 0)\n",
    "    ```"
   ]
  },
  {
   "cell_type": "code",
   "execution_count": null,
   "metadata": {},
   "outputs": [],
   "source": [
    "# Ваш код для создания колонки AGE_YEARS\n",
    "\n",
    "# Ваш код для создания колонки EMPLOYMENT_YEARS"
   ]
  },
  {
   "cell_type": "markdown",
   "metadata": {},
   "source": [
    "## Этап 2. Одномерный анализ: Изучаем признаки по отдельности (3 балла)"
   ]
  },
  {
   "cell_type": "markdown",
   "metadata": {},
   "source": [
    "### 2.1. Анализ образования (1 балл)\n",
    "\n",
    "*   С помощью `countplot` визуализируйте количество клиентов для каждого уровня образования (`NAME_EDUCATION_TYPE`)."
   ]
  },
  {
   "cell_type": "code",
   "execution_count": null,
   "metadata": {},
   "outputs": [],
   "source": [
    "# Чтобы подписи не накладывались друг на друга, используем plt.xticks\n",
    "plt.figure(figsize=(10,6))\n",
    "# Ваш код для countplot\n",
    "plt.xticks(rotation=45);"
   ]
  },
  {
   "cell_type": "markdown",
   "metadata": {},
   "source": [
    "**Вывод:** Какой уровень образования является самым распространенным среди заявителей?\n",
    "\n",
    "*Ваш ответ здесь...*"
   ]
  },
  {
   "cell_type": "markdown",
   "metadata": {},
   "source": [
    "### 2.2. Анализ дохода (2 балла)\n",
    "\n",
    "1.  Постройте гистограмму с кривой плотности (`histplot` с `kde=True`) для годового дохода (`AMT_INCOME_TOTAL`).\n",
    "2.  **Проблема:** Вы увидите, что из-за очень больших доходов (выбросов) график неинформативен. Создайте новый DataFrame, отфильтровав только тех клиентов, чей доход **меньше 400 000**.\n",
    "3.  Постройте гистограмму по отфильтрованным данным."
   ]
  },
  {
   "cell_type": "code",
   "execution_count": null,
   "metadata": {},
   "outputs": [],
   "source": [
    "# Код для первоначальной гистограммы (неинформативной)"
   ]
  },
  {
   "cell_type": "code",
   "execution_count": null,
   "metadata": {},
   "outputs": [],
   "source": [
    "# Код для фильтрации и создания нового DataFrame\n",
    "df_filtered_income = None # Замените None на ваш код"
   ]
  },
  {
   "cell_type": "code",
   "execution_count": null,
   "metadata": {},
   "outputs": [],
   "source": [
    "# Код для гистограммы по отфильтрованным данным"
   ]
  },
  {
   "cell_type": "markdown",
   "metadata": {},
   "source": [
    "**Вывод:** Опишите распределение дохода. Является ли оно симметричным? Куда смещено большинство значений (в сторону низких или высоких доходов)?\n",
    "\n",
    "*Ваш ответ здесь...*"
   ]
  },
  {
   "cell_type": "markdown",
   "metadata": {},
   "source": [
    "## Этап 3. Двумерный анализ: Ищем взаимосвязи (5 баллов)"
   ]
  },
  {
   "cell_type": "markdown",
   "metadata": {},
   "source": [
    "### 3.1. Связь возраста и стажа (2 балла)\n",
    "\n",
    "1.  Создайте DataFrame `df_employed`, в который войдут только работающие клиенты (те, у кого `DAYS_EMPLOYED` < 0).\n",
    "2.  С помощью `scatterplot` постройте диаграмму рассеяния между вашими новыми колонками `AGE_YEARS` и `EMPLOYMENT_YEARS`."
   ]
  },
  {
   "cell_type": "code",
   "execution_count": null,
   "metadata": {},
   "outputs": [],
   "source": [
    "# Код для фильтрации работающих клиентов\n",
    "df_employed = None # Замените None на ваш код"
   ]
  },
  {
   "cell_type": "code",
   "execution_count": null,
   "metadata": {},
   "outputs": [],
   "source": [
    "# Код для scatterplot\n",
    "plt.figure(figsize=(10,7))\n",
    "# Ваш код здесь"
   ]
  },
  {
   "cell_type": "markdown",
   "metadata": {},
   "source": [
    "**Вывод:** Есть ли очевидная связь между возрастом и стажем? Логична ли она? Есть ли на графике что-то необычное?\n",
    "\n",
    "*Ваш ответ здесь...*"
   ]
  },
  {
   "cell_type": "markdown",
   "metadata": {},
   "source": [
    "### 3.2. Доход и тип жилья (3 балла)\n",
    "\n",
    "*   Используя отфильтрованный по доходу DataFrame (`df_filtered_income` из Этапа 2), постройте `boxplot` для сравнения распределений дохода (`AMT_INCOME_TOTAL`) в зависимости от типа жилья (`NAME_HOUSING_TYPE`).\n",
    "*   Для большей наглядности добавьте `hue='FLAG_OWN_REALTY'`, чтобы увидеть, как влияет наличие собственной недвижимости."
   ]
  },
  {
   "cell_type": "code",
   "execution_count": null,
   "metadata": {},
   "outputs": [],
   "source": [
    "plt.figure(figsize=(12, 8))\n",
    "# Ваш код для boxplot здесь\n",
    "plt.xticks(rotation=30);"
   ]
  },
  {
   "cell_type": "markdown",
   "metadata": {},
   "source": [
    "**Сделайте развернутый вывод:**\n",
    "*   У какой категории по типу жилья самый высокий медианный доход?\n",
    "*   Сравните квартиросъемщиков (`With parents`) и владельцев дома/квартиры (`House / apartment`). У кого доход в среднем выше?\n",
    "*   Влияет ли факт владения недвижимостью (`FLAG_OWN_REALTY`) на распределение доходов внутри каждой группы?\n",
    "\n",
    "*Ваш ответ здесь...*"
   ]
  },
  {
   "cell_type": "markdown",
   "metadata": {},
   "source": [
    "## Этап 4. Общий вывод (1 балл)\n",
    "\n",
    "На основе всех построенных графиков напишите **итоговый вывод** (3-4 предложения). Опишите \"типичного\" клиента, подающего заявку на кредитную карту. Какие ключевые особенности или зависимости в данных вы обнаружили?\n",
    "\n",
    "*Ваш итоговый вывод здесь...*"
   ]
  }
 ],
 "metadata": {
  "kernelspec": {
   "display_name": "Python [conda env:base] *",
   "language": "python",
   "name": "conda-base-py"
  },
  "language_info": {
   "codemirror_mode": {
    "name": "ipython",
    "version": 3
   },
   "file_extension": ".py",
   "mimetype": "text/x-python",
   "name": "python",
   "nbconvert_exporter": "python",
   "pygments_lexer": "ipython3",
   "version": "3.13.5"
  }
 },
 "nbformat": 4,
 "nbformat_minor": 4
}
